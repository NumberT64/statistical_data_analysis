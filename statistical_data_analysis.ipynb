{
 "cells": [
  {
   "cell_type": "markdown",
   "id": "fcff1eb2",
   "metadata": {},
   "source": [
    "# Статистический анализ данных сервиса аренды самокатов"
   ]
  },
  {
   "cell_type": "markdown",
   "id": "1f701753",
   "metadata": {},
   "source": [
    "В работе необходимо проанализировать данные сервиса аренды самокатов GoFast. У нас в распоряжении данные о некоторых пользователях из нескольких городов, а также об их поездках. Необходимо проанализировать данные и проверьте некоторые гипотезы, которые могут помочь бизнесу вырасти.\n",
    "\n",
    "Чтобы совершать поездки по городу, пользователи сервиса GoFast пользуются мобильным приложением. \n",
    "\n",
    "Сервисом можно пользоваться:\n",
    "* без подписки\n",
    "   * абонентская плата отсутствует;\n",
    "   * стоимость одной минуты поездки — 8 рублей;\n",
    "   * стоимость старта (начала поездки) — 50 рублей;\n",
    "* с подпиской Ultra\n",
    "   * абонентская плата — 199 рублей в месяц;\n",
    "   * стоимость одной минуты поездки — 6 рублей;\n",
    "   * стоимость старта — бесплатно."
   ]
  },
  {
   "cell_type": "markdown",
   "id": "c42cbe00",
   "metadata": {},
   "source": [
    "## Загрузка данных"
   ]
  },
  {
   "cell_type": "markdown",
   "id": "f3b9c593",
   "metadata": {},
   "source": [
    "Импортируем необходимые для работы библиотеки:"
   ]
  },
  {
   "cell_type": "code",
   "execution_count": 76,
   "id": "eff9f206",
   "metadata": {},
   "outputs": [],
   "source": [
    "import pandas as pd\n",
    "from scipy import stats as st\n",
    "import matplotlib.pyplot as plt\n",
    "import numpy as np\n",
    "from scipy.stats import binom\n",
    "import seaborn as sns"
   ]
  },
  {
   "cell_type": "markdown",
   "id": "8324ff6e",
   "metadata": {},
   "source": [
    "Загрузим данные из файлов"
   ]
  },
  {
   "cell_type": "code",
   "execution_count": 77,
   "id": "04a87b5c",
   "metadata": {},
   "outputs": [],
   "source": [
    "users = pd.read_csv('data/users_go.csv') #Данные о пользователях\n",
    "rides = pd.read_csv('data/rides_go.csv') #Данные о поезках\n",
    "subs =  pd.read_csv('data/subscriptions_go.csv') #Данные о подписках"
   ]
  },
  {
   "cell_type": "markdown",
   "id": "f1a4bc4a",
   "metadata": {},
   "source": [
    "Изучим общую информацио о загруженных данных"
   ]
  },
  {
   "cell_type": "markdown",
   "id": "9c53f7e0",
   "metadata": {},
   "source": [
    "Изучим информацию о пользователях"
   ]
  },
  {
   "cell_type": "code",
   "execution_count": 78,
   "id": "100c7935",
   "metadata": {},
   "outputs": [
    {
     "data": {
      "text/html": [
       "<div>\n",
       "<style scoped>\n",
       "    .dataframe tbody tr th:only-of-type {\n",
       "        vertical-align: middle;\n",
       "    }\n",
       "\n",
       "    .dataframe tbody tr th {\n",
       "        vertical-align: top;\n",
       "    }\n",
       "\n",
       "    .dataframe thead th {\n",
       "        text-align: right;\n",
       "    }\n",
       "</style>\n",
       "<table border=\"1\" class=\"dataframe\">\n",
       "  <thead>\n",
       "    <tr style=\"text-align: right;\">\n",
       "      <th></th>\n",
       "      <th>user_id</th>\n",
       "      <th>name</th>\n",
       "      <th>age</th>\n",
       "      <th>city</th>\n",
       "      <th>subscription_type</th>\n",
       "    </tr>\n",
       "  </thead>\n",
       "  <tbody>\n",
       "    <tr>\n",
       "      <th>0</th>\n",
       "      <td>1</td>\n",
       "      <td>Кира</td>\n",
       "      <td>22</td>\n",
       "      <td>Тюмень</td>\n",
       "      <td>ultra</td>\n",
       "    </tr>\n",
       "    <tr>\n",
       "      <th>1</th>\n",
       "      <td>2</td>\n",
       "      <td>Станислав</td>\n",
       "      <td>31</td>\n",
       "      <td>Омск</td>\n",
       "      <td>ultra</td>\n",
       "    </tr>\n",
       "    <tr>\n",
       "      <th>2</th>\n",
       "      <td>3</td>\n",
       "      <td>Алексей</td>\n",
       "      <td>20</td>\n",
       "      <td>Москва</td>\n",
       "      <td>ultra</td>\n",
       "    </tr>\n",
       "    <tr>\n",
       "      <th>3</th>\n",
       "      <td>4</td>\n",
       "      <td>Константин</td>\n",
       "      <td>26</td>\n",
       "      <td>Ростов-на-Дону</td>\n",
       "      <td>ultra</td>\n",
       "    </tr>\n",
       "    <tr>\n",
       "      <th>4</th>\n",
       "      <td>5</td>\n",
       "      <td>Адель</td>\n",
       "      <td>28</td>\n",
       "      <td>Омск</td>\n",
       "      <td>ultra</td>\n",
       "    </tr>\n",
       "  </tbody>\n",
       "</table>\n",
       "</div>"
      ],
      "text/plain": [
       "   user_id        name  age            city subscription_type\n",
       "0        1        Кира   22          Тюмень             ultra\n",
       "1        2   Станислав   31            Омск             ultra\n",
       "2        3     Алексей   20          Москва             ultra\n",
       "3        4  Константин   26  Ростов-на-Дону             ultra\n",
       "4        5       Адель   28            Омск             ultra"
      ]
     },
     "execution_count": 78,
     "metadata": {},
     "output_type": "execute_result"
    }
   ],
   "source": [
    "users.head(5) #Выведем первые 5 строк датафрейма с пользователями"
   ]
  },
  {
   "cell_type": "markdown",
   "id": "64f59e04",
   "metadata": {},
   "source": [
    "Как можно заметить данные по пользователям содержат:\n",
    "* ID пользователя;\n",
    "* Имя пользователя;\n",
    "* Возраст пользоваетеля;\n",
    "* Город, в котором пользователь живет;\n",
    "* Тип подписки."
   ]
  },
  {
   "cell_type": "code",
   "execution_count": 79,
   "id": "ce0bc79e",
   "metadata": {},
   "outputs": [
    {
     "name": "stdout",
     "output_type": "stream",
     "text": [
      "<class 'pandas.core.frame.DataFrame'>\n",
      "RangeIndex: 1565 entries, 0 to 1564\n",
      "Data columns (total 5 columns):\n",
      " #   Column             Non-Null Count  Dtype \n",
      "---  ------             --------------  ----- \n",
      " 0   user_id            1565 non-null   int64 \n",
      " 1   name               1565 non-null   object\n",
      " 2   age                1565 non-null   int64 \n",
      " 3   city               1565 non-null   object\n",
      " 4   subscription_type  1565 non-null   object\n",
      "dtypes: int64(2), object(3)\n",
      "memory usage: 61.3+ KB\n"
     ]
    }
   ],
   "source": [
    "users.info() #Рассмотрим общую информацию по датафрейму"
   ]
  },
  {
   "cell_type": "markdown",
   "id": "f35e56ee",
   "metadata": {},
   "source": [
    "Данные содержат 1565 строк. В каждом столбце все значения заполнены."
   ]
  },
  {
   "cell_type": "markdown",
   "id": "f13a87ba",
   "metadata": {},
   "source": [
    "Изучим информацию о поездках"
   ]
  },
  {
   "cell_type": "code",
   "execution_count": 80,
   "id": "fe2aba61",
   "metadata": {},
   "outputs": [
    {
     "data": {
      "text/html": [
       "<div>\n",
       "<style scoped>\n",
       "    .dataframe tbody tr th:only-of-type {\n",
       "        vertical-align: middle;\n",
       "    }\n",
       "\n",
       "    .dataframe tbody tr th {\n",
       "        vertical-align: top;\n",
       "    }\n",
       "\n",
       "    .dataframe thead th {\n",
       "        text-align: right;\n",
       "    }\n",
       "</style>\n",
       "<table border=\"1\" class=\"dataframe\">\n",
       "  <thead>\n",
       "    <tr style=\"text-align: right;\">\n",
       "      <th></th>\n",
       "      <th>user_id</th>\n",
       "      <th>distance</th>\n",
       "      <th>duration</th>\n",
       "      <th>date</th>\n",
       "    </tr>\n",
       "  </thead>\n",
       "  <tbody>\n",
       "    <tr>\n",
       "      <th>0</th>\n",
       "      <td>1</td>\n",
       "      <td>4409.919140</td>\n",
       "      <td>25.599769</td>\n",
       "      <td>2021-01-01</td>\n",
       "    </tr>\n",
       "    <tr>\n",
       "      <th>1</th>\n",
       "      <td>1</td>\n",
       "      <td>2617.592153</td>\n",
       "      <td>15.816871</td>\n",
       "      <td>2021-01-18</td>\n",
       "    </tr>\n",
       "    <tr>\n",
       "      <th>2</th>\n",
       "      <td>1</td>\n",
       "      <td>754.159807</td>\n",
       "      <td>6.232113</td>\n",
       "      <td>2021-04-20</td>\n",
       "    </tr>\n",
       "    <tr>\n",
       "      <th>3</th>\n",
       "      <td>1</td>\n",
       "      <td>2694.783254</td>\n",
       "      <td>18.511000</td>\n",
       "      <td>2021-08-11</td>\n",
       "    </tr>\n",
       "    <tr>\n",
       "      <th>4</th>\n",
       "      <td>1</td>\n",
       "      <td>4028.687306</td>\n",
       "      <td>26.265803</td>\n",
       "      <td>2021-08-28</td>\n",
       "    </tr>\n",
       "  </tbody>\n",
       "</table>\n",
       "</div>"
      ],
      "text/plain": [
       "   user_id     distance   duration        date\n",
       "0        1  4409.919140  25.599769  2021-01-01\n",
       "1        1  2617.592153  15.816871  2021-01-18\n",
       "2        1   754.159807   6.232113  2021-04-20\n",
       "3        1  2694.783254  18.511000  2021-08-11\n",
       "4        1  4028.687306  26.265803  2021-08-28"
      ]
     },
     "execution_count": 80,
     "metadata": {},
     "output_type": "execute_result"
    }
   ],
   "source": [
    "rides.head() # Выведем первые строки датафрейма с поезками"
   ]
  },
  {
   "cell_type": "markdown",
   "id": "402b1114",
   "metadata": {},
   "source": [
    "Как можно заметить данные по поездкам содержат:\n",
    "* ID пользователя;\n",
    "* Дистанцию поездки;\n",
    "* Длительность поездки;\n",
    "* Дата, в которую была совершена поездка."
   ]
  },
  {
   "cell_type": "code",
   "execution_count": 81,
   "id": "5792aeec",
   "metadata": {},
   "outputs": [
    {
     "name": "stdout",
     "output_type": "stream",
     "text": [
      "<class 'pandas.core.frame.DataFrame'>\n",
      "RangeIndex: 18068 entries, 0 to 18067\n",
      "Data columns (total 4 columns):\n",
      " #   Column    Non-Null Count  Dtype  \n",
      "---  ------    --------------  -----  \n",
      " 0   user_id   18068 non-null  int64  \n",
      " 1   distance  18068 non-null  float64\n",
      " 2   duration  18068 non-null  float64\n",
      " 3   date      18068 non-null  object \n",
      "dtypes: float64(2), int64(1), object(1)\n",
      "memory usage: 564.8+ KB\n"
     ]
    }
   ],
   "source": [
    "rides.info() #Выведем общую информацию по датафрейму с поездками"
   ]
  },
  {
   "cell_type": "markdown",
   "id": "0723b799",
   "metadata": {},
   "source": [
    "Таблица содержит 18068 строк. В каждом столбце все значения заполнены."
   ]
  },
  {
   "cell_type": "code",
   "execution_count": 82,
   "id": "7db7e833",
   "metadata": {
    "scrolled": true
   },
   "outputs": [
    {
     "data": {
      "text/html": [
       "<div>\n",
       "<style scoped>\n",
       "    .dataframe tbody tr th:only-of-type {\n",
       "        vertical-align: middle;\n",
       "    }\n",
       "\n",
       "    .dataframe tbody tr th {\n",
       "        vertical-align: top;\n",
       "    }\n",
       "\n",
       "    .dataframe thead th {\n",
       "        text-align: right;\n",
       "    }\n",
       "</style>\n",
       "<table border=\"1\" class=\"dataframe\">\n",
       "  <thead>\n",
       "    <tr style=\"text-align: right;\">\n",
       "      <th></th>\n",
       "      <th>subscription_type</th>\n",
       "      <th>minute_price</th>\n",
       "      <th>start_ride_price</th>\n",
       "      <th>subscription_fee</th>\n",
       "    </tr>\n",
       "  </thead>\n",
       "  <tbody>\n",
       "    <tr>\n",
       "      <th>0</th>\n",
       "      <td>free</td>\n",
       "      <td>8</td>\n",
       "      <td>50</td>\n",
       "      <td>0</td>\n",
       "    </tr>\n",
       "    <tr>\n",
       "      <th>1</th>\n",
       "      <td>ultra</td>\n",
       "      <td>6</td>\n",
       "      <td>0</td>\n",
       "      <td>199</td>\n",
       "    </tr>\n",
       "  </tbody>\n",
       "</table>\n",
       "</div>"
      ],
      "text/plain": [
       "  subscription_type  minute_price  start_ride_price  subscription_fee\n",
       "0              free             8                50                 0\n",
       "1             ultra             6                 0               199"
      ]
     },
     "execution_count": 82,
     "metadata": {},
     "output_type": "execute_result"
    }
   ],
   "source": [
    "subs.head() # Выведем строки таблицы подписок"
   ]
  },
  {
   "cell_type": "markdown",
   "id": "50d875e3",
   "metadata": {},
   "source": [
    "Как можно заметить данные по подпискам содержат:\n",
    "\n",
    "* Тип подписки;\n",
    "* Стоимость минуты поездки;\n",
    "* Стоимость старта поездки;\n",
    "* Стоимость подписки."
   ]
  },
  {
   "cell_type": "markdown",
   "id": "e95ebca7",
   "metadata": {},
   "source": [
    "## Предобработка данных"
   ]
  },
  {
   "cell_type": "markdown",
   "id": "46397046",
   "metadata": {},
   "source": [
    "Приведем столбец `date` в таблице `rides` к типу данных datetime"
   ]
  },
  {
   "cell_type": "code",
   "execution_count": 83,
   "id": "e7a45636",
   "metadata": {},
   "outputs": [],
   "source": [
    "rides['date'] = pd.to_datetime(rides['date'], format='%Y-%m-%d')"
   ]
  },
  {
   "cell_type": "markdown",
   "id": "6325d1d7",
   "metadata": {},
   "source": [
    "Создадим столбец с номером месяца в таблице `rides`"
   ]
  },
  {
   "cell_type": "code",
   "execution_count": 84,
   "id": "7a5e6ab2",
   "metadata": {},
   "outputs": [],
   "source": [
    "rides['month'] = pd.DatetimeIndex(rides['date']).month"
   ]
  },
  {
   "cell_type": "markdown",
   "id": "d657103e",
   "metadata": {},
   "source": [
    "**Проверка периода данных**"
   ]
  },
  {
   "cell_type": "markdown",
   "id": "ceec743c",
   "metadata": {},
   "source": [
    "Узнаем за какой промежуток были собраны данные"
   ]
  },
  {
   "cell_type": "code",
   "execution_count": 85,
   "id": "5fb2be8c",
   "metadata": {},
   "outputs": [
    {
     "data": {
      "text/plain": [
       "Timestamp('2021-01-01 00:00:00')"
      ]
     },
     "execution_count": 85,
     "metadata": {},
     "output_type": "execute_result"
    }
   ],
   "source": [
    "rides['date'].min()"
   ]
  },
  {
   "cell_type": "code",
   "execution_count": 86,
   "id": "000bbe0d",
   "metadata": {},
   "outputs": [
    {
     "data": {
      "text/plain": [
       "Timestamp('2021-12-30 00:00:00')"
      ]
     },
     "execution_count": 86,
     "metadata": {},
     "output_type": "execute_result"
    }
   ],
   "source": [
    "rides['date'].max()"
   ]
  },
  {
   "cell_type": "markdown",
   "id": "bba2345d",
   "metadata": {},
   "source": [
    "Данные собирались в течении 2021 года. Поэтому значения в столбце `month` - месяцы 2021-го года."
   ]
  },
  {
   "cell_type": "markdown",
   "id": "3253651b",
   "metadata": {},
   "source": [
    "Рассмотрим данные таблицы поездок после изменений"
   ]
  },
  {
   "cell_type": "code",
   "execution_count": 87,
   "id": "ac280de1",
   "metadata": {},
   "outputs": [
    {
     "data": {
      "text/html": [
       "<div>\n",
       "<style scoped>\n",
       "    .dataframe tbody tr th:only-of-type {\n",
       "        vertical-align: middle;\n",
       "    }\n",
       "\n",
       "    .dataframe tbody tr th {\n",
       "        vertical-align: top;\n",
       "    }\n",
       "\n",
       "    .dataframe thead th {\n",
       "        text-align: right;\n",
       "    }\n",
       "</style>\n",
       "<table border=\"1\" class=\"dataframe\">\n",
       "  <thead>\n",
       "    <tr style=\"text-align: right;\">\n",
       "      <th></th>\n",
       "      <th>user_id</th>\n",
       "      <th>distance</th>\n",
       "      <th>duration</th>\n",
       "      <th>date</th>\n",
       "      <th>month</th>\n",
       "    </tr>\n",
       "  </thead>\n",
       "  <tbody>\n",
       "    <tr>\n",
       "      <th>0</th>\n",
       "      <td>1</td>\n",
       "      <td>4409.919140</td>\n",
       "      <td>25.599769</td>\n",
       "      <td>2021-01-01</td>\n",
       "      <td>1</td>\n",
       "    </tr>\n",
       "    <tr>\n",
       "      <th>1</th>\n",
       "      <td>1</td>\n",
       "      <td>2617.592153</td>\n",
       "      <td>15.816871</td>\n",
       "      <td>2021-01-18</td>\n",
       "      <td>1</td>\n",
       "    </tr>\n",
       "    <tr>\n",
       "      <th>2</th>\n",
       "      <td>1</td>\n",
       "      <td>754.159807</td>\n",
       "      <td>6.232113</td>\n",
       "      <td>2021-04-20</td>\n",
       "      <td>4</td>\n",
       "    </tr>\n",
       "    <tr>\n",
       "      <th>3</th>\n",
       "      <td>1</td>\n",
       "      <td>2694.783254</td>\n",
       "      <td>18.511000</td>\n",
       "      <td>2021-08-11</td>\n",
       "      <td>8</td>\n",
       "    </tr>\n",
       "    <tr>\n",
       "      <th>4</th>\n",
       "      <td>1</td>\n",
       "      <td>4028.687306</td>\n",
       "      <td>26.265803</td>\n",
       "      <td>2021-08-28</td>\n",
       "      <td>8</td>\n",
       "    </tr>\n",
       "  </tbody>\n",
       "</table>\n",
       "</div>"
      ],
      "text/plain": [
       "   user_id     distance   duration       date  month\n",
       "0        1  4409.919140  25.599769 2021-01-01      1\n",
       "1        1  2617.592153  15.816871 2021-01-18      1\n",
       "2        1   754.159807   6.232113 2021-04-20      4\n",
       "3        1  2694.783254  18.511000 2021-08-11      8\n",
       "4        1  4028.687306  26.265803 2021-08-28      8"
      ]
     },
     "execution_count": 87,
     "metadata": {},
     "output_type": "execute_result"
    }
   ],
   "source": [
    "rides.head() # Выведем первые строки таблицы поездок"
   ]
  },
  {
   "cell_type": "markdown",
   "id": "65b1e367",
   "metadata": {},
   "source": [
    "В ходе первичного ознакомления с данными было выявлено, что пропущенные значения отсутсвуют\n",
    "\n",
    "Исследуем таблицы на дубликаты"
   ]
  },
  {
   "cell_type": "code",
   "execution_count": 88,
   "id": "ee1f2b28",
   "metadata": {},
   "outputs": [
    {
     "name": "stdout",
     "output_type": "stream",
     "text": [
      "Количество явных дубликатов в таблице с пользователями: 31\n",
      "Количество явных дубликатов в таблице с поездками: 0\n"
     ]
    }
   ],
   "source": [
    "print(f'Количество явных дубликатов в таблице с пользователями: {users.duplicated().sum()}')\n",
    "print(f'Количество явных дубликатов в таблице с поездками: {rides.duplicated().sum()}')"
   ]
  },
  {
   "cell_type": "markdown",
   "id": "9632f8d9",
   "metadata": {},
   "source": [
    "Удалим дубликаты из таблицы с пользователями"
   ]
  },
  {
   "cell_type": "code",
   "execution_count": 89,
   "id": "e134d886",
   "metadata": {},
   "outputs": [],
   "source": [
    "users = users.drop_duplicates().reset_index(drop=True)"
   ]
  },
  {
   "cell_type": "markdown",
   "id": "84745371",
   "metadata": {},
   "source": [
    "Убедимся в отсутствии дубликатов"
   ]
  },
  {
   "cell_type": "code",
   "execution_count": 90,
   "id": "ce571ebb",
   "metadata": {},
   "outputs": [
    {
     "data": {
      "text/plain": [
       "0"
      ]
     },
     "execution_count": 90,
     "metadata": {},
     "output_type": "execute_result"
    }
   ],
   "source": [
    "users.duplicated().sum()"
   ]
  },
  {
   "cell_type": "markdown",
   "id": "9c85a6e0",
   "metadata": {},
   "source": [
    "В ходе предобработки данных были удалены дубликаты из таблицы с пользователями"
   ]
  },
  {
   "cell_type": "code",
   "execution_count": 91,
   "id": "0921e979",
   "metadata": {},
   "outputs": [
    {
     "data": {
      "text/plain": [
       "0    4409.919140\n",
       "1    2617.592153\n",
       "2     754.159807\n",
       "Name: distance, dtype: float64"
      ]
     },
     "metadata": {},
     "output_type": "display_data"
    },
    {
     "data": {
      "text/plain": [
       "0    4409.92\n",
       "1    2617.59\n",
       "2     754.16\n",
       "Name: distance, dtype: float64"
      ]
     },
     "execution_count": 91,
     "metadata": {},
     "output_type": "execute_result"
    }
   ],
   "source": [
    "# Комментарий ревьюера\n",
    "temp = rides.copy() # Создаем копию, что бы не изменять текущий датасет\n",
    "display(temp['distance'].head(3))\n",
    "# Округление расстояния\n",
    "temp['distance'] = temp['distance'].round(2)\n",
    "temp['distance'].head(3)"
   ]
  },
  {
   "cell_type": "markdown",
   "id": "bac7efb3",
   "metadata": {},
   "source": [
    "**Проведём проверку пропусков во всех таблицах.**"
   ]
  },
  {
   "cell_type": "markdown",
   "id": "6ff1e9de",
   "metadata": {},
   "source": [
    "Количество пропусков в столбцах датасета `users`"
   ]
  },
  {
   "cell_type": "code",
   "execution_count": 92,
   "id": "3357ee35",
   "metadata": {
    "scrolled": true
   },
   "outputs": [
    {
     "data": {
      "text/plain": [
       "user_id              0\n",
       "name                 0\n",
       "age                  0\n",
       "city                 0\n",
       "subscription_type    0\n",
       "dtype: int64"
      ]
     },
     "execution_count": 92,
     "metadata": {},
     "output_type": "execute_result"
    }
   ],
   "source": [
    "users.isna().sum()"
   ]
  },
  {
   "cell_type": "markdown",
   "id": "6e53add0",
   "metadata": {},
   "source": [
    "Количество пропусков в столбцах датасета `rides`"
   ]
  },
  {
   "cell_type": "code",
   "execution_count": 93,
   "id": "eba660cf",
   "metadata": {},
   "outputs": [
    {
     "data": {
      "text/plain": [
       "user_id     0\n",
       "distance    0\n",
       "duration    0\n",
       "date        0\n",
       "month       0\n",
       "dtype: int64"
      ]
     },
     "execution_count": 93,
     "metadata": {},
     "output_type": "execute_result"
    }
   ],
   "source": [
    "rides.isna().sum()"
   ]
  },
  {
   "cell_type": "markdown",
   "id": "a55670c6",
   "metadata": {},
   "source": [
    "Количество пропусков в столбцах датасета `subs`"
   ]
  },
  {
   "cell_type": "code",
   "execution_count": 94,
   "id": "301ccdc6",
   "metadata": {},
   "outputs": [
    {
     "data": {
      "text/plain": [
       "subscription_type    0\n",
       "minute_price         0\n",
       "start_ride_price     0\n",
       "subscription_fee     0\n",
       "dtype: int64"
      ]
     },
     "execution_count": 94,
     "metadata": {},
     "output_type": "execute_result"
    }
   ],
   "source": [
    "subs.isna().sum()"
   ]
  },
  {
   "cell_type": "markdown",
   "id": "0f85d831",
   "metadata": {},
   "source": [
    "Во всех датасетах отсутсвуют пропуски"
   ]
  },
  {
   "cell_type": "markdown",
   "id": "c828be98",
   "metadata": {},
   "source": [
    "Проверим на аномалии столбец с длительностью поездок "
   ]
  },
  {
   "cell_type": "code",
   "execution_count": 95,
   "id": "48d3846b",
   "metadata": {},
   "outputs": [
    {
     "data": {
      "image/png": "[encoded data removed]",
      "text/plain": [
       "<Figure size 800x500 with 1 Axes>"
      ]
     },
     "metadata": {},
     "output_type": "display_data"
    }
   ],
   "source": [
    "plt.figure(figsize=(8, 5))  # задаём размер графика\n",
    "sns.boxplot(x='duration', data=rides, color='skyblue')  # аккуратный boxplot\n",
    "\n",
    "plt.xlabel('Длительность поездки')   # подпись оси X\n",
    "plt.title('Распределение длительности поездок')  # заголовок\n",
    "\n",
    "plt.grid(True, linestyle='--', alpha=0.5)  # сетка для читаемости\n",
    "plt.tight_layout()\n",
    "plt.show()"
   ]
  },
  {
   "cell_type": "markdown",
   "id": "4f64262f",
   "metadata": {},
   "source": [
    "В столбце с длительностю поездок наблюдается несколько выбросов сверху и снизу."
   ]
  },
  {
   "cell_type": "markdown",
   "id": "6ba51d07",
   "metadata": {},
   "source": [
    "**Округление данных**"
   ]
  },
  {
   "cell_type": "markdown",
   "id": "bc4a54c8",
   "metadata": {},
   "source": [
    "Округлим данные в столбце с длительностью поездки до двух знаков после точки"
   ]
  },
  {
   "cell_type": "code",
   "execution_count": 96,
   "id": "6110be58",
   "metadata": {},
   "outputs": [
    {
     "data": {
      "text/plain": [
       "0    4409.919140\n",
       "1    2617.592153\n",
       "2     754.159807\n",
       "Name: distance, dtype: float64"
      ]
     },
     "metadata": {},
     "output_type": "display_data"
    },
    {
     "data": {
      "text/plain": [
       "0    4409.92\n",
       "1    2617.59\n",
       "2     754.16\n",
       "Name: distance, dtype: float64"
      ]
     },
     "execution_count": 96,
     "metadata": {},
     "output_type": "execute_result"
    }
   ],
   "source": [
    "display(rides['distance'].head(3))\n",
    "# Округление расстояния\n",
    "rides['distance'] = rides['distance'].round(2)\n",
    "rides['distance'].head(3)"
   ]
  },
  {
   "cell_type": "markdown",
   "id": "212593c7",
   "metadata": {},
   "source": [
    "## Исследовательский анализ данных"
   ]
  },
  {
   "cell_type": "markdown",
   "id": "12992c33",
   "metadata": {},
   "source": [
    "### Исследование частоты встречаемости городов"
   ]
  },
  {
   "cell_type": "markdown",
   "id": "4375d2ea",
   "metadata": {},
   "source": [
    "Исследум данные о количестве пользователей из различных городов.\n",
    "Построим столбчатую диаграмму."
   ]
  },
  {
   "cell_type": "code",
   "execution_count": 97,
   "id": "015a7764",
   "metadata": {},
   "outputs": [
    {
     "data": {
      "text/plain": [
       "Text(0.5, 1.0, 'Количество пользователей из определённого города')"
      ]
     },
     "execution_count": 97,
     "metadata": {},
     "output_type": "execute_result"
    }
   ],
   "source": [
    "ax = users['city'].value_counts(ascending=True).plot.bar(color='green',rot = 50,xlabel='Город', ylabel='Количество',grid=True)\n",
    "ax.set_title('Количество пользователей из определённого города')"
   ]
  },
  {
   "cell_type": "markdown",
   "id": "6390e13f",
   "metadata": {},
   "source": [
    "**Вывод:**\n",
    "\n",
    "В исследуемых данных представлены пользователи из восьми городов. Большинство пользователей из Пятигорска. Наименьшее количество пользователей из Москвы."
   ]
  },
  {
   "cell_type": "markdown",
   "id": "dc10b520",
   "metadata": {},
   "source": [
    "**Выведем числовые зачения частотности городов**"
   ]
  },
  {
   "cell_type": "code",
   "execution_count": 98,
   "id": "45aaafb7",
   "metadata": {},
   "outputs": [
    {
     "data": {
      "text/plain": [
       "city\n",
       "Пятигорск         219\n",
       "Екатеринбург      204\n",
       "Ростов-на-Дону    198\n",
       "Краснодар         193\n",
       "Сочи              189\n",
       "Омск              183\n",
       "Тюмень            180\n",
       "Москва            168\n",
       "Name: count, dtype: int64"
      ]
     },
     "execution_count": 98,
     "metadata": {},
     "output_type": "execute_result"
    }
   ],
   "source": [
    "users['city'].value_counts(ascending=False)"
   ]
  },
  {
   "cell_type": "markdown",
   "id": "4f6c0fb2",
   "metadata": {},
   "source": [
    "### Исследование количества пользователей с подпиской"
   ]
  },
  {
   "cell_type": "markdown",
   "id": "154cff74",
   "metadata": {},
   "source": [
    "Исследуем соотношение пользователей с оформленной подпиской и без неё."
   ]
  },
  {
   "cell_type": "markdown",
   "id": "4de3c8b2",
   "metadata": {},
   "source": [
    "На основании столбца с данными о подписке, в таблице с пользователями, построим столбчатую диаграмму."
   ]
  },
  {
   "cell_type": "code",
   "execution_count": 99,
   "id": "a8778bf8",
   "metadata": {},
   "outputs": [
    {
     "data": {
      "image/png": "[encoded data removed]",
      "text/plain": [
       "<Figure size 640x480 with 1 Axes>"
      ]
     },
     "metadata": {},
     "output_type": "display_data"
    }
   ],
   "source": [
    "df = users['subscription_type'].value_counts()\n",
    "df.index = ['Без подписки','С подпиской']\n",
    "ax = df.plot.bar(rot=0,color='y',grid=True)\n",
    "ax.set_title('Количество пользователей с подпиской и без подписки')\n",
    "ax.set_ylabel('Количество пользователей')\n",
    "plt.show()"
   ]
  },
  {
   "cell_type": "markdown",
   "id": "087bb079",
   "metadata": {},
   "source": [
    "Найдём процент пользователей с подпиской от общего количества "
   ]
  },
  {
   "cell_type": "code",
   "execution_count": 100,
   "id": "d758859a",
   "metadata": {},
   "outputs": [
    {
     "data": {
      "text/plain": [
       "45.57"
      ]
     },
     "execution_count": 100,
     "metadata": {},
     "output_type": "execute_result"
    }
   ],
   "source": [
    "round(df['С подпиской'] / (df['С подпиской'] + df['Без подписки']) * 100,2)"
   ]
  },
  {
   "cell_type": "markdown",
   "id": "9eb33079",
   "metadata": {},
   "source": [
    "Найдём процент пользователей без подпискт от общего количества "
   ]
  },
  {
   "cell_type": "code",
   "execution_count": 101,
   "id": "35010e99",
   "metadata": {},
   "outputs": [
    {
     "data": {
      "text/plain": [
       "54.43"
      ]
     },
     "execution_count": 101,
     "metadata": {},
     "output_type": "execute_result"
    }
   ],
   "source": [
    "round(df['Без подписки'] / (df['С подпиской'] + df['Без подписки']) * 100,2)"
   ]
  },
  {
   "cell_type": "markdown",
   "id": "0c9b6183",
   "metadata": {},
   "source": [
    "**Вывод:**\n",
    "\n",
    "В исследуемых данных количество пользователей с подпиской составляет 46.6 %, количество пользователей без подписки - 54.4 %."
   ]
  },
  {
   "cell_type": "code",
   "execution_count": 102,
   "id": "39f7b960",
   "metadata": {},
   "outputs": [
    {
     "data": {
      "image/png": "[encoded data removed]",
      "text/plain": [
       "<Figure size 640x480 with 1 Axes>"
      ]
     },
     "metadata": {},
     "output_type": "display_data"
    }
   ],
   "source": [
    "# Комментарий ревьюера\n",
    "import matplotlib.pyplot as plt\n",
    "temp = users.copy()\n",
    "temp['subscription_type'].value_counts().plot(\n",
    "    kind= 'pie',\n",
    "    title= 'Соотношение пользователей с подпиской и без подписки',\n",
    "    autopct = \"%.0f%%\",\n",
    "    ylabel= \"\"\n",
    ")\n",
    "plt.show()"
   ]
  },
  {
   "cell_type": "markdown",
   "id": "59c91b47",
   "metadata": {},
   "source": [
    "### Исследование возраста пользователей "
   ]
  },
  {
   "cell_type": "markdown",
   "id": "71f0876b",
   "metadata": {},
   "source": [
    "Найдём максимальный и минимальный возраст в данных"
   ]
  },
  {
   "cell_type": "code",
   "execution_count": 103,
   "id": "151a88c0",
   "metadata": {},
   "outputs": [
    {
     "name": "stdout",
     "output_type": "stream",
     "text": [
      "Минимальный возраст пользователя: 12\n",
      "Максимальный возраст пользователя: 43\n"
     ]
    }
   ],
   "source": [
    "mi = users['age'].min()\n",
    "ma = users['age'].max()\n",
    "print(f'Минимальный возраст пользователя: {mi}')\n",
    "print(f'Максимальный возраст пользователя: {ma}')"
   ]
  },
  {
   "cell_type": "markdown",
   "id": "3201ce42",
   "metadata": {},
   "source": [
    "**Рассмотрим сводную статистику методом describe()**"
   ]
  },
  {
   "cell_type": "code",
   "execution_count": 104,
   "id": "79a24e8c",
   "metadata": {},
   "outputs": [
    {
     "data": {
      "text/plain": [
       "count    1534.000000\n",
       "mean       24.903520\n",
       "std         4.572367\n",
       "min        12.000000\n",
       "25%        22.000000\n",
       "50%        25.000000\n",
       "75%        28.000000\n",
       "max        43.000000\n",
       "Name: age, dtype: float64"
      ]
     },
     "execution_count": 104,
     "metadata": {},
     "output_type": "execute_result"
    }
   ],
   "source": [
    "users['age'].describe()"
   ]
  },
  {
   "cell_type": "markdown",
   "id": "e145bea9",
   "metadata": {},
   "source": [
    "Построим столчатую диаграмму для возраста пользователей и их количества в данных. "
   ]
  },
  {
   "cell_type": "markdown",
   "id": "5421b1d4",
   "metadata": {},
   "source": [
    "**Построим гистрограмму**"
   ]
  },
  {
   "cell_type": "code",
   "execution_count": 105,
   "id": "114dfadb",
   "metadata": {},
   "outputs": [
    {
     "data": {
      "image/png": "[encoded data removed]",
      "text/plain": [
       "<Figure size 640x480 with 1 Axes>"
      ]
     },
     "metadata": {},
     "output_type": "display_data"
    }
   ],
   "source": [
    "ax = users['age'].hist(bins=32,color='k',grid = True)\n",
    "ax.set_title('Количество пользователей определённого возраста')\n",
    "ax.set_xlabel('Возраст')\n",
    "ax.set_ylabel('Количество пользователей')\n",
    "plt.show()"
   ]
  },
  {
   "cell_type": "markdown",
   "id": "ab0f653e",
   "metadata": {},
   "source": [
    "Распределение пользователей по возрасту похоже на нормальное."
   ]
  },
  {
   "cell_type": "markdown",
   "id": "2b80cdaf",
   "metadata": {},
   "source": [
    "**Вывод:**\n",
    "\n",
    "В исследуемых данных представлены пользователи от 12 до 43 лет. Наибольшее количество пользователей имеют возраст 24-26 лет.\n",
    "Меньше всего пользователей с возрастом больше 37 лет."
   ]
  },
  {
   "cell_type": "markdown",
   "id": "92ba3098",
   "metadata": {},
   "source": [
    "**Новый вывод:**\n",
    "\n",
    "Наибольшее количество пользователей имеют возраст 24-26 лет. Меньше всего пользователей с возрастом больше 35 лет и меньше 15.\n",
    "Следует отметить, что среди пользователей некоторым менее 18 лет, именно с этого возраста разрешен прокат самокатов. В некоторых компаниях и регионах разрешено с 14 лет, но при письменном согласии родителей. В датасете минимальный возраст 12 лет, это явное нарушение существующих норм."
   ]
  },
  {
   "cell_type": "markdown",
   "id": "574f65ab",
   "metadata": {},
   "source": [
    "### Исследование расстояния, которое пользователь преодолел за одну поездку"
   ]
  },
  {
   "cell_type": "markdown",
   "id": "639cb712",
   "metadata": {},
   "source": [
    "Рассмострим описательную статистику по столбцу с расстояниями поездок"
   ]
  },
  {
   "cell_type": "code",
   "execution_count": 106,
   "id": "2c4f3c9e",
   "metadata": {},
   "outputs": [
    {
     "data": {
      "text/plain": [
       "count    18068.000000\n",
       "mean      3070.659992\n",
       "std       1116.831222\n",
       "min          0.860000\n",
       "25%       2543.227500\n",
       "50%       3133.610000\n",
       "75%       3776.220000\n",
       "max       7211.010000\n",
       "Name: distance, dtype: float64"
      ]
     },
     "execution_count": 106,
     "metadata": {},
     "output_type": "execute_result"
    }
   ],
   "source": [
    "rides['distance'].describe()"
   ]
  },
  {
   "cell_type": "markdown",
   "id": "962798ee",
   "metadata": {},
   "source": [
    "Построим гистограмму по столбцу с расстояниями"
   ]
  },
  {
   "cell_type": "code",
   "execution_count": 107,
   "id": "6ae7f84c",
   "metadata": {},
   "outputs": [
    {
     "data": {
      "image/png": "[encoded data removed]",
      "text/plain": [
       "<Figure size 640x480 with 1 Axes>"
      ]
     },
     "metadata": {},
     "output_type": "display_data"
    }
   ],
   "source": [
    "ax = rides['distance'].plot.hist(bins=40,grid=True,color='g')\n",
    "ax.set_xlabel('Расстояние, м')\n",
    "ax.set_ylabel('Частота')\n",
    "ax.set_title('Гистограмма расстояний поездок')\n",
    "plt.show()"
   ]
  },
  {
   "cell_type": "markdown",
   "id": "51f922ad",
   "metadata": {},
   "source": [
    "**Вывод:**\n",
    "\n",
    "Среднее расстояние, которое проезжают пользователи на самокате - 3,1 км. На расстояниях 600 м. и 3000 м. наблюдаются локальные максимумы"
   ]
  },
  {
   "cell_type": "markdown",
   "id": "e376641a",
   "metadata": {},
   "source": [
    "### Исследование продолжительности поездок"
   ]
  },
  {
   "cell_type": "markdown",
   "id": "6b79099b",
   "metadata": {},
   "source": [
    "Рассмострим описательную статистику по столбцу с продолжительностями поездок "
   ]
  },
  {
   "cell_type": "code",
   "execution_count": 108,
   "id": "4d8815f1",
   "metadata": {},
   "outputs": [
    {
     "data": {
      "text/plain": [
       "count    18068.000000\n",
       "mean        17.805011\n",
       "std          6.091051\n",
       "min          0.500000\n",
       "25%         13.597563\n",
       "50%         17.678395\n",
       "75%         21.724800\n",
       "max         40.823963\n",
       "Name: duration, dtype: float64"
      ]
     },
     "execution_count": 108,
     "metadata": {},
     "output_type": "execute_result"
    }
   ],
   "source": [
    "rides['duration'].describe()"
   ]
  },
  {
   "cell_type": "markdown",
   "id": "268948ca",
   "metadata": {},
   "source": [
    "Построим гистограмму по столбцу с длительностями поездок"
   ]
  },
  {
   "cell_type": "code",
   "execution_count": 109,
   "id": "67552e73",
   "metadata": {},
   "outputs": [
    {
     "data": {
      "image/png": "[encoded data removed]",
      "text/plain": [
       "<Figure size 640x480 with 1 Axes>"
      ]
     },
     "metadata": {},
     "output_type": "display_data"
    }
   ],
   "source": [
    "ax = rides['duration'].plot.hist(bins=40,grid=True,color='y')\n",
    "ax.set_xlabel('Длительность, мин')\n",
    "ax.set_ylabel('Частота')\n",
    "ax.set_title('Гистограмма длительностей поездок')\n",
    "plt.show()"
   ]
  },
  {
   "cell_type": "markdown",
   "id": "ed1ae39f",
   "metadata": {},
   "source": [
    "**Вывод:**\n",
    "\n",
    "Средняя длительность поездок  пользователей - 17 мин. В данных наблюдается аномалия при длительностях поездки меньше минуты."
   ]
  },
  {
   "cell_type": "markdown",
   "id": "2edd77b0",
   "metadata": {},
   "source": [
    "**Общий вывод по разделу:**\n",
    "\n",
    "1. В исследуемых данных представлены пользователи из восьми городов. Большинство пользователей из Пятигорска. Наименьшее количество пользователей из Москвы.\n",
    "2. В исследуемых данных количество пользователей с подпиской составляет 46.6 %, количество пользователей без подписки - 54.4 %.\n",
    "3. Наибольшее количество пользователей имеют возраст 24-26 лет. Меньше всего пользователей с возрастом больше 35 лет и меньше 15. Следует отметить, что в датасете минимальный возраст 12 лет, это явное нарушение существующих норм проката самокатов.\n",
    "4. Среднее расстояние, которое проезжают пользователи на самокате - 3,1 км. На расстояниях 600 м. и 3000 м. наблюдаются локальные максимумы\n",
    "5. Средняя длительность поездок пользователей - 17 мин. В данных наблюдается аномалия при длительностях поездки меньше минуты.\n",
    "\n",
    "\n"
   ]
  },
  {
   "cell_type": "markdown",
   "id": "4ef51331",
   "metadata": {},
   "source": [
    "## Объединение данных"
   ]
  },
  {
   "cell_type": "markdown",
   "id": "25f114be",
   "metadata": {},
   "source": [
    "Объединим данные в один датафрейм"
   ]
  },
  {
   "cell_type": "code",
   "execution_count": 110,
   "id": "29cc28ac",
   "metadata": {},
   "outputs": [
    {
     "data": {
      "text/html": [
       "<div>\n",
       "<style scoped>\n",
       "    .dataframe tbody tr th:only-of-type {\n",
       "        vertical-align: middle;\n",
       "    }\n",
       "\n",
       "    .dataframe tbody tr th {\n",
       "        vertical-align: top;\n",
       "    }\n",
       "\n",
       "    .dataframe thead th {\n",
       "        text-align: right;\n",
       "    }\n",
       "</style>\n",
       "<table border=\"1\" class=\"dataframe\">\n",
       "  <thead>\n",
       "    <tr style=\"text-align: right;\">\n",
       "      <th></th>\n",
       "      <th>user_id</th>\n",
       "      <th>distance</th>\n",
       "      <th>duration</th>\n",
       "      <th>date</th>\n",
       "      <th>month</th>\n",
       "      <th>name</th>\n",
       "      <th>age</th>\n",
       "      <th>city</th>\n",
       "      <th>subscription_type</th>\n",
       "      <th>minute_price</th>\n",
       "      <th>start_ride_price</th>\n",
       "      <th>subscription_fee</th>\n",
       "    </tr>\n",
       "  </thead>\n",
       "  <tbody>\n",
       "    <tr>\n",
       "      <th>0</th>\n",
       "      <td>1</td>\n",
       "      <td>4409.92</td>\n",
       "      <td>25.599769</td>\n",
       "      <td>2021-01-01</td>\n",
       "      <td>1</td>\n",
       "      <td>Кира</td>\n",
       "      <td>22</td>\n",
       "      <td>Тюмень</td>\n",
       "      <td>ultra</td>\n",
       "      <td>6</td>\n",
       "      <td>0</td>\n",
       "      <td>199</td>\n",
       "    </tr>\n",
       "    <tr>\n",
       "      <th>1</th>\n",
       "      <td>1</td>\n",
       "      <td>2617.59</td>\n",
       "      <td>15.816871</td>\n",
       "      <td>2021-01-18</td>\n",
       "      <td>1</td>\n",
       "      <td>Кира</td>\n",
       "      <td>22</td>\n",
       "      <td>Тюмень</td>\n",
       "      <td>ultra</td>\n",
       "      <td>6</td>\n",
       "      <td>0</td>\n",
       "      <td>199</td>\n",
       "    </tr>\n",
       "    <tr>\n",
       "      <th>2</th>\n",
       "      <td>1</td>\n",
       "      <td>754.16</td>\n",
       "      <td>6.232113</td>\n",
       "      <td>2021-04-20</td>\n",
       "      <td>4</td>\n",
       "      <td>Кира</td>\n",
       "      <td>22</td>\n",
       "      <td>Тюмень</td>\n",
       "      <td>ultra</td>\n",
       "      <td>6</td>\n",
       "      <td>0</td>\n",
       "      <td>199</td>\n",
       "    </tr>\n",
       "    <tr>\n",
       "      <th>3</th>\n",
       "      <td>1</td>\n",
       "      <td>2694.78</td>\n",
       "      <td>18.511000</td>\n",
       "      <td>2021-08-11</td>\n",
       "      <td>8</td>\n",
       "      <td>Кира</td>\n",
       "      <td>22</td>\n",
       "      <td>Тюмень</td>\n",
       "      <td>ultra</td>\n",
       "      <td>6</td>\n",
       "      <td>0</td>\n",
       "      <td>199</td>\n",
       "    </tr>\n",
       "    <tr>\n",
       "      <th>4</th>\n",
       "      <td>1</td>\n",
       "      <td>4028.69</td>\n",
       "      <td>26.265803</td>\n",
       "      <td>2021-08-28</td>\n",
       "      <td>8</td>\n",
       "      <td>Кира</td>\n",
       "      <td>22</td>\n",
       "      <td>Тюмень</td>\n",
       "      <td>ultra</td>\n",
       "      <td>6</td>\n",
       "      <td>0</td>\n",
       "      <td>199</td>\n",
       "    </tr>\n",
       "  </tbody>\n",
       "</table>\n",
       "</div>"
      ],
      "text/plain": [
       "   user_id  distance   duration       date  month  name  age    city  \\\n",
       "0        1   4409.92  25.599769 2021-01-01      1  Кира   22  Тюмень   \n",
       "1        1   2617.59  15.816871 2021-01-18      1  Кира   22  Тюмень   \n",
       "2        1    754.16   6.232113 2021-04-20      4  Кира   22  Тюмень   \n",
       "3        1   2694.78  18.511000 2021-08-11      8  Кира   22  Тюмень   \n",
       "4        1   4028.69  26.265803 2021-08-28      8  Кира   22  Тюмень   \n",
       "\n",
       "  subscription_type  minute_price  start_ride_price  subscription_fee  \n",
       "0             ultra             6                 0               199  \n",
       "1             ultra             6                 0               199  \n",
       "2             ultra             6                 0               199  \n",
       "3             ultra             6                 0               199  \n",
       "4             ultra             6                 0               199  "
      ]
     },
     "execution_count": 110,
     "metadata": {},
     "output_type": "execute_result"
    }
   ],
   "source": [
    "df = rides.merge(users,on='user_id') #Объединим таблицу поездок с таблицей пользоватлей по столбцу 'user_id'\n",
    "df = df.merge(subs,on='subscription_type') # Объединим получившуюся таблицу с таблицей подписок по столбцу с типом подписки\n",
    "df.head() #Выведем первые строки получившегося датафрейма"
   ]
  },
  {
   "cell_type": "markdown",
   "id": "235e83f4",
   "metadata": {},
   "source": [
    "**Размерность и проверка на пропуски**"
   ]
  },
  {
   "cell_type": "markdown",
   "id": "d5115981",
   "metadata": {},
   "source": [
    "Выведем разменость датасета"
   ]
  },
  {
   "cell_type": "code",
   "execution_count": 111,
   "id": "4a0a990f",
   "metadata": {},
   "outputs": [
    {
     "name": "stdout",
     "output_type": "stream",
     "text": [
      "В объединённом датасете 18068 строк и 12 столбцов\n"
     ]
    }
   ],
   "source": [
    "print(f'В объединённом датасете {df.shape[0]} строк и {df.shape[1]} столбцов')"
   ]
  },
  {
   "cell_type": "markdown",
   "id": "a200c443",
   "metadata": {},
   "source": [
    "Проверим датасет на пропуски"
   ]
  },
  {
   "cell_type": "code",
   "execution_count": 112,
   "id": "2eface74",
   "metadata": {},
   "outputs": [
    {
     "data": {
      "text/plain": [
       "user_id              0\n",
       "distance             0\n",
       "duration             0\n",
       "date                 0\n",
       "month                0\n",
       "name                 0\n",
       "age                  0\n",
       "city                 0\n",
       "subscription_type    0\n",
       "minute_price         0\n",
       "start_ride_price     0\n",
       "subscription_fee     0\n",
       "dtype: int64"
      ]
     },
     "execution_count": 112,
     "metadata": {},
     "output_type": "execute_result"
    }
   ],
   "source": [
    "df.isna().sum()"
   ]
  },
  {
   "cell_type": "markdown",
   "id": "8a14963e",
   "metadata": {},
   "source": [
    "В датасете отсутствуют пропуски"
   ]
  },
  {
   "cell_type": "markdown",
   "id": "8c98a6b9",
   "metadata": {},
   "source": [
    "Создадим датафреймы с поезками, которые совершили пользователи без подписки"
   ]
  },
  {
   "cell_type": "code",
   "execution_count": 113,
   "id": "53d8c85b",
   "metadata": {},
   "outputs": [],
   "source": [
    "df_free = df.query('subscription_type == \"free\"').reset_index(drop=True)"
   ]
  },
  {
   "cell_type": "code",
   "execution_count": 114,
   "id": "91ef7b5b",
   "metadata": {},
   "outputs": [
    {
     "data": {
      "text/html": [
       "<div>\n",
       "<style scoped>\n",
       "    .dataframe tbody tr th:only-of-type {\n",
       "        vertical-align: middle;\n",
       "    }\n",
       "\n",
       "    .dataframe tbody tr th {\n",
       "        vertical-align: top;\n",
       "    }\n",
       "\n",
       "    .dataframe thead th {\n",
       "        text-align: right;\n",
       "    }\n",
       "</style>\n",
       "<table border=\"1\" class=\"dataframe\">\n",
       "  <thead>\n",
       "    <tr style=\"text-align: right;\">\n",
       "      <th></th>\n",
       "      <th>user_id</th>\n",
       "      <th>distance</th>\n",
       "      <th>duration</th>\n",
       "      <th>date</th>\n",
       "      <th>month</th>\n",
       "      <th>name</th>\n",
       "      <th>age</th>\n",
       "      <th>city</th>\n",
       "      <th>subscription_type</th>\n",
       "      <th>minute_price</th>\n",
       "      <th>start_ride_price</th>\n",
       "      <th>subscription_fee</th>\n",
       "    </tr>\n",
       "  </thead>\n",
       "  <tbody>\n",
       "    <tr>\n",
       "      <th>0</th>\n",
       "      <td>700</td>\n",
       "      <td>2515.69</td>\n",
       "      <td>14.944286</td>\n",
       "      <td>2021-01-02</td>\n",
       "      <td>1</td>\n",
       "      <td>Айдар</td>\n",
       "      <td>22</td>\n",
       "      <td>Омск</td>\n",
       "      <td>free</td>\n",
       "      <td>8</td>\n",
       "      <td>50</td>\n",
       "      <td>0</td>\n",
       "    </tr>\n",
       "    <tr>\n",
       "      <th>1</th>\n",
       "      <td>700</td>\n",
       "      <td>846.93</td>\n",
       "      <td>16.234663</td>\n",
       "      <td>2021-02-01</td>\n",
       "      <td>2</td>\n",
       "      <td>Айдар</td>\n",
       "      <td>22</td>\n",
       "      <td>Омск</td>\n",
       "      <td>free</td>\n",
       "      <td>8</td>\n",
       "      <td>50</td>\n",
       "      <td>0</td>\n",
       "    </tr>\n",
       "    <tr>\n",
       "      <th>2</th>\n",
       "      <td>700</td>\n",
       "      <td>4004.43</td>\n",
       "      <td>20.016628</td>\n",
       "      <td>2021-02-04</td>\n",
       "      <td>2</td>\n",
       "      <td>Айдар</td>\n",
       "      <td>22</td>\n",
       "      <td>Омск</td>\n",
       "      <td>free</td>\n",
       "      <td>8</td>\n",
       "      <td>50</td>\n",
       "      <td>0</td>\n",
       "    </tr>\n",
       "    <tr>\n",
       "      <th>3</th>\n",
       "      <td>700</td>\n",
       "      <td>1205.91</td>\n",
       "      <td>9.782872</td>\n",
       "      <td>2021-02-10</td>\n",
       "      <td>2</td>\n",
       "      <td>Айдар</td>\n",
       "      <td>22</td>\n",
       "      <td>Омск</td>\n",
       "      <td>free</td>\n",
       "      <td>8</td>\n",
       "      <td>50</td>\n",
       "      <td>0</td>\n",
       "    </tr>\n",
       "    <tr>\n",
       "      <th>4</th>\n",
       "      <td>700</td>\n",
       "      <td>3047.38</td>\n",
       "      <td>17.427673</td>\n",
       "      <td>2021-02-14</td>\n",
       "      <td>2</td>\n",
       "      <td>Айдар</td>\n",
       "      <td>22</td>\n",
       "      <td>Омск</td>\n",
       "      <td>free</td>\n",
       "      <td>8</td>\n",
       "      <td>50</td>\n",
       "      <td>0</td>\n",
       "    </tr>\n",
       "  </tbody>\n",
       "</table>\n",
       "</div>"
      ],
      "text/plain": [
       "   user_id  distance   duration       date  month   name  age  city  \\\n",
       "0      700   2515.69  14.944286 2021-01-02      1  Айдар   22  Омск   \n",
       "1      700    846.93  16.234663 2021-02-01      2  Айдар   22  Омск   \n",
       "2      700   4004.43  20.016628 2021-02-04      2  Айдар   22  Омск   \n",
       "3      700   1205.91   9.782872 2021-02-10      2  Айдар   22  Омск   \n",
       "4      700   3047.38  17.427673 2021-02-14      2  Айдар   22  Омск   \n",
       "\n",
       "  subscription_type  minute_price  start_ride_price  subscription_fee  \n",
       "0              free             8                50                 0  \n",
       "1              free             8                50                 0  \n",
       "2              free             8                50                 0  \n",
       "3              free             8                50                 0  \n",
       "4              free             8                50                 0  "
      ]
     },
     "execution_count": 114,
     "metadata": {},
     "output_type": "execute_result"
    }
   ],
   "source": [
    "df_free.head() # Выведем первые строки датафрейма"
   ]
  },
  {
   "cell_type": "markdown",
   "id": "405be872",
   "metadata": {},
   "source": [
    "Создадим датафреймы с поездками, которые совершили пользователи с подпиской"
   ]
  },
  {
   "cell_type": "code",
   "execution_count": 115,
   "id": "cb423632",
   "metadata": {},
   "outputs": [],
   "source": [
    "df_ultra = df.query('subscription_type == \"ultra\"').reset_index(drop=True)"
   ]
  },
  {
   "cell_type": "code",
   "execution_count": 116,
   "id": "d7ac1f66",
   "metadata": {},
   "outputs": [
    {
     "data": {
      "text/html": [
       "<div>\n",
       "<style scoped>\n",
       "    .dataframe tbody tr th:only-of-type {\n",
       "        vertical-align: middle;\n",
       "    }\n",
       "\n",
       "    .dataframe tbody tr th {\n",
       "        vertical-align: top;\n",
       "    }\n",
       "\n",
       "    .dataframe thead th {\n",
       "        text-align: right;\n",
       "    }\n",
       "</style>\n",
       "<table border=\"1\" class=\"dataframe\">\n",
       "  <thead>\n",
       "    <tr style=\"text-align: right;\">\n",
       "      <th></th>\n",
       "      <th>user_id</th>\n",
       "      <th>distance</th>\n",
       "      <th>duration</th>\n",
       "      <th>date</th>\n",
       "      <th>month</th>\n",
       "      <th>name</th>\n",
       "      <th>age</th>\n",
       "      <th>city</th>\n",
       "      <th>subscription_type</th>\n",
       "      <th>minute_price</th>\n",
       "      <th>start_ride_price</th>\n",
       "      <th>subscription_fee</th>\n",
       "    </tr>\n",
       "  </thead>\n",
       "  <tbody>\n",
       "    <tr>\n",
       "      <th>0</th>\n",
       "      <td>1</td>\n",
       "      <td>4409.92</td>\n",
       "      <td>25.599769</td>\n",
       "      <td>2021-01-01</td>\n",
       "      <td>1</td>\n",
       "      <td>Кира</td>\n",
       "      <td>22</td>\n",
       "      <td>Тюмень</td>\n",
       "      <td>ultra</td>\n",
       "      <td>6</td>\n",
       "      <td>0</td>\n",
       "      <td>199</td>\n",
       "    </tr>\n",
       "    <tr>\n",
       "      <th>1</th>\n",
       "      <td>1</td>\n",
       "      <td>2617.59</td>\n",
       "      <td>15.816871</td>\n",
       "      <td>2021-01-18</td>\n",
       "      <td>1</td>\n",
       "      <td>Кира</td>\n",
       "      <td>22</td>\n",
       "      <td>Тюмень</td>\n",
       "      <td>ultra</td>\n",
       "      <td>6</td>\n",
       "      <td>0</td>\n",
       "      <td>199</td>\n",
       "    </tr>\n",
       "    <tr>\n",
       "      <th>2</th>\n",
       "      <td>1</td>\n",
       "      <td>754.16</td>\n",
       "      <td>6.232113</td>\n",
       "      <td>2021-04-20</td>\n",
       "      <td>4</td>\n",
       "      <td>Кира</td>\n",
       "      <td>22</td>\n",
       "      <td>Тюмень</td>\n",
       "      <td>ultra</td>\n",
       "      <td>6</td>\n",
       "      <td>0</td>\n",
       "      <td>199</td>\n",
       "    </tr>\n",
       "    <tr>\n",
       "      <th>3</th>\n",
       "      <td>1</td>\n",
       "      <td>2694.78</td>\n",
       "      <td>18.511000</td>\n",
       "      <td>2021-08-11</td>\n",
       "      <td>8</td>\n",
       "      <td>Кира</td>\n",
       "      <td>22</td>\n",
       "      <td>Тюмень</td>\n",
       "      <td>ultra</td>\n",
       "      <td>6</td>\n",
       "      <td>0</td>\n",
       "      <td>199</td>\n",
       "    </tr>\n",
       "    <tr>\n",
       "      <th>4</th>\n",
       "      <td>1</td>\n",
       "      <td>4028.69</td>\n",
       "      <td>26.265803</td>\n",
       "      <td>2021-08-28</td>\n",
       "      <td>8</td>\n",
       "      <td>Кира</td>\n",
       "      <td>22</td>\n",
       "      <td>Тюмень</td>\n",
       "      <td>ultra</td>\n",
       "      <td>6</td>\n",
       "      <td>0</td>\n",
       "      <td>199</td>\n",
       "    </tr>\n",
       "  </tbody>\n",
       "</table>\n",
       "</div>"
      ],
      "text/plain": [
       "   user_id  distance   duration       date  month  name  age    city  \\\n",
       "0        1   4409.92  25.599769 2021-01-01      1  Кира   22  Тюмень   \n",
       "1        1   2617.59  15.816871 2021-01-18      1  Кира   22  Тюмень   \n",
       "2        1    754.16   6.232113 2021-04-20      4  Кира   22  Тюмень   \n",
       "3        1   2694.78  18.511000 2021-08-11      8  Кира   22  Тюмень   \n",
       "4        1   4028.69  26.265803 2021-08-28      8  Кира   22  Тюмень   \n",
       "\n",
       "  subscription_type  minute_price  start_ride_price  subscription_fee  \n",
       "0             ultra             6                 0               199  \n",
       "1             ultra             6                 0               199  \n",
       "2             ultra             6                 0               199  \n",
       "3             ultra             6                 0               199  \n",
       "4             ultra             6                 0               199  "
      ]
     },
     "execution_count": 116,
     "metadata": {},
     "output_type": "execute_result"
    }
   ],
   "source": [
    "df_ultra.head() # Выведем первые строки датафрейма"
   ]
  },
  {
   "cell_type": "code",
   "execution_count": 117,
   "id": "aec92882",
   "metadata": {},
   "outputs": [
    {
     "data": {
      "image/png": "[encoded data removed]",
      "text/plain": [
       "<Figure size 1400x600 with 2 Axes>"
      ]
     },
     "metadata": {},
     "output_type": "display_data"
    }
   ],
   "source": [
    "fig, axes = plt.subplots(1,2)\n",
    "\n",
    "fig.set_size_inches(14, 6)\n",
    "plt.subplot(1, 2, 1)\n",
    "axes = df_free['distance'].plot.hist(bins=50, grid=True, color ='c')\n",
    "axes.set_xlabel('Расстояние')\n",
    "axes.set_ylabel('Частота')\n",
    "axes.set_title('Гистограмма расстояний для пользователей без подписки')\n",
    "\n",
    "plt.subplot(1, 2, 2)\n",
    "axes = df_free['duration'].plot.hist(bins=50, grid=True, color ='c')\n",
    "axes.set_xlabel('Длительность')\n",
    "axes.set_ylabel('Частота')\n",
    "axes.set_title('Гистограмма длительностей поездок для пользователей без подписки')\n",
    "\n",
    "plt.show()"
   ]
  },
  {
   "cell_type": "code",
   "execution_count": 118,
   "id": "6ad4b44c",
   "metadata": {},
   "outputs": [
    {
     "data": {
      "image/png": "[encoded data removed]",
      "text/plain": [
       "<Figure size 1400x600 with 2 Axes>"
      ]
     },
     "metadata": {},
     "output_type": "display_data"
    }
   ],
   "source": [
    "fig, axes = plt.subplots(1,2)\n",
    "\n",
    "fig.set_size_inches(14, 6)\n",
    "plt.subplot(1, 2, 1)\n",
    "axes = df_ultra['distance'].plot.hist(bins=50, grid=True, color ='b')\n",
    "axes.set_xlabel('Расстояние')\n",
    "axes.set_ylabel('Частота')\n",
    "axes.set_title('Гистограмма расстояний для пользователей с подпиской')\n",
    "\n",
    "plt.subplot(1, 2, 2)\n",
    "axes = df_ultra['duration'].plot.hist(bins=50, grid=True, color ='b')\n",
    "axes.set_xlabel('Длительность')\n",
    "axes.set_ylabel('Частота')\n",
    "axes.set_title('Гистограмма длительностей поездок для пользователей с подпиской')\n",
    "\n",
    "plt.show()"
   ]
  },
  {
   "cell_type": "markdown",
   "id": "0301ff22",
   "metadata": {},
   "source": [
    "Построенные графики показывают различия в мере изменчивости переменной.\n",
    "Вычислим стандартные отклонения переменных"
   ]
  },
  {
   "cell_type": "code",
   "execution_count": 119,
   "id": "3a06a36f",
   "metadata": {},
   "outputs": [
    {
     "name": "stdout",
     "output_type": "stream",
     "text": [
      "Стандартное отклонение для расстояний у пользователей без подписки: 1246.173809519415\n",
      "Стандартное отклонение для расстояний у пользователей с подпиской: 836.895368921258\n",
      "\n",
      "Стандартное отклонение для длительности у пользователей без подписки: 6.326802859586479\n",
      "Стандартное отклонение для длительности у пользователей c подпиской: 5.572048329261361\n"
     ]
    }
   ],
   "source": [
    "print(f'Стандартное отклонение для расстояний у пользователей без подписки: {df_free[\"distance\"].std()}')\n",
    "print(f'Стандартное отклонение для расстояний у пользователей с подпиской: {df_ultra[\"distance\"].std()}')\n",
    "print()\n",
    "print(f'Стандартное отклонение для длительности у пользователей без подписки: {df_free[\"duration\"].std()}')\n",
    "print(f'Стандартное отклонение для длительности у пользователей c подпиской: {df_ultra[\"duration\"].std()}')"
   ]
  },
  {
   "cell_type": "markdown",
   "id": "a79e458b",
   "metadata": {},
   "source": [
    "**Дополним анализ описательной статистикой**"
   ]
  },
  {
   "cell_type": "code",
   "execution_count": 120,
   "id": "de9a64f3",
   "metadata": {},
   "outputs": [
    {
     "data": {
      "text/html": [
       "<div>\n",
       "<style scoped>\n",
       "    .dataframe tbody tr th:only-of-type {\n",
       "        vertical-align: middle;\n",
       "    }\n",
       "\n",
       "    .dataframe tbody tr th {\n",
       "        vertical-align: top;\n",
       "    }\n",
       "\n",
       "    .dataframe thead th {\n",
       "        text-align: right;\n",
       "    }\n",
       "</style>\n",
       "<table border=\"1\" class=\"dataframe\">\n",
       "  <thead>\n",
       "    <tr style=\"text-align: right;\">\n",
       "      <th></th>\n",
       "      <th>user_id</th>\n",
       "      <th>distance</th>\n",
       "      <th>duration</th>\n",
       "      <th>date</th>\n",
       "      <th>month</th>\n",
       "      <th>age</th>\n",
       "      <th>minute_price</th>\n",
       "      <th>start_ride_price</th>\n",
       "      <th>subscription_fee</th>\n",
       "    </tr>\n",
       "  </thead>\n",
       "  <tbody>\n",
       "    <tr>\n",
       "      <th>count</th>\n",
       "      <td>11568.000000</td>\n",
       "      <td>11568.000000</td>\n",
       "      <td>11568.000000</td>\n",
       "      <td>11568</td>\n",
       "      <td>11568.000000</td>\n",
       "      <td>11568.000000</td>\n",
       "      <td>11568.0</td>\n",
       "      <td>11568.0</td>\n",
       "      <td>11568.0</td>\n",
       "    </tr>\n",
       "    <tr>\n",
       "      <th>mean</th>\n",
       "      <td>1120.527230</td>\n",
       "      <td>3045.495284</td>\n",
       "      <td>17.390909</td>\n",
       "      <td>2021-07-01 21:47:03.236514560</td>\n",
       "      <td>6.522994</td>\n",
       "      <td>24.893326</td>\n",
       "      <td>8.0</td>\n",
       "      <td>50.0</td>\n",
       "      <td>0.0</td>\n",
       "    </tr>\n",
       "    <tr>\n",
       "      <th>min</th>\n",
       "      <td>700.000000</td>\n",
       "      <td>0.860000</td>\n",
       "      <td>0.500000</td>\n",
       "      <td>2021-01-01 00:00:00</td>\n",
       "      <td>1.000000</td>\n",
       "      <td>12.000000</td>\n",
       "      <td>8.0</td>\n",
       "      <td>50.0</td>\n",
       "      <td>0.0</td>\n",
       "    </tr>\n",
       "    <tr>\n",
       "      <th>25%</th>\n",
       "      <td>915.000000</td>\n",
       "      <td>2366.560000</td>\n",
       "      <td>12.958437</td>\n",
       "      <td>2021-04-02 00:00:00</td>\n",
       "      <td>4.000000</td>\n",
       "      <td>22.000000</td>\n",
       "      <td>8.0</td>\n",
       "      <td>50.0</td>\n",
       "      <td>0.0</td>\n",
       "    </tr>\n",
       "    <tr>\n",
       "      <th>50%</th>\n",
       "      <td>1123.000000</td>\n",
       "      <td>3114.650000</td>\n",
       "      <td>17.326890</td>\n",
       "      <td>2021-07-01 00:00:00</td>\n",
       "      <td>7.000000</td>\n",
       "      <td>25.000000</td>\n",
       "      <td>8.0</td>\n",
       "      <td>50.0</td>\n",
       "      <td>0.0</td>\n",
       "    </tr>\n",
       "    <tr>\n",
       "      <th>75%</th>\n",
       "      <td>1328.000000</td>\n",
       "      <td>3905.695000</td>\n",
       "      <td>21.594071</td>\n",
       "      <td>2021-09-30 00:00:00</td>\n",
       "      <td>9.000000</td>\n",
       "      <td>28.000000</td>\n",
       "      <td>8.0</td>\n",
       "      <td>50.0</td>\n",
       "      <td>0.0</td>\n",
       "    </tr>\n",
       "    <tr>\n",
       "      <th>max</th>\n",
       "      <td>1534.000000</td>\n",
       "      <td>7211.010000</td>\n",
       "      <td>34.948498</td>\n",
       "      <td>2021-12-30 00:00:00</td>\n",
       "      <td>12.000000</td>\n",
       "      <td>43.000000</td>\n",
       "      <td>8.0</td>\n",
       "      <td>50.0</td>\n",
       "      <td>0.0</td>\n",
       "    </tr>\n",
       "    <tr>\n",
       "      <th>std</th>\n",
       "      <td>241.165628</td>\n",
       "      <td>1246.173810</td>\n",
       "      <td>6.326803</td>\n",
       "      <td>NaN</td>\n",
       "      <td>3.449770</td>\n",
       "      <td>4.481100</td>\n",
       "      <td>0.0</td>\n",
       "      <td>0.0</td>\n",
       "      <td>0.0</td>\n",
       "    </tr>\n",
       "  </tbody>\n",
       "</table>\n",
       "</div>"
      ],
      "text/plain": [
       "            user_id      distance      duration  \\\n",
       "count  11568.000000  11568.000000  11568.000000   \n",
       "mean    1120.527230   3045.495284     17.390909   \n",
       "min      700.000000      0.860000      0.500000   \n",
       "25%      915.000000   2366.560000     12.958437   \n",
       "50%     1123.000000   3114.650000     17.326890   \n",
       "75%     1328.000000   3905.695000     21.594071   \n",
       "max     1534.000000   7211.010000     34.948498   \n",
       "std      241.165628   1246.173810      6.326803   \n",
       "\n",
       "                                date         month           age  \\\n",
       "count                          11568  11568.000000  11568.000000   \n",
       "mean   2021-07-01 21:47:03.236514560      6.522994     24.893326   \n",
       "min              2021-01-01 00:00:00      1.000000     12.000000   \n",
       "25%              2021-04-02 00:00:00      4.000000     22.000000   \n",
       "50%              2021-07-01 00:00:00      7.000000     25.000000   \n",
       "75%              2021-09-30 00:00:00      9.000000     28.000000   \n",
       "max              2021-12-30 00:00:00     12.000000     43.000000   \n",
       "std                              NaN      3.449770      4.481100   \n",
       "\n",
       "       minute_price  start_ride_price  subscription_fee  \n",
       "count       11568.0           11568.0           11568.0  \n",
       "mean            8.0              50.0               0.0  \n",
       "min             8.0              50.0               0.0  \n",
       "25%             8.0              50.0               0.0  \n",
       "50%             8.0              50.0               0.0  \n",
       "75%             8.0              50.0               0.0  \n",
       "max             8.0              50.0               0.0  \n",
       "std             0.0               0.0               0.0  "
      ]
     },
     "execution_count": 120,
     "metadata": {},
     "output_type": "execute_result"
    }
   ],
   "source": [
    "df_free.describe()"
   ]
  },
  {
   "cell_type": "code",
   "execution_count": 121,
   "id": "76ecc789",
   "metadata": {},
   "outputs": [
    {
     "data": {
      "text/html": [
       "<div>\n",
       "<style scoped>\n",
       "    .dataframe tbody tr th:only-of-type {\n",
       "        vertical-align: middle;\n",
       "    }\n",
       "\n",
       "    .dataframe tbody tr th {\n",
       "        vertical-align: top;\n",
       "    }\n",
       "\n",
       "    .dataframe thead th {\n",
       "        text-align: right;\n",
       "    }\n",
       "</style>\n",
       "<table border=\"1\" class=\"dataframe\">\n",
       "  <thead>\n",
       "    <tr style=\"text-align: right;\">\n",
       "      <th></th>\n",
       "      <th>user_id</th>\n",
       "      <th>distance</th>\n",
       "      <th>duration</th>\n",
       "      <th>date</th>\n",
       "      <th>month</th>\n",
       "      <th>age</th>\n",
       "      <th>minute_price</th>\n",
       "      <th>start_ride_price</th>\n",
       "      <th>subscription_fee</th>\n",
       "    </tr>\n",
       "  </thead>\n",
       "  <tbody>\n",
       "    <tr>\n",
       "      <th>count</th>\n",
       "      <td>6500.000000</td>\n",
       "      <td>6500.000000</td>\n",
       "      <td>6500.000000</td>\n",
       "      <td>6500</td>\n",
       "      <td>6500.000000</td>\n",
       "      <td>6500.000000</td>\n",
       "      <td>6500.0</td>\n",
       "      <td>6500.0</td>\n",
       "      <td>6500.0</td>\n",
       "    </tr>\n",
       "    <tr>\n",
       "      <th>mean</th>\n",
       "      <td>348.725385</td>\n",
       "      <td>3115.445431</td>\n",
       "      <td>18.541985</td>\n",
       "      <td>2021-06-28 21:31:34.153846016</td>\n",
       "      <td>6.422308</td>\n",
       "      <td>24.892615</td>\n",
       "      <td>6.0</td>\n",
       "      <td>0.0</td>\n",
       "      <td>199.0</td>\n",
       "    </tr>\n",
       "    <tr>\n",
       "      <th>min</th>\n",
       "      <td>1.000000</td>\n",
       "      <td>244.210000</td>\n",
       "      <td>3.760353</td>\n",
       "      <td>2021-01-01 00:00:00</td>\n",
       "      <td>1.000000</td>\n",
       "      <td>12.000000</td>\n",
       "      <td>6.0</td>\n",
       "      <td>0.0</td>\n",
       "      <td>199.0</td>\n",
       "    </tr>\n",
       "    <tr>\n",
       "      <th>25%</th>\n",
       "      <td>175.000000</td>\n",
       "      <td>2785.447500</td>\n",
       "      <td>14.524654</td>\n",
       "      <td>2021-04-01 00:00:00</td>\n",
       "      <td>4.000000</td>\n",
       "      <td>22.000000</td>\n",
       "      <td>6.0</td>\n",
       "      <td>0.0</td>\n",
       "      <td>199.0</td>\n",
       "    </tr>\n",
       "    <tr>\n",
       "      <th>50%</th>\n",
       "      <td>351.000000</td>\n",
       "      <td>3148.640000</td>\n",
       "      <td>18.178153</td>\n",
       "      <td>2021-06-27 00:00:00</td>\n",
       "      <td>6.000000</td>\n",
       "      <td>25.000000</td>\n",
       "      <td>6.0</td>\n",
       "      <td>0.0</td>\n",
       "      <td>199.0</td>\n",
       "    </tr>\n",
       "    <tr>\n",
       "      <th>75%</th>\n",
       "      <td>525.000000</td>\n",
       "      <td>3560.577500</td>\n",
       "      <td>21.884129</td>\n",
       "      <td>2021-09-25 00:00:00</td>\n",
       "      <td>9.000000</td>\n",
       "      <td>28.000000</td>\n",
       "      <td>6.0</td>\n",
       "      <td>0.0</td>\n",
       "      <td>199.0</td>\n",
       "    </tr>\n",
       "    <tr>\n",
       "      <th>max</th>\n",
       "      <td>699.000000</td>\n",
       "      <td>5699.770000</td>\n",
       "      <td>40.823963</td>\n",
       "      <td>2021-12-30 00:00:00</td>\n",
       "      <td>12.000000</td>\n",
       "      <td>38.000000</td>\n",
       "      <td>6.0</td>\n",
       "      <td>0.0</td>\n",
       "      <td>199.0</td>\n",
       "    </tr>\n",
       "    <tr>\n",
       "      <th>std</th>\n",
       "      <td>201.099339</td>\n",
       "      <td>836.895369</td>\n",
       "      <td>5.572048</td>\n",
       "      <td>NaN</td>\n",
       "      <td>3.414616</td>\n",
       "      <td>4.757208</td>\n",
       "      <td>0.0</td>\n",
       "      <td>0.0</td>\n",
       "      <td>0.0</td>\n",
       "    </tr>\n",
       "  </tbody>\n",
       "</table>\n",
       "</div>"
      ],
      "text/plain": [
       "           user_id     distance     duration                           date  \\\n",
       "count  6500.000000  6500.000000  6500.000000                           6500   \n",
       "mean    348.725385  3115.445431    18.541985  2021-06-28 21:31:34.153846016   \n",
       "min       1.000000   244.210000     3.760353            2021-01-01 00:00:00   \n",
       "25%     175.000000  2785.447500    14.524654            2021-04-01 00:00:00   \n",
       "50%     351.000000  3148.640000    18.178153            2021-06-27 00:00:00   \n",
       "75%     525.000000  3560.577500    21.884129            2021-09-25 00:00:00   \n",
       "max     699.000000  5699.770000    40.823963            2021-12-30 00:00:00   \n",
       "std     201.099339   836.895369     5.572048                            NaN   \n",
       "\n",
       "             month          age  minute_price  start_ride_price  \\\n",
       "count  6500.000000  6500.000000        6500.0            6500.0   \n",
       "mean      6.422308    24.892615           6.0               0.0   \n",
       "min       1.000000    12.000000           6.0               0.0   \n",
       "25%       4.000000    22.000000           6.0               0.0   \n",
       "50%       6.000000    25.000000           6.0               0.0   \n",
       "75%       9.000000    28.000000           6.0               0.0   \n",
       "max      12.000000    38.000000           6.0               0.0   \n",
       "std       3.414616     4.757208           0.0               0.0   \n",
       "\n",
       "       subscription_fee  \n",
       "count            6500.0  \n",
       "mean              199.0  \n",
       "min               199.0  \n",
       "25%               199.0  \n",
       "50%               199.0  \n",
       "75%               199.0  \n",
       "max               199.0  \n",
       "std                 0.0  "
      ]
     },
     "execution_count": 121,
     "metadata": {},
     "output_type": "execute_result"
    }
   ],
   "source": [
    "df_ultra.describe()"
   ]
  },
  {
   "cell_type": "markdown",
   "id": "f6176bae",
   "metadata": {},
   "source": [
    "**Вывод:**\n",
    "\n",
    "Распределения длительности и расстояния поездок для пользователей без подписки характеризуется большим стандартным отклонением, по сравнению с распределениями для пользователей с подпиской."
   ]
  },
  {
   "cell_type": "markdown",
   "id": "402d620f",
   "metadata": {},
   "source": [
    "##  Подсчёт выручки"
   ]
  },
  {
   "cell_type": "markdown",
   "id": "feadb4c4",
   "metadata": {},
   "source": [
    "Создадим сводную таблицу, в которой будет информация о суммарном расстоянии, количестве поездок и суммарном времени для каждого пользователя за каждый месяц."
   ]
  },
  {
   "cell_type": "markdown",
   "id": "b565648f",
   "metadata": {},
   "source": [
    "**Округление**"
   ]
  },
  {
   "cell_type": "markdown",
   "id": "c1ac2797",
   "metadata": {},
   "source": [
    "Перед тем как создавать сводную таблицу округлим данные по длительности поездки до минут."
   ]
  },
  {
   "cell_type": "code",
   "execution_count": 122,
   "id": "02b764a6",
   "metadata": {
    "scrolled": true
   },
   "outputs": [],
   "source": [
    "df['duration'] = np.ceil(df['duration']) "
   ]
  },
  {
   "cell_type": "code",
   "execution_count": 123,
   "id": "53049e0a",
   "metadata": {},
   "outputs": [
    {
     "data": {
      "text/html": [
       "<div>\n",
       "<style scoped>\n",
       "    .dataframe tbody tr th:only-of-type {\n",
       "        vertical-align: middle;\n",
       "    }\n",
       "\n",
       "    .dataframe tbody tr th {\n",
       "        vertical-align: top;\n",
       "    }\n",
       "\n",
       "    .dataframe thead th {\n",
       "        text-align: right;\n",
       "    }\n",
       "</style>\n",
       "<table border=\"1\" class=\"dataframe\">\n",
       "  <thead>\n",
       "    <tr style=\"text-align: right;\">\n",
       "      <th></th>\n",
       "      <th></th>\n",
       "      <th>distance</th>\n",
       "      <th>duration</th>\n",
       "      <th>count</th>\n",
       "    </tr>\n",
       "    <tr>\n",
       "      <th>user_id</th>\n",
       "      <th>month</th>\n",
       "      <th></th>\n",
       "      <th></th>\n",
       "      <th></th>\n",
       "    </tr>\n",
       "  </thead>\n",
       "  <tbody>\n",
       "    <tr>\n",
       "      <th rowspan=\"6\" valign=\"top\">1</th>\n",
       "      <th>1</th>\n",
       "      <td>7027.51</td>\n",
       "      <td>42.0</td>\n",
       "      <td>2</td>\n",
       "    </tr>\n",
       "    <tr>\n",
       "      <th>4</th>\n",
       "      <td>754.16</td>\n",
       "      <td>7.0</td>\n",
       "      <td>1</td>\n",
       "    </tr>\n",
       "    <tr>\n",
       "      <th>8</th>\n",
       "      <td>6723.47</td>\n",
       "      <td>46.0</td>\n",
       "      <td>2</td>\n",
       "    </tr>\n",
       "    <tr>\n",
       "      <th>10</th>\n",
       "      <td>5809.91</td>\n",
       "      <td>32.0</td>\n",
       "      <td>2</td>\n",
       "    </tr>\n",
       "    <tr>\n",
       "      <th>11</th>\n",
       "      <td>7003.50</td>\n",
       "      <td>56.0</td>\n",
       "      <td>3</td>\n",
       "    </tr>\n",
       "    <tr>\n",
       "      <th>12</th>\n",
       "      <td>6751.63</td>\n",
       "      <td>28.0</td>\n",
       "      <td>2</td>\n",
       "    </tr>\n",
       "    <tr>\n",
       "      <th rowspan=\"4\" valign=\"top\">2</th>\n",
       "      <th>3</th>\n",
       "      <td>10187.73</td>\n",
       "      <td>63.0</td>\n",
       "      <td>3</td>\n",
       "    </tr>\n",
       "    <tr>\n",
       "      <th>4</th>\n",
       "      <td>6164.39</td>\n",
       "      <td>40.0</td>\n",
       "      <td>2</td>\n",
       "    </tr>\n",
       "    <tr>\n",
       "      <th>6</th>\n",
       "      <td>3255.34</td>\n",
       "      <td>14.0</td>\n",
       "      <td>1</td>\n",
       "    </tr>\n",
       "    <tr>\n",
       "      <th>7</th>\n",
       "      <td>6780.73</td>\n",
       "      <td>48.0</td>\n",
       "      <td>2</td>\n",
       "    </tr>\n",
       "  </tbody>\n",
       "</table>\n",
       "</div>"
      ],
      "text/plain": [
       "               distance  duration  count\n",
       "user_id month                           \n",
       "1       1       7027.51      42.0      2\n",
       "        4        754.16       7.0      1\n",
       "        8       6723.47      46.0      2\n",
       "        10      5809.91      32.0      2\n",
       "        11      7003.50      56.0      3\n",
       "        12      6751.63      28.0      2\n",
       "2       3      10187.73      63.0      3\n",
       "        4       6164.39      40.0      2\n",
       "        6       3255.34      14.0      1\n",
       "        7       6780.73      48.0      2"
      ]
     },
     "execution_count": 123,
     "metadata": {},
     "output_type": "execute_result"
    }
   ],
   "source": [
    "df_agg = df.pivot_table(index=['user_id','month'],values=['distance','duration'],aggfunc='sum')\n",
    "df_agg['count'] = df.pivot_table(index=['user_id','month'],values='distance',aggfunc='count')\n",
    "df_agg.head(10) "
   ]
  },
  {
   "cell_type": "markdown",
   "id": "6f0dd143",
   "metadata": {},
   "source": [
    "Для подсчёта общей стоимости создадим таблицу `df_agg_calc` на основании `df_agg` содержащаю стоимость одной минуты поезки, стоимость старта поездки и стоимость подписки"
   ]
  },
  {
   "cell_type": "code",
   "execution_count": 124,
   "id": "a9cdd3a8",
   "metadata": {},
   "outputs": [
    {
     "data": {
      "text/html": [
       "<div>\n",
       "<style scoped>\n",
       "    .dataframe tbody tr th:only-of-type {\n",
       "        vertical-align: middle;\n",
       "    }\n",
       "\n",
       "    .dataframe tbody tr th {\n",
       "        vertical-align: top;\n",
       "    }\n",
       "\n",
       "    .dataframe thead th {\n",
       "        text-align: right;\n",
       "    }\n",
       "</style>\n",
       "<table border=\"1\" class=\"dataframe\">\n",
       "  <thead>\n",
       "    <tr style=\"text-align: right;\">\n",
       "      <th></th>\n",
       "      <th></th>\n",
       "      <th>distance</th>\n",
       "      <th>duration</th>\n",
       "      <th>count</th>\n",
       "      <th>minute_price</th>\n",
       "      <th>start_ride_price</th>\n",
       "      <th>subscription_fee</th>\n",
       "    </tr>\n",
       "    <tr>\n",
       "      <th>user_id</th>\n",
       "      <th>month</th>\n",
       "      <th></th>\n",
       "      <th></th>\n",
       "      <th></th>\n",
       "      <th></th>\n",
       "      <th></th>\n",
       "      <th></th>\n",
       "    </tr>\n",
       "  </thead>\n",
       "  <tbody>\n",
       "    <tr>\n",
       "      <th rowspan=\"6\" valign=\"top\">1</th>\n",
       "      <th>1</th>\n",
       "      <td>7027.51</td>\n",
       "      <td>42.0</td>\n",
       "      <td>2</td>\n",
       "      <td>6.0</td>\n",
       "      <td>0.0</td>\n",
       "      <td>199.0</td>\n",
       "    </tr>\n",
       "    <tr>\n",
       "      <th>4</th>\n",
       "      <td>754.16</td>\n",
       "      <td>7.0</td>\n",
       "      <td>1</td>\n",
       "      <td>6.0</td>\n",
       "      <td>0.0</td>\n",
       "      <td>199.0</td>\n",
       "    </tr>\n",
       "    <tr>\n",
       "      <th>8</th>\n",
       "      <td>6723.47</td>\n",
       "      <td>46.0</td>\n",
       "      <td>2</td>\n",
       "      <td>6.0</td>\n",
       "      <td>0.0</td>\n",
       "      <td>199.0</td>\n",
       "    </tr>\n",
       "    <tr>\n",
       "      <th>10</th>\n",
       "      <td>5809.91</td>\n",
       "      <td>32.0</td>\n",
       "      <td>2</td>\n",
       "      <td>6.0</td>\n",
       "      <td>0.0</td>\n",
       "      <td>199.0</td>\n",
       "    </tr>\n",
       "    <tr>\n",
       "      <th>11</th>\n",
       "      <td>7003.50</td>\n",
       "      <td>56.0</td>\n",
       "      <td>3</td>\n",
       "      <td>6.0</td>\n",
       "      <td>0.0</td>\n",
       "      <td>199.0</td>\n",
       "    </tr>\n",
       "    <tr>\n",
       "      <th>12</th>\n",
       "      <td>6751.63</td>\n",
       "      <td>28.0</td>\n",
       "      <td>2</td>\n",
       "      <td>6.0</td>\n",
       "      <td>0.0</td>\n",
       "      <td>199.0</td>\n",
       "    </tr>\n",
       "    <tr>\n",
       "      <th rowspan=\"4\" valign=\"top\">2</th>\n",
       "      <th>3</th>\n",
       "      <td>10187.73</td>\n",
       "      <td>63.0</td>\n",
       "      <td>3</td>\n",
       "      <td>6.0</td>\n",
       "      <td>0.0</td>\n",
       "      <td>199.0</td>\n",
       "    </tr>\n",
       "    <tr>\n",
       "      <th>4</th>\n",
       "      <td>6164.39</td>\n",
       "      <td>40.0</td>\n",
       "      <td>2</td>\n",
       "      <td>6.0</td>\n",
       "      <td>0.0</td>\n",
       "      <td>199.0</td>\n",
       "    </tr>\n",
       "    <tr>\n",
       "      <th>6</th>\n",
       "      <td>3255.34</td>\n",
       "      <td>14.0</td>\n",
       "      <td>1</td>\n",
       "      <td>6.0</td>\n",
       "      <td>0.0</td>\n",
       "      <td>199.0</td>\n",
       "    </tr>\n",
       "    <tr>\n",
       "      <th>7</th>\n",
       "      <td>6780.73</td>\n",
       "      <td>48.0</td>\n",
       "      <td>2</td>\n",
       "      <td>6.0</td>\n",
       "      <td>0.0</td>\n",
       "      <td>199.0</td>\n",
       "    </tr>\n",
       "  </tbody>\n",
       "</table>\n",
       "</div>"
      ],
      "text/plain": [
       "               distance  duration  count  minute_price  start_ride_price  \\\n",
       "user_id month                                                              \n",
       "1       1       7027.51      42.0      2           6.0               0.0   \n",
       "        4        754.16       7.0      1           6.0               0.0   \n",
       "        8       6723.47      46.0      2           6.0               0.0   \n",
       "        10      5809.91      32.0      2           6.0               0.0   \n",
       "        11      7003.50      56.0      3           6.0               0.0   \n",
       "        12      6751.63      28.0      2           6.0               0.0   \n",
       "2       3      10187.73      63.0      3           6.0               0.0   \n",
       "        4       6164.39      40.0      2           6.0               0.0   \n",
       "        6       3255.34      14.0      1           6.0               0.0   \n",
       "        7       6780.73      48.0      2           6.0               0.0   \n",
       "\n",
       "               subscription_fee  \n",
       "user_id month                    \n",
       "1       1                 199.0  \n",
       "        4                 199.0  \n",
       "        8                 199.0  \n",
       "        10                199.0  \n",
       "        11                199.0  \n",
       "        12                199.0  \n",
       "2       3                 199.0  \n",
       "        4                 199.0  \n",
       "        6                 199.0  \n",
       "        7                 199.0  "
      ]
     },
     "execution_count": 124,
     "metadata": {},
     "output_type": "execute_result"
    }
   ],
   "source": [
    "df_agg_calc = df_agg.join(df.pivot_table(index=['user_id','month'],\n",
    "                                         values=['minute_price','start_ride_price','subscription_fee'],aggfunc='mean'))\n",
    "df_agg_calc.head(10)"
   ]
  },
  {
   "cell_type": "markdown",
   "id": "e8fe1edc",
   "metadata": {},
   "source": [
    "**Проверим пропуски в столбцах  созданной таблицы перед расчётом**"
   ]
  },
  {
   "cell_type": "code",
   "execution_count": 125,
   "id": "8c2159df",
   "metadata": {},
   "outputs": [
    {
     "data": {
      "text/plain": [
       "distance            0\n",
       "duration            0\n",
       "count               0\n",
       "minute_price        0\n",
       "start_ride_price    0\n",
       "subscription_fee    0\n",
       "dtype: int64"
      ]
     },
     "execution_count": 125,
     "metadata": {},
     "output_type": "execute_result"
    }
   ],
   "source": [
    "df_agg_calc.isna().sum()"
   ]
  },
  {
   "cell_type": "markdown",
   "id": "b8cc7ae8",
   "metadata": {},
   "source": [
    "В таблице отсутсвуют пропуски."
   ]
  },
  {
   "cell_type": "code",
   "execution_count": 126,
   "id": "84140527",
   "metadata": {},
   "outputs": [],
   "source": [
    "def calc(line):\n",
    "    return line['count']*line['start_ride_price'] + line['minute_price']*line['duration'] + line['subscription_fee']"
   ]
  },
  {
   "cell_type": "markdown",
   "id": "aa37b8b1",
   "metadata": {},
   "source": [
    "Применим написанную функцию к датафрейму и добавим полученный в ходе расчётов столбец в исходный датафрейм `df_agg`"
   ]
  },
  {
   "cell_type": "code",
   "execution_count": 127,
   "id": "600fcbdc",
   "metadata": {},
   "outputs": [
    {
     "data": {
      "text/html": [
       "<div>\n",
       "<style scoped>\n",
       "    .dataframe tbody tr th:only-of-type {\n",
       "        vertical-align: middle;\n",
       "    }\n",
       "\n",
       "    .dataframe tbody tr th {\n",
       "        vertical-align: top;\n",
       "    }\n",
       "\n",
       "    .dataframe thead th {\n",
       "        text-align: right;\n",
       "    }\n",
       "</style>\n",
       "<table border=\"1\" class=\"dataframe\">\n",
       "  <thead>\n",
       "    <tr style=\"text-align: right;\">\n",
       "      <th></th>\n",
       "      <th></th>\n",
       "      <th>distance</th>\n",
       "      <th>duration</th>\n",
       "      <th>count</th>\n",
       "      <th>revenue</th>\n",
       "    </tr>\n",
       "    <tr>\n",
       "      <th>user_id</th>\n",
       "      <th>month</th>\n",
       "      <th></th>\n",
       "      <th></th>\n",
       "      <th></th>\n",
       "      <th></th>\n",
       "    </tr>\n",
       "  </thead>\n",
       "  <tbody>\n",
       "    <tr>\n",
       "      <th rowspan=\"5\" valign=\"top\">1</th>\n",
       "      <th>1</th>\n",
       "      <td>7027.51</td>\n",
       "      <td>42.0</td>\n",
       "      <td>2</td>\n",
       "      <td>451.0</td>\n",
       "    </tr>\n",
       "    <tr>\n",
       "      <th>4</th>\n",
       "      <td>754.16</td>\n",
       "      <td>7.0</td>\n",
       "      <td>1</td>\n",
       "      <td>241.0</td>\n",
       "    </tr>\n",
       "    <tr>\n",
       "      <th>8</th>\n",
       "      <td>6723.47</td>\n",
       "      <td>46.0</td>\n",
       "      <td>2</td>\n",
       "      <td>475.0</td>\n",
       "    </tr>\n",
       "    <tr>\n",
       "      <th>10</th>\n",
       "      <td>5809.91</td>\n",
       "      <td>32.0</td>\n",
       "      <td>2</td>\n",
       "      <td>391.0</td>\n",
       "    </tr>\n",
       "    <tr>\n",
       "      <th>11</th>\n",
       "      <td>7003.50</td>\n",
       "      <td>56.0</td>\n",
       "      <td>3</td>\n",
       "      <td>535.0</td>\n",
       "    </tr>\n",
       "  </tbody>\n",
       "</table>\n",
       "</div>"
      ],
      "text/plain": [
       "               distance  duration  count  revenue\n",
       "user_id month                                    \n",
       "1       1       7027.51      42.0      2    451.0\n",
       "        4        754.16       7.0      1    241.0\n",
       "        8       6723.47      46.0      2    475.0\n",
       "        10      5809.91      32.0      2    391.0\n",
       "        11      7003.50      56.0      3    535.0"
      ]
     },
     "execution_count": 127,
     "metadata": {},
     "output_type": "execute_result"
    }
   ],
   "source": [
    "df_agg['revenue'] = df_agg_calc.apply(calc, axis=1)\n",
    "df_agg_calc['revenue'] = df_agg_calc.apply(calc, axis=1)\n",
    "df_agg.head()"
   ]
  },
  {
   "cell_type": "markdown",
   "id": "9cfc5363",
   "metadata": {},
   "source": [
    "В ходе данного этапа были получены данные с помесячной выручкой для каждого пользователя"
   ]
  },
  {
   "cell_type": "markdown",
   "id": "41545ac0",
   "metadata": {},
   "source": [
    "## Проверка гипотез"
   ]
  },
  {
   "cell_type": "markdown",
   "id": "a94cc9eb",
   "metadata": {},
   "source": [
    "### Проверка гипотезы о равенстве длительности поездки для подписчиков и пользователей без подписки"
   ]
  },
  {
   "cell_type": "markdown",
   "id": "d92fb07c",
   "metadata": {},
   "source": [
    "Для того, чтобы проверить равенство длительностей поездок в выборках с подпиской и без необходимо проверить гипотезу о равенстве средних двух генеральных совокупностей.\n",
    "\n",
    "Для этого применяется Т-тест для несвязанных выборок."
   ]
  },
  {
   "cell_type": "markdown",
   "id": "37153e50",
   "metadata": {},
   "source": [
    "* Нулевая гипотеза - средние генеральных совокупностей равны\n",
    "* Альтернативная гипотеза - среднее генеральной совокупности длительности поездок для пользователей без подписки меньше среднего генеральной совокупности длительности поездок для пользователей с подпиской"
   ]
  },
  {
   "cell_type": "code",
   "execution_count": 128,
   "id": "aa03085b",
   "metadata": {},
   "outputs": [
    {
     "name": "stdout",
     "output_type": "stream",
     "text": [
      "Полученное p-значение: 1.2804098316645618e-34\n",
      "p-значение меньше уровня значимости\n"
     ]
    }
   ],
   "source": [
    "alpha = 0.01\n",
    "result = st.ttest_ind(df_ultra['duration'],df_free['duration'], alternative='greater') \n",
    "#Проводя тест будем считать что дисперсии равны (можно дополнительно провести F-тест, но мы это делать не будем) \n",
    "print(f\"Полученное p-значение: {result.pvalue}\")\n",
    "if alpha < result.pvalue:\n",
    "    print(f'p-значение больше уровня значимости')\n",
    "else:\n",
    "    print(f\"p-значение меньше уровня значимости\")"
   ]
  },
  {
   "cell_type": "markdown",
   "id": "25fd2cda",
   "metadata": {},
   "source": [
    "p-значение меньше уровня значимости - нулевая гипотеза отвергается и принимается альтернативная гипотеза"
   ]
  },
  {
   "cell_type": "markdown",
   "id": "99d0fec3",
   "metadata": {},
   "source": [
    "**Покажем средние выборок**"
   ]
  },
  {
   "cell_type": "code",
   "execution_count": 129,
   "id": "497ebd0c",
   "metadata": {},
   "outputs": [
    {
     "name": "stdout",
     "output_type": "stream",
     "text": [
      "Средняя длительность поездок у пользоватлей с подпиской равна: 18.54198516280583\n",
      "Средняя длительность поездок у пользоватлей без подписки равна: 17.39090929866399\n"
     ]
    }
   ],
   "source": [
    "print(f'Средняя длительность поездок у пользоватлей с подпиской равна: {df_ultra[\"duration\"].mean()}')\n",
    "print(f'Средняя длительность поездок у пользоватлей без подписки равна: {df_free[\"duration\"].mean()}')"
   ]
  },
  {
   "cell_type": "markdown",
   "id": "5b96f621",
   "metadata": {},
   "source": [
    "**Вывод** \n",
    "\n",
    "Статистически доказано, что люди с подпиской в среднем имеют б**о**льшую длительность поездки по сравнению с людьми без подписки"
   ]
  },
  {
   "cell_type": "markdown",
   "id": "2f76fc6b",
   "metadata": {},
   "source": [
    "### Проверка гипотезы о равенстве расстояния поездки для подписчиков"
   ]
  },
  {
   "cell_type": "markdown",
   "id": "3386f209",
   "metadata": {},
   "source": [
    "Для того, чтобы проверить равенство среднего поездок в выборках с подпиской и заданного числа необходимо проверить гипотезу о равенстве среднего генеральных совокупности заданному числу.\n",
    "\n",
    "Для этого применяется Т-тест для одной выборки.\n",
    "\n",
    "* Нулевая гипотеза - средняя длительность поездки для пользователей с подпиской равна 3130 м.\n",
    "* Альтернативная гипотеза - средняя длительность поездки для пользователей с подпиской больше чем 3130 м."
   ]
  },
  {
   "cell_type": "code",
   "execution_count": 130,
   "id": "97dfda3f",
   "metadata": {},
   "outputs": [
    {
     "name": "stdout",
     "output_type": "stream",
     "text": [
      "Полученное p-значение: 0.9195362605842414\n",
      "p-значение больше уровня значимости\n"
     ]
    }
   ],
   "source": [
    "alpha = 0.01\n",
    "\n",
    "distance = 3130\n",
    "result = st.ttest_1samp(df_ultra['distance'], distance, alternative='greater') \n",
    "\n",
    "print(f\"Полученное p-значение: {result.pvalue}\")\n",
    "if alpha < result.pvalue:\n",
    "    print(f'p-значение больше уровня значимости')\n",
    "else:\n",
    "    print(f\"p-значение меньше уровня значимости\")"
   ]
  },
  {
   "cell_type": "markdown",
   "id": "461b267c",
   "metadata": {},
   "source": [
    "p-значение больше уровня значимости - нулевая гипотеза не отвергается.\n",
    "\n",
    "**Вывод**\n",
    "\n",
    "Статистически доказано, что среднее значение пройденных расстояний у пользователей с подпиской не превышает расстояния оптимального по износу самокатов."
   ]
  },
  {
   "cell_type": "markdown",
   "id": "32442678",
   "metadata": {},
   "source": [
    "### Проверка гипотезы о равенстве выручек"
   ]
  },
  {
   "cell_type": "markdown",
   "id": "a073d270",
   "metadata": {},
   "source": [
    "Найдём выручку по месяцам для пользователей с подпиской и без."
   ]
  },
  {
   "cell_type": "markdown",
   "id": "6f1caebc",
   "metadata": {},
   "source": [
    "Воспользуемся таблицей из пункта 5 для того, чтобы отделить людей с подпиской и без."
   ]
  },
  {
   "cell_type": "markdown",
   "id": "c6d6ac2e",
   "metadata": {},
   "source": [
    "У людей с подпиской цена минуты равна 6 рублям"
   ]
  },
  {
   "cell_type": "code",
   "execution_count": 131,
   "id": "91aa74d9",
   "metadata": {},
   "outputs": [
    {
     "data": {
      "text/html": [
       "<div>\n",
       "<style scoped>\n",
       "    .dataframe tbody tr th:only-of-type {\n",
       "        vertical-align: middle;\n",
       "    }\n",
       "\n",
       "    .dataframe tbody tr th {\n",
       "        vertical-align: top;\n",
       "    }\n",
       "\n",
       "    .dataframe thead th {\n",
       "        text-align: right;\n",
       "    }\n",
       "</style>\n",
       "<table border=\"1\" class=\"dataframe\">\n",
       "  <thead>\n",
       "    <tr style=\"text-align: right;\">\n",
       "      <th></th>\n",
       "      <th></th>\n",
       "      <th>distance</th>\n",
       "      <th>duration</th>\n",
       "      <th>count</th>\n",
       "      <th>minute_price</th>\n",
       "      <th>start_ride_price</th>\n",
       "      <th>subscription_fee</th>\n",
       "      <th>revenue</th>\n",
       "    </tr>\n",
       "    <tr>\n",
       "      <th>user_id</th>\n",
       "      <th>month</th>\n",
       "      <th></th>\n",
       "      <th></th>\n",
       "      <th></th>\n",
       "      <th></th>\n",
       "      <th></th>\n",
       "      <th></th>\n",
       "      <th></th>\n",
       "    </tr>\n",
       "  </thead>\n",
       "  <tbody>\n",
       "    <tr>\n",
       "      <th rowspan=\"5\" valign=\"top\">1</th>\n",
       "      <th>1</th>\n",
       "      <td>7027.51</td>\n",
       "      <td>42.0</td>\n",
       "      <td>2</td>\n",
       "      <td>6.0</td>\n",
       "      <td>0.0</td>\n",
       "      <td>199.0</td>\n",
       "      <td>451.0</td>\n",
       "    </tr>\n",
       "    <tr>\n",
       "      <th>4</th>\n",
       "      <td>754.16</td>\n",
       "      <td>7.0</td>\n",
       "      <td>1</td>\n",
       "      <td>6.0</td>\n",
       "      <td>0.0</td>\n",
       "      <td>199.0</td>\n",
       "      <td>241.0</td>\n",
       "    </tr>\n",
       "    <tr>\n",
       "      <th>8</th>\n",
       "      <td>6723.47</td>\n",
       "      <td>46.0</td>\n",
       "      <td>2</td>\n",
       "      <td>6.0</td>\n",
       "      <td>0.0</td>\n",
       "      <td>199.0</td>\n",
       "      <td>475.0</td>\n",
       "    </tr>\n",
       "    <tr>\n",
       "      <th>10</th>\n",
       "      <td>5809.91</td>\n",
       "      <td>32.0</td>\n",
       "      <td>2</td>\n",
       "      <td>6.0</td>\n",
       "      <td>0.0</td>\n",
       "      <td>199.0</td>\n",
       "      <td>391.0</td>\n",
       "    </tr>\n",
       "    <tr>\n",
       "      <th>11</th>\n",
       "      <td>7003.50</td>\n",
       "      <td>56.0</td>\n",
       "      <td>3</td>\n",
       "      <td>6.0</td>\n",
       "      <td>0.0</td>\n",
       "      <td>199.0</td>\n",
       "      <td>535.0</td>\n",
       "    </tr>\n",
       "  </tbody>\n",
       "</table>\n",
       "</div>"
      ],
      "text/plain": [
       "               distance  duration  count  minute_price  start_ride_price  \\\n",
       "user_id month                                                              \n",
       "1       1       7027.51      42.0      2           6.0               0.0   \n",
       "        4        754.16       7.0      1           6.0               0.0   \n",
       "        8       6723.47      46.0      2           6.0               0.0   \n",
       "        10      5809.91      32.0      2           6.0               0.0   \n",
       "        11      7003.50      56.0      3           6.0               0.0   \n",
       "\n",
       "               subscription_fee  revenue  \n",
       "user_id month                             \n",
       "1       1                 199.0    451.0  \n",
       "        4                 199.0    241.0  \n",
       "        8                 199.0    475.0  \n",
       "        10                199.0    391.0  \n",
       "        11                199.0    535.0  "
      ]
     },
     "execution_count": 131,
     "metadata": {},
     "output_type": "execute_result"
    }
   ],
   "source": [
    "df_ultra = df_agg_calc.query(\"minute_price == 6\")\n",
    "df_ultra.head(5)"
   ]
  },
  {
   "cell_type": "markdown",
   "id": "1ca8ee9e",
   "metadata": {},
   "source": [
    "У людей без подписки стоимость минуты поездки равна 8-ми рублям"
   ]
  },
  {
   "cell_type": "code",
   "execution_count": 132,
   "id": "075f3199",
   "metadata": {
    "scrolled": true
   },
   "outputs": [
    {
     "data": {
      "text/html": [
       "<div>\n",
       "<style scoped>\n",
       "    .dataframe tbody tr th:only-of-type {\n",
       "        vertical-align: middle;\n",
       "    }\n",
       "\n",
       "    .dataframe tbody tr th {\n",
       "        vertical-align: top;\n",
       "    }\n",
       "\n",
       "    .dataframe thead th {\n",
       "        text-align: right;\n",
       "    }\n",
       "</style>\n",
       "<table border=\"1\" class=\"dataframe\">\n",
       "  <thead>\n",
       "    <tr style=\"text-align: right;\">\n",
       "      <th></th>\n",
       "      <th></th>\n",
       "      <th>distance</th>\n",
       "      <th>duration</th>\n",
       "      <th>count</th>\n",
       "      <th>minute_price</th>\n",
       "      <th>start_ride_price</th>\n",
       "      <th>subscription_fee</th>\n",
       "      <th>revenue</th>\n",
       "    </tr>\n",
       "    <tr>\n",
       "      <th>user_id</th>\n",
       "      <th>month</th>\n",
       "      <th></th>\n",
       "      <th></th>\n",
       "      <th></th>\n",
       "      <th></th>\n",
       "      <th></th>\n",
       "      <th></th>\n",
       "      <th></th>\n",
       "    </tr>\n",
       "  </thead>\n",
       "  <tbody>\n",
       "    <tr>\n",
       "      <th rowspan=\"5\" valign=\"top\">700</th>\n",
       "      <th>1</th>\n",
       "      <td>2515.69</td>\n",
       "      <td>15.0</td>\n",
       "      <td>1</td>\n",
       "      <td>8.0</td>\n",
       "      <td>50.0</td>\n",
       "      <td>0.0</td>\n",
       "      <td>170.0</td>\n",
       "    </tr>\n",
       "    <tr>\n",
       "      <th>2</th>\n",
       "      <td>13446.65</td>\n",
       "      <td>89.0</td>\n",
       "      <td>5</td>\n",
       "      <td>8.0</td>\n",
       "      <td>50.0</td>\n",
       "      <td>0.0</td>\n",
       "      <td>962.0</td>\n",
       "    </tr>\n",
       "    <tr>\n",
       "      <th>3</th>\n",
       "      <td>3798.33</td>\n",
       "      <td>19.0</td>\n",
       "      <td>1</td>\n",
       "      <td>8.0</td>\n",
       "      <td>50.0</td>\n",
       "      <td>0.0</td>\n",
       "      <td>202.0</td>\n",
       "    </tr>\n",
       "    <tr>\n",
       "      <th>4</th>\n",
       "      <td>2984.55</td>\n",
       "      <td>16.0</td>\n",
       "      <td>1</td>\n",
       "      <td>8.0</td>\n",
       "      <td>50.0</td>\n",
       "      <td>0.0</td>\n",
       "      <td>178.0</td>\n",
       "    </tr>\n",
       "    <tr>\n",
       "      <th>6</th>\n",
       "      <td>5927.65</td>\n",
       "      <td>29.0</td>\n",
       "      <td>2</td>\n",
       "      <td>8.0</td>\n",
       "      <td>50.0</td>\n",
       "      <td>0.0</td>\n",
       "      <td>332.0</td>\n",
       "    </tr>\n",
       "  </tbody>\n",
       "</table>\n",
       "</div>"
      ],
      "text/plain": [
       "               distance  duration  count  minute_price  start_ride_price  \\\n",
       "user_id month                                                              \n",
       "700     1       2515.69      15.0      1           8.0              50.0   \n",
       "        2      13446.65      89.0      5           8.0              50.0   \n",
       "        3       3798.33      19.0      1           8.0              50.0   \n",
       "        4       2984.55      16.0      1           8.0              50.0   \n",
       "        6       5927.65      29.0      2           8.0              50.0   \n",
       "\n",
       "               subscription_fee  revenue  \n",
       "user_id month                             \n",
       "700     1                   0.0    170.0  \n",
       "        2                   0.0    962.0  \n",
       "        3                   0.0    202.0  \n",
       "        4                   0.0    178.0  \n",
       "        6                   0.0    332.0  "
      ]
     },
     "execution_count": 132,
     "metadata": {},
     "output_type": "execute_result"
    }
   ],
   "source": [
    "df_free = df_agg_calc.query(\"minute_price == 8\")\n",
    "df_free.head(5)"
   ]
  },
  {
   "cell_type": "markdown",
   "id": "676f7105",
   "metadata": {},
   "source": [
    "Найдём суммарную выручку по месяцам по найденным выборкам"
   ]
  },
  {
   "cell_type": "code",
   "execution_count": 133,
   "id": "78e56cd3",
   "metadata": {},
   "outputs": [
    {
     "data": {
      "text/html": [
       "<div>\n",
       "<style scoped>\n",
       "    .dataframe tbody tr th:only-of-type {\n",
       "        vertical-align: middle;\n",
       "    }\n",
       "\n",
       "    .dataframe tbody tr th {\n",
       "        vertical-align: top;\n",
       "    }\n",
       "\n",
       "    .dataframe thead th {\n",
       "        text-align: right;\n",
       "    }\n",
       "</style>\n",
       "<table border=\"1\" class=\"dataframe\">\n",
       "  <thead>\n",
       "    <tr style=\"text-align: right;\">\n",
       "      <th></th>\n",
       "      <th>revenue</th>\n",
       "    </tr>\n",
       "    <tr>\n",
       "      <th>month</th>\n",
       "      <th></th>\n",
       "    </tr>\n",
       "  </thead>\n",
       "  <tbody>\n",
       "    <tr>\n",
       "      <th>1</th>\n",
       "      <td>193850.0</td>\n",
       "    </tr>\n",
       "    <tr>\n",
       "      <th>2</th>\n",
       "      <td>165856.0</td>\n",
       "    </tr>\n",
       "  </tbody>\n",
       "</table>\n",
       "</div>"
      ],
      "text/plain": [
       "        revenue\n",
       "month          \n",
       "1      193850.0\n",
       "2      165856.0"
      ]
     },
     "execution_count": 133,
     "metadata": {},
     "output_type": "execute_result"
    }
   ],
   "source": [
    "df_free = df_free.pivot_table(index = 'month',values='revenue',aggfunc='sum')\n",
    "df_free.head(2)"
   ]
  },
  {
   "cell_type": "code",
   "execution_count": 134,
   "id": "ce8ecfd5",
   "metadata": {},
   "outputs": [
    {
     "data": {
      "text/html": [
       "<div>\n",
       "<style scoped>\n",
       "    .dataframe tbody tr th:only-of-type {\n",
       "        vertical-align: middle;\n",
       "    }\n",
       "\n",
       "    .dataframe tbody tr th {\n",
       "        vertical-align: top;\n",
       "    }\n",
       "\n",
       "    .dataframe thead th {\n",
       "        text-align: right;\n",
       "    }\n",
       "</style>\n",
       "<table border=\"1\" class=\"dataframe\">\n",
       "  <thead>\n",
       "    <tr style=\"text-align: right;\">\n",
       "      <th></th>\n",
       "      <th>revenue</th>\n",
       "    </tr>\n",
       "    <tr>\n",
       "      <th>month</th>\n",
       "      <th></th>\n",
       "    </tr>\n",
       "  </thead>\n",
       "  <tbody>\n",
       "    <tr>\n",
       "      <th>1</th>\n",
       "      <td>144108.0</td>\n",
       "    </tr>\n",
       "    <tr>\n",
       "      <th>2</th>\n",
       "      <td>124572.0</td>\n",
       "    </tr>\n",
       "  </tbody>\n",
       "</table>\n",
       "</div>"
      ],
      "text/plain": [
       "        revenue\n",
       "month          \n",
       "1      144108.0\n",
       "2      124572.0"
      ]
     },
     "execution_count": 134,
     "metadata": {},
     "output_type": "execute_result"
    }
   ],
   "source": [
    "df_ultra = df_ultra.pivot_table(index = 'month',values='revenue',aggfunc='sum')\n",
    "df_ultra.head(2)"
   ]
  },
  {
   "cell_type": "markdown",
   "id": "ca117a21",
   "metadata": {},
   "source": [
    "Построим графики"
   ]
  },
  {
   "cell_type": "code",
   "execution_count": 135,
   "id": "44c0d1c4",
   "metadata": {},
   "outputs": [
    {
     "data": {
      "image/png": "[encoded data removed]",
      "text/plain": [
       "<Figure size 640x480 with 1 Axes>"
      ]
     },
     "metadata": {},
     "output_type": "display_data"
    }
   ],
   "source": [
    "ax = df_free.pivot_table(index = 'month',values='revenue',aggfunc='sum').plot.bar(rot=0, color='g')\n",
    "ax.set_xlabel('Номер месяца')\n",
    "ax.set_ylabel('Суммарная выручка')\n",
    "ax.set_title('Суммарная выручка от месяца для людей без подписки')\n",
    "plt.show()"
   ]
  },
  {
   "cell_type": "code",
   "execution_count": 136,
   "id": "4681b09f",
   "metadata": {},
   "outputs": [
    {
     "data": {
      "image/png": "[encoded data removed]",
      "text/plain": [
       "<Figure size 640x480 with 1 Axes>"
      ]
     },
     "metadata": {},
     "output_type": "display_data"
    }
   ],
   "source": [
    "ax = df_ultra.pivot_table(index = 'month',values='revenue',aggfunc='sum').plot.bar(rot=0, color='y')\n",
    "ax.set_xlabel('Номер месяца')\n",
    "ax.set_ylabel('Суммарная выручка')\n",
    "ax.set_title('Суммарная выручка от месяца для людей c подпиской')\n",
    "plt.show()"
   ]
  },
  {
   "cell_type": "markdown",
   "id": "865dc267",
   "metadata": {},
   "source": [
    "Проверим гипотезу о том, будет ли помесячная выручка от пользователей с подпиской по месяцам выше, чем выручка от пользователей без подписки.\n",
    "\n",
    "Для этого воспользуемся Т-тестом для несвязанных выборок\n",
    "\n",
    "* Нулевая гипотеза - средние генеральных совокупностей равны\n",
    "* Альтернативная гипотеза - среднее генеральной совокупности суммарной выручки для пользователей с подпиской **больше** среднего генеральной совокупности суммарной выручки для пользователей без подписки"
   ]
  },
  {
   "cell_type": "code",
   "execution_count": 137,
   "id": "c9bb8da6",
   "metadata": {},
   "outputs": [
    {
     "name": "stdout",
     "output_type": "stream",
     "text": [
      "Полученное p-значение: [1.]\n",
      "p-значение больше уровня значимости\n"
     ]
    }
   ],
   "source": [
    "alpha = 0.01\n",
    "result = st.ttest_ind(df_ultra,df_free, alternative='greater') \n",
    "\n",
    "print(f\"Полученное p-значение: {result.pvalue}\")\n",
    "if alpha < result.pvalue:\n",
    "    print(f'p-значение больше уровня значимости')\n",
    "else:\n",
    "    print(f\"p-значение меньше уровня значимости\")"
   ]
  },
  {
   "cell_type": "markdown",
   "id": "621afbb3",
   "metadata": {},
   "source": [
    "p-значение больше уровня значимости, поэтому у нас недостаточно оснований для отклонения нулевой гипотезы. "
   ]
  },
  {
   "cell_type": "markdown",
   "id": "3e9675bf",
   "metadata": {},
   "source": [
    "Теперь проведём другой тест для того чтобы ответить на вопрос: меньше ли средняя выручка у пользователей с подпиской или нет.\n",
    "\n",
    "* Нулевая гипотеза - средние генеральных совокупностей равны\n",
    "* Альтернативная гипотеза - среднее генеральной совокупности суммарной выручки для пользователей с подпиской **меньше** среднего генеральной совокупности суммарной выручки для пользователей без подписки"
   ]
  },
  {
   "cell_type": "code",
   "execution_count": 138,
   "id": "233cb0cc",
   "metadata": {},
   "outputs": [
    {
     "name": "stdout",
     "output_type": "stream",
     "text": [
      "Полученное p-значение: [2.39814174e-13]\n",
      "p-значение меньше уровня значимости\n"
     ]
    }
   ],
   "source": [
    "alpha = 0.01\n",
    "result = st.ttest_ind(df_ultra,df_free, alternative='less') \n",
    "\n",
    "print(f\"Полученное p-значение: {result.pvalue}\")\n",
    "if alpha < result.pvalue:\n",
    "    print(f'p-значение больше уровня значимости')\n",
    "else:\n",
    "    print(f\"p-значение меньше уровня значимости\")"
   ]
  },
  {
   "cell_type": "markdown",
   "id": "e89c7440",
   "metadata": {},
   "source": [
    "p-значение меньше уровня значимости, поэтому у нас достаточно оснований для отклонения нулевой гипотезы и принятия альтернативной."
   ]
  },
  {
   "cell_type": "markdown",
   "id": "fd4b140a",
   "metadata": {},
   "source": [
    "**Вывод**:\n",
    "\n",
    "Статистически доказано, что средняя суммарная выручка по месяцам для пользователей с подпиской меньше, чем у пользователей без неё"
   ]
  },
  {
   "cell_type": "markdown",
   "id": "185476f8",
   "metadata": {},
   "source": [
    "## Общий вывод"
   ]
  },
  {
   "cell_type": "markdown",
   "id": "44360a7c",
   "metadata": {},
   "source": [
    "При исследовании были получены следующие результаты:\n",
    "\n",
    "1. Первичный анализ данных:\n",
    "\n",
    "   * Были проанализарованны датасеты с данными пользователей, данными о поездках и данными о подписке. Данные о поездках были собраны в течении 2021-го года.\n",
    "\n",
    "\n",
    "2. Предобработка данных:\n",
    "   \n",
    "   * Было проведено исследование пропущенных значений и дубликатов в датасетах. Пропущенных значений не оказалось. Были удалены дубликаты.\n",
    "\n",
    "\n",
    "3. Исследовательский анализ данных:\n",
    "    \n",
    "   * Большинство пользователей из Пятигорска. Наименьшее количество        пользователей из Москвы;\n",
    "   \n",
    "   * Количество пользователей с подпиской составляет 46.6 %, количество пользователей без подписки - 54.4 %;\n",
    "   \n",
    "   * Наибольшее количество пользователей имеют возраст 24-26 лет. Меньше всего пользователей с возрастом больше 35 лет и меньше 15. Следует отметить, что в датасете минимальный возраст 12 лет, это явное нарушение существующих норм проката самокатов.\n",
    "   \n",
    "   * Среднее расстояние, которое проезжают пользователи на самокате - 3,1 км;\n",
    "   \n",
    "   * Средняя длительность поездок пользователей - 17 мин.\n",
    "     \n",
    "      \n",
    "4. Исследование параметров пользователей с подпиской и без подписки\n",
    "\n",
    "   * Распределения длительности и расстояния поездок для пользователей без подписки характеризуется большим стандартным отклонением, по сравнению с распределениями для пользователей с подпиской.\n",
    "\n",
    "\n",
    "5. Подсчёт выручки:\n",
    "\n",
    "   * Была посчитанна помесячная выручка для каждого пользователя. (Необходимо для проверки гипотезы о выручке).\n",
    "\n",
    "\n",
    "6. Статистический анализ данных:\n",
    "    \n",
    "   * Доказано, что люди с подпиской в среднем имеют б**о**льшую длительность поездки, по сравнению с людьми без подписки;\n",
    "    \n",
    "   * Доказано, что среднее пройденное расстояние у пользователей с подпиской не превышает значения расстояния оптимального по износу самокатов.\n",
    "    \n",
    "   * Доказано, что средняя суммарная выручка по месяцам для пользователей с подпиской меньше, чем у пользователей без неё.  \n",
    "   "
   ]
  }
 ],
 "metadata": {
  "ExecuteTimeLog": [
   {
    "duration": 58,
    "start_time": "2024-11-14T12:21:40.963Z"
   },
   {
    "duration": 419,
    "start_time": "2024-11-14T12:22:05.811Z"
   },
   {
    "duration": 954,
    "start_time": "2024-11-14T12:32:49.137Z"
   },
   {
    "duration": 3,
    "start_time": "2024-11-14T12:35:55.757Z"
   },
   {
    "duration": 428,
    "start_time": "2024-11-14T12:38:45.702Z"
   },
   {
    "duration": 14,
    "start_time": "2024-11-14T12:40:58.614Z"
   },
   {
    "duration": 10,
    "start_time": "2024-11-14T12:41:10.417Z"
   },
   {
    "duration": 7,
    "start_time": "2024-11-14T12:41:18.857Z"
   },
   {
    "duration": 12,
    "start_time": "2024-11-14T12:41:51.611Z"
   },
   {
    "duration": 16,
    "start_time": "2024-11-14T12:54:15.042Z"
   },
   {
    "duration": 12,
    "start_time": "2024-11-14T12:54:25.522Z"
   },
   {
    "duration": 5,
    "start_time": "2024-11-14T12:56:35.801Z"
   },
   {
    "duration": 924,
    "start_time": "2024-11-14T12:56:44.194Z"
   },
   {
    "duration": 5,
    "start_time": "2024-11-14T12:56:46.928Z"
   },
   {
    "duration": 912,
    "start_time": "2024-11-14T12:57:04.565Z"
   },
   {
    "duration": 817,
    "start_time": "2024-11-14T12:57:09.402Z"
   },
   {
    "duration": 5,
    "start_time": "2024-11-14T12:57:11.521Z"
   },
   {
    "duration": 5,
    "start_time": "2024-11-14T12:57:23.641Z"
   },
   {
    "duration": 11,
    "start_time": "2024-11-14T13:00:39.073Z"
   },
   {
    "duration": 14,
    "start_time": "2024-11-14T13:02:51.665Z"
   },
   {
    "duration": 8,
    "start_time": "2024-11-14T13:07:37.089Z"
   },
   {
    "duration": 10,
    "start_time": "2024-11-14T13:17:39.955Z"
   },
   {
    "duration": 11,
    "start_time": "2024-11-14T13:17:54.514Z"
   },
   {
    "duration": 12,
    "start_time": "2024-11-14T13:19:18.243Z"
   },
   {
    "duration": 8,
    "start_time": "2024-11-14T13:19:31.108Z"
   },
   {
    "duration": 5,
    "start_time": "2024-11-14T13:20:11.721Z"
   },
   {
    "duration": 16,
    "start_time": "2024-11-14T13:21:47.201Z"
   },
   {
    "duration": 8,
    "start_time": "2024-11-14T13:21:53.055Z"
   },
   {
    "duration": 9,
    "start_time": "2024-11-14T13:21:58.306Z"
   },
   {
    "duration": 13,
    "start_time": "2024-11-14T13:22:47.369Z"
   },
   {
    "duration": 60,
    "start_time": "2024-11-14T13:26:51.748Z"
   },
   {
    "duration": 124,
    "start_time": "2024-11-14T13:26:54.365Z"
   },
   {
    "duration": 9,
    "start_time": "2024-11-14T13:27:11.168Z"
   },
   {
    "duration": 15,
    "start_time": "2024-11-14T13:27:33.402Z"
   },
   {
    "duration": 16,
    "start_time": "2024-11-14T13:28:17.494Z"
   },
   {
    "duration": 9,
    "start_time": "2024-11-14T13:29:11.173Z"
   },
   {
    "duration": 10,
    "start_time": "2024-11-14T13:29:24.388Z"
   },
   {
    "duration": 9,
    "start_time": "2024-11-14T13:29:36.287Z"
   },
   {
    "duration": 9,
    "start_time": "2024-11-14T13:30:04.759Z"
   },
   {
    "duration": 15,
    "start_time": "2024-11-14T13:31:32.691Z"
   },
   {
    "duration": 12,
    "start_time": "2024-11-14T13:31:44.035Z"
   },
   {
    "duration": 5,
    "start_time": "2024-11-14T13:31:51.278Z"
   },
   {
    "duration": 12,
    "start_time": "2024-11-14T13:31:53.334Z"
   },
   {
    "duration": 10,
    "start_time": "2024-11-14T13:32:09.009Z"
   },
   {
    "duration": 7,
    "start_time": "2024-11-14T13:32:13.363Z"
   },
   {
    "duration": 13,
    "start_time": "2024-11-14T13:32:17.834Z"
   },
   {
    "duration": 47,
    "start_time": "2024-11-14T13:32:36.072Z"
   },
   {
    "duration": 8,
    "start_time": "2024-11-14T13:32:38.267Z"
   },
   {
    "duration": 10,
    "start_time": "2024-11-14T13:37:11.138Z"
   },
   {
    "duration": 6,
    "start_time": "2024-11-14T13:37:17.190Z"
   },
   {
    "duration": 18,
    "start_time": "2024-11-14T13:38:08.416Z"
   },
   {
    "duration": 164,
    "start_time": "2024-11-14T13:38:14.702Z"
   },
   {
    "duration": 148,
    "start_time": "2024-11-14T13:38:17.352Z"
   },
   {
    "duration": 6,
    "start_time": "2024-11-14T13:38:32.133Z"
   },
   {
    "duration": 153,
    "start_time": "2024-11-14T13:39:46.849Z"
   },
   {
    "duration": 165,
    "start_time": "2024-11-14T13:40:54.711Z"
   },
   {
    "duration": 154,
    "start_time": "2024-11-14T13:42:30.738Z"
   },
   {
    "duration": 158,
    "start_time": "2024-11-14T13:42:36.214Z"
   },
   {
    "duration": 151,
    "start_time": "2024-11-14T13:42:53.831Z"
   },
   {
    "duration": 169,
    "start_time": "2024-11-14T13:42:56.302Z"
   },
   {
    "duration": 147,
    "start_time": "2024-11-14T13:44:20.783Z"
   },
   {
    "duration": 128,
    "start_time": "2024-11-14T13:44:44.619Z"
   },
   {
    "duration": 210,
    "start_time": "2024-11-14T13:44:53.610Z"
   },
   {
    "duration": 145,
    "start_time": "2024-11-14T13:45:04.149Z"
   },
   {
    "duration": 160,
    "start_time": "2024-11-14T13:45:25.794Z"
   },
   {
    "duration": 6,
    "start_time": "2024-11-14T13:48:30.627Z"
   },
   {
    "duration": 127,
    "start_time": "2024-11-14T13:48:42.769Z"
   },
   {
    "duration": 129,
    "start_time": "2024-11-14T13:48:49.409Z"
   },
   {
    "duration": 131,
    "start_time": "2024-11-14T13:49:50.169Z"
   },
   {
    "duration": 65,
    "start_time": "2024-11-14T13:53:09.761Z"
   },
   {
    "duration": 131,
    "start_time": "2024-11-14T13:53:12.923Z"
   },
   {
    "duration": 123,
    "start_time": "2024-11-14T13:53:23.427Z"
   },
   {
    "duration": 121,
    "start_time": "2024-11-14T13:53:42.659Z"
   },
   {
    "duration": 6,
    "start_time": "2024-11-14T13:53:48.779Z"
   },
   {
    "duration": 125,
    "start_time": "2024-11-14T13:53:59.764Z"
   },
   {
    "duration": 138,
    "start_time": "2024-11-14T13:54:08.904Z"
   },
   {
    "duration": 141,
    "start_time": "2024-11-14T13:54:13.883Z"
   },
   {
    "duration": 144,
    "start_time": "2024-11-14T13:55:30.099Z"
   },
   {
    "duration": 6,
    "start_time": "2024-11-14T13:57:39.171Z"
   },
   {
    "duration": 10,
    "start_time": "2024-11-14T13:57:52.296Z"
   },
   {
    "duration": 838,
    "start_time": "2024-11-14T13:58:31.721Z"
   },
   {
    "duration": 859,
    "start_time": "2024-11-14T13:59:03.850Z"
   },
   {
    "duration": 882,
    "start_time": "2024-11-14T13:59:18.587Z"
   },
   {
    "duration": 1049,
    "start_time": "2024-11-14T13:59:26.824Z"
   },
   {
    "duration": 7,
    "start_time": "2024-11-14T13:59:38.296Z"
   },
   {
    "duration": 5,
    "start_time": "2024-11-14T13:59:50.147Z"
   },
   {
    "duration": 5,
    "start_time": "2024-11-14T14:00:15.267Z"
   },
   {
    "duration": 6,
    "start_time": "2024-11-14T14:00:25.419Z"
   },
   {
    "duration": 5,
    "start_time": "2024-11-14T14:00:34.887Z"
   },
   {
    "duration": 5,
    "start_time": "2024-11-14T14:00:37.735Z"
   },
   {
    "duration": 4,
    "start_time": "2024-11-14T14:01:50.386Z"
   },
   {
    "duration": 7,
    "start_time": "2024-11-14T14:04:22.100Z"
   },
   {
    "duration": 5,
    "start_time": "2024-11-14T14:04:26.640Z"
   },
   {
    "duration": 6,
    "start_time": "2024-11-14T14:04:29.119Z"
   },
   {
    "duration": 3,
    "start_time": "2024-11-14T14:04:41.075Z"
   },
   {
    "duration": 11,
    "start_time": "2024-11-14T14:04:48.961Z"
   },
   {
    "duration": 4,
    "start_time": "2024-11-14T14:04:52.359Z"
   },
   {
    "duration": 5,
    "start_time": "2024-11-14T14:04:59.193Z"
   },
   {
    "duration": 5,
    "start_time": "2024-11-14T14:05:06.982Z"
   },
   {
    "duration": 10,
    "start_time": "2024-11-14T14:05:27.395Z"
   },
   {
    "duration": 49,
    "start_time": "2024-11-14T14:05:35.118Z"
   },
   {
    "duration": 8,
    "start_time": "2024-11-14T14:05:38.365Z"
   },
   {
    "duration": 7,
    "start_time": "2024-11-14T14:06:38.968Z"
   },
   {
    "duration": 359,
    "start_time": "2024-11-14T14:07:22.817Z"
   },
   {
    "duration": 264,
    "start_time": "2024-11-14T14:07:37.705Z"
   },
   {
    "duration": 262,
    "start_time": "2024-11-14T14:07:44.208Z"
   },
   {
    "duration": 262,
    "start_time": "2024-11-14T14:07:47.021Z"
   },
   {
    "duration": 307,
    "start_time": "2024-11-14T14:08:15.435Z"
   },
   {
    "duration": 292,
    "start_time": "2024-11-14T14:08:24.583Z"
   },
   {
    "duration": 274,
    "start_time": "2024-11-14T14:08:29.517Z"
   },
   {
    "duration": 276,
    "start_time": "2024-11-14T14:08:35.628Z"
   },
   {
    "duration": 285,
    "start_time": "2024-11-14T14:10:03.361Z"
   },
   {
    "duration": 274,
    "start_time": "2024-11-14T14:10:26.030Z"
   },
   {
    "duration": 148,
    "start_time": "2024-11-14T14:11:19.989Z"
   },
   {
    "duration": 279,
    "start_time": "2024-11-14T14:11:54.395Z"
   },
   {
    "duration": 5,
    "start_time": "2024-11-14T14:42:55.278Z"
   },
   {
    "duration": 5,
    "start_time": "2024-11-14T14:43:04.441Z"
   },
   {
    "duration": 62,
    "start_time": "2024-11-14T14:44:21.802Z"
   },
   {
    "duration": 5,
    "start_time": "2024-11-14T14:44:46.618Z"
   },
   {
    "duration": 14,
    "start_time": "2024-11-14T14:47:47.260Z"
   },
   {
    "duration": 6,
    "start_time": "2024-11-14T14:47:57.543Z"
   },
   {
    "duration": 14,
    "start_time": "2024-11-14T14:48:15.585Z"
   },
   {
    "duration": 142,
    "start_time": "2024-11-14T14:50:42.550Z"
   },
   {
    "duration": 164,
    "start_time": "2024-11-14T14:50:47.960Z"
   },
   {
    "duration": 193,
    "start_time": "2024-11-14T14:50:52.238Z"
   },
   {
    "duration": 194,
    "start_time": "2024-11-14T14:50:56.959Z"
   },
   {
    "duration": 197,
    "start_time": "2024-11-14T14:51:05.751Z"
   },
   {
    "duration": 203,
    "start_time": "2024-11-14T14:51:14.831Z"
   },
   {
    "duration": 130,
    "start_time": "2024-11-14T14:51:27.626Z"
   },
   {
    "duration": 172,
    "start_time": "2024-11-14T14:51:35.755Z"
   },
   {
    "duration": 297,
    "start_time": "2024-11-14T14:51:53.039Z"
   },
   {
    "duration": 312,
    "start_time": "2024-11-14T14:51:58.266Z"
   },
   {
    "duration": 12,
    "start_time": "2024-11-14T14:52:13.511Z"
   },
   {
    "duration": 135,
    "start_time": "2024-11-14T14:52:17.617Z"
   },
   {
    "duration": 343,
    "start_time": "2024-11-14T14:52:19.711Z"
   },
   {
    "duration": 130,
    "start_time": "2024-11-14T14:52:21.793Z"
   },
   {
    "duration": 124,
    "start_time": "2024-11-14T14:52:24.343Z"
   },
   {
    "duration": 147,
    "start_time": "2024-11-14T14:52:27.298Z"
   },
   {
    "duration": 133,
    "start_time": "2024-11-14T14:52:29.352Z"
   },
   {
    "duration": 132,
    "start_time": "2024-11-14T14:52:32.359Z"
   },
   {
    "duration": 201,
    "start_time": "2024-11-14T14:52:34.278Z"
   },
   {
    "duration": 123,
    "start_time": "2024-11-14T14:52:38.904Z"
   },
   {
    "duration": 223,
    "start_time": "2024-11-14T14:52:42.902Z"
   },
   {
    "duration": 233,
    "start_time": "2024-11-14T14:53:57.599Z"
   },
   {
    "duration": 217,
    "start_time": "2024-11-14T14:54:10.678Z"
   },
   {
    "duration": 264,
    "start_time": "2024-11-14T14:54:27.506Z"
   },
   {
    "duration": 223,
    "start_time": "2024-11-14T14:55:15.064Z"
   },
   {
    "duration": 208,
    "start_time": "2024-11-14T14:55:36.580Z"
   },
   {
    "duration": 213,
    "start_time": "2024-11-14T14:56:02.878Z"
   },
   {
    "duration": 433,
    "start_time": "2024-11-14T14:56:06.679Z"
   },
   {
    "duration": 9,
    "start_time": "2024-11-14T14:58:50.831Z"
   },
   {
    "duration": 15,
    "start_time": "2024-11-14T14:59:15.223Z"
   },
   {
    "duration": 9,
    "start_time": "2024-11-14T14:59:22.264Z"
   },
   {
    "duration": 66,
    "start_time": "2024-11-14T15:00:06.479Z"
   },
   {
    "duration": 218,
    "start_time": "2024-11-14T15:00:20.631Z"
   },
   {
    "duration": 219,
    "start_time": "2024-11-14T15:00:40.239Z"
   },
   {
    "duration": 148,
    "start_time": "2024-11-14T15:00:50.800Z"
   },
   {
    "duration": 231,
    "start_time": "2024-11-14T15:00:54.470Z"
   },
   {
    "duration": 13,
    "start_time": "2024-11-14T15:04:52.640Z"
   },
   {
    "duration": 23,
    "start_time": "2024-11-14T15:05:59.639Z"
   },
   {
    "duration": 41,
    "start_time": "2024-11-14T15:07:29.829Z"
   },
   {
    "duration": 9,
    "start_time": "2024-11-14T15:08:24.123Z"
   },
   {
    "duration": 28,
    "start_time": "2024-11-14T15:08:27.112Z"
   },
   {
    "duration": 13,
    "start_time": "2024-11-14T15:09:31.740Z"
   },
   {
    "duration": 23,
    "start_time": "2024-11-14T15:10:05.663Z"
   },
   {
    "duration": 38,
    "start_time": "2024-11-14T15:10:08.511Z"
   },
   {
    "duration": 33,
    "start_time": "2024-11-14T15:10:14.739Z"
   },
   {
    "duration": 26,
    "start_time": "2024-11-14T15:10:50.759Z"
   },
   {
    "duration": 35,
    "start_time": "2024-11-14T15:11:12.044Z"
   },
   {
    "duration": 11,
    "start_time": "2024-11-14T15:13:43.384Z"
   },
   {
    "duration": 34,
    "start_time": "2024-11-14T15:13:49.044Z"
   },
   {
    "duration": 32,
    "start_time": "2024-11-14T15:13:56.223Z"
   },
   {
    "duration": 12,
    "start_time": "2024-11-14T15:14:03.109Z"
   },
   {
    "duration": 8,
    "start_time": "2024-11-14T15:14:13.924Z"
   },
   {
    "duration": 7,
    "start_time": "2024-11-14T15:14:18.946Z"
   },
   {
    "duration": 6,
    "start_time": "2024-11-14T15:14:20.249Z"
   },
   {
    "duration": 23,
    "start_time": "2024-11-14T15:14:28.779Z"
   },
   {
    "duration": 10,
    "start_time": "2024-11-14T15:16:00.449Z"
   },
   {
    "duration": 26,
    "start_time": "2024-11-14T15:16:02.768Z"
   },
   {
    "duration": 6,
    "start_time": "2024-11-14T15:16:23.848Z"
   },
   {
    "duration": 20,
    "start_time": "2024-11-14T15:16:25.252Z"
   },
   {
    "duration": 16,
    "start_time": "2024-11-14T15:16:55.616Z"
   },
   {
    "duration": 13,
    "start_time": "2024-11-14T15:16:59.521Z"
   },
   {
    "duration": 68,
    "start_time": "2024-11-14T15:19:06.775Z"
   },
   {
    "duration": 1192,
    "start_time": "2024-11-14T15:19:08.583Z"
   },
   {
    "duration": 140,
    "start_time": "2024-11-14T15:19:09.777Z"
   },
   {
    "duration": 13,
    "start_time": "2024-11-14T15:19:09.920Z"
   },
   {
    "duration": 23,
    "start_time": "2024-11-14T15:19:09.936Z"
   },
   {
    "duration": 12,
    "start_time": "2024-11-14T15:19:09.961Z"
   },
   {
    "duration": 11,
    "start_time": "2024-11-14T15:19:09.975Z"
   },
   {
    "duration": 19,
    "start_time": "2024-11-14T15:19:09.987Z"
   },
   {
    "duration": 37,
    "start_time": "2024-11-14T15:19:10.008Z"
   },
   {
    "duration": 77,
    "start_time": "2024-11-14T15:19:10.047Z"
   },
   {
    "duration": 20,
    "start_time": "2024-11-14T15:19:10.126Z"
   },
   {
    "duration": 15,
    "start_time": "2024-11-14T15:19:10.147Z"
   },
   {
    "duration": 8,
    "start_time": "2024-11-14T15:19:10.164Z"
   },
   {
    "duration": 11,
    "start_time": "2024-11-14T15:19:10.210Z"
   },
   {
    "duration": 200,
    "start_time": "2024-11-14T15:19:10.223Z"
   },
   {
    "duration": 152,
    "start_time": "2024-11-14T15:19:10.424Z"
   },
   {
    "duration": 5,
    "start_time": "2024-11-14T15:19:10.578Z"
   },
   {
    "duration": 33,
    "start_time": "2024-11-14T15:19:10.584Z"
   },
   {
    "duration": 13,
    "start_time": "2024-11-14T15:19:10.619Z"
   },
   {
    "duration": 327,
    "start_time": "2024-11-14T15:19:10.634Z"
   },
   {
    "duration": 44,
    "start_time": "2024-11-14T15:19:10.962Z"
   },
   {
    "duration": 241,
    "start_time": "2024-11-14T15:19:11.091Z"
   },
   {
    "duration": 9,
    "start_time": "2024-11-14T15:19:11.334Z"
   },
   {
    "duration": 246,
    "start_time": "2024-11-14T15:19:11.344Z"
   },
   {
    "duration": 48,
    "start_time": "2024-11-14T15:19:11.593Z"
   },
   {
    "duration": 11,
    "start_time": "2024-11-14T15:19:11.643Z"
   },
   {
    "duration": 19,
    "start_time": "2024-11-14T15:19:11.655Z"
   },
   {
    "duration": 11,
    "start_time": "2024-11-14T15:19:11.676Z"
   },
   {
    "duration": 20,
    "start_time": "2024-11-14T15:19:11.698Z"
   },
   {
    "duration": 168,
    "start_time": "2024-11-14T15:19:11.720Z"
   },
   {
    "duration": 192,
    "start_time": "2024-11-14T15:19:22.524Z"
   },
   {
    "duration": 213,
    "start_time": "2024-11-14T15:19:25.763Z"
   },
   {
    "duration": 201,
    "start_time": "2024-11-14T15:19:36.342Z"
   },
   {
    "duration": 287,
    "start_time": "2024-11-14T15:20:35.705Z"
   },
   {
    "duration": 280,
    "start_time": "2024-11-14T15:21:24.452Z"
   },
   {
    "duration": 220,
    "start_time": "2024-11-14T15:22:45.406Z"
   },
   {
    "duration": 306,
    "start_time": "2024-11-14T15:23:17.217Z"
   },
   {
    "duration": 402,
    "start_time": "2024-11-14T15:23:19.492Z"
   },
   {
    "duration": 222,
    "start_time": "2024-11-14T15:23:25.611Z"
   },
   {
    "duration": 252,
    "start_time": "2024-11-14T15:23:30.084Z"
   },
   {
    "duration": 437,
    "start_time": "2024-11-14T15:23:33.440Z"
   },
   {
    "duration": 317,
    "start_time": "2024-11-14T15:23:46.721Z"
   },
   {
    "duration": 346,
    "start_time": "2024-11-14T15:23:58.984Z"
   },
   {
    "duration": 321,
    "start_time": "2024-11-14T15:24:05.981Z"
   },
   {
    "duration": 346,
    "start_time": "2024-11-14T15:24:08.692Z"
   },
   {
    "duration": 444,
    "start_time": "2024-11-14T15:24:17.357Z"
   },
   {
    "duration": 365,
    "start_time": "2024-11-14T15:24:55.285Z"
   },
   {
    "duration": 350,
    "start_time": "2024-11-14T15:25:14.181Z"
   },
   {
    "duration": 373,
    "start_time": "2024-11-14T15:25:20.698Z"
   },
   {
    "duration": 245,
    "start_time": "2024-11-14T15:27:01.735Z"
   },
   {
    "duration": 119,
    "start_time": "2024-11-14T15:27:16.013Z"
   },
   {
    "duration": 16,
    "start_time": "2024-11-14T15:27:26.155Z"
   },
   {
    "duration": 23,
    "start_time": "2024-11-14T15:27:40.300Z"
   },
   {
    "duration": 22,
    "start_time": "2024-11-14T15:27:43.002Z"
   },
   {
    "duration": 16,
    "start_time": "2024-11-14T15:27:50.093Z"
   },
   {
    "duration": 15,
    "start_time": "2024-11-14T15:28:05.452Z"
   },
   {
    "duration": 452,
    "start_time": "2024-11-14T15:28:08.853Z"
   },
   {
    "duration": 360,
    "start_time": "2024-11-14T15:28:10.858Z"
   },
   {
    "duration": 360,
    "start_time": "2024-11-14T15:28:42.597Z"
   },
   {
    "duration": 346,
    "start_time": "2024-11-14T15:28:45.932Z"
   },
   {
    "duration": 387,
    "start_time": "2024-11-14T15:29:09.138Z"
   },
   {
    "duration": 496,
    "start_time": "2024-11-14T15:29:21.802Z"
   },
   {
    "duration": 358,
    "start_time": "2024-11-14T15:29:43.783Z"
   },
   {
    "duration": 383,
    "start_time": "2024-11-14T15:30:32.054Z"
   },
   {
    "duration": 394,
    "start_time": "2024-11-14T15:30:48.962Z"
   },
   {
    "duration": 387,
    "start_time": "2024-11-14T15:31:07.644Z"
   },
   {
    "duration": 363,
    "start_time": "2024-11-14T15:32:01.819Z"
   },
   {
    "duration": 516,
    "start_time": "2024-11-14T15:32:06.460Z"
   },
   {
    "duration": 380,
    "start_time": "2024-11-14T15:32:10.283Z"
   },
   {
    "duration": 366,
    "start_time": "2024-11-14T15:32:15.405Z"
   },
   {
    "duration": 366,
    "start_time": "2024-11-14T15:32:23.620Z"
   },
   {
    "duration": 335,
    "start_time": "2024-11-14T15:33:50.482Z"
   },
   {
    "duration": 491,
    "start_time": "2024-11-14T15:34:03.142Z"
   },
   {
    "duration": 301,
    "start_time": "2024-11-14T15:34:10.620Z"
   },
   {
    "duration": 365,
    "start_time": "2024-11-14T15:34:18.855Z"
   },
   {
    "duration": 366,
    "start_time": "2024-11-14T15:34:31.463Z"
   },
   {
    "duration": 485,
    "start_time": "2024-11-14T15:35:03.761Z"
   },
   {
    "duration": 340,
    "start_time": "2024-11-14T15:35:29.930Z"
   },
   {
    "duration": 343,
    "start_time": "2024-11-14T15:35:39.837Z"
   },
   {
    "duration": 376,
    "start_time": "2024-11-14T15:35:52.504Z"
   },
   {
    "duration": 526,
    "start_time": "2024-11-14T15:36:31.011Z"
   },
   {
    "duration": 361,
    "start_time": "2024-11-14T15:36:34.337Z"
   },
   {
    "duration": 364,
    "start_time": "2024-11-14T15:36:44.973Z"
   },
   {
    "duration": 231,
    "start_time": "2024-11-14T15:37:04.836Z"
   },
   {
    "duration": 123,
    "start_time": "2024-11-14T15:37:08.075Z"
   },
   {
    "duration": 377,
    "start_time": "2024-11-14T15:37:11.083Z"
   },
   {
    "duration": 188,
    "start_time": "2024-11-14T15:37:56.047Z"
   },
   {
    "duration": 1400,
    "start_time": "2024-11-14T15:38:18.654Z"
   },
   {
    "duration": 361,
    "start_time": "2024-11-14T15:38:21.537Z"
   },
   {
    "duration": 402,
    "start_time": "2024-11-14T15:40:20.059Z"
   },
   {
    "duration": 384,
    "start_time": "2024-11-14T15:40:27.802Z"
   },
   {
    "duration": 351,
    "start_time": "2024-11-14T15:40:31.474Z"
   },
   {
    "duration": 367,
    "start_time": "2024-11-14T15:40:38.530Z"
   },
   {
    "duration": 519,
    "start_time": "2024-11-14T15:40:41.011Z"
   },
   {
    "duration": 406,
    "start_time": "2024-11-14T15:40:46.218Z"
   },
   {
    "duration": 418,
    "start_time": "2024-11-14T15:40:49.205Z"
   },
   {
    "duration": 398,
    "start_time": "2024-11-14T15:42:13.450Z"
   },
   {
    "duration": 399,
    "start_time": "2024-11-14T15:42:16.363Z"
   },
   {
    "duration": 575,
    "start_time": "2024-11-14T15:42:26.092Z"
   },
   {
    "duration": 411,
    "start_time": "2024-11-14T15:42:56.372Z"
   },
   {
    "duration": 426,
    "start_time": "2024-11-14T15:43:01.811Z"
   },
   {
    "duration": 403,
    "start_time": "2024-11-14T15:43:14.379Z"
   },
   {
    "duration": 210,
    "start_time": "2024-11-14T15:44:26.158Z"
   },
   {
    "duration": 371,
    "start_time": "2024-11-14T15:44:35.300Z"
   },
   {
    "duration": 554,
    "start_time": "2024-11-14T15:44:42.475Z"
   },
   {
    "duration": 214,
    "start_time": "2024-11-14T15:45:50.972Z"
   },
   {
    "duration": 345,
    "start_time": "2024-11-14T15:46:49.434Z"
   },
   {
    "duration": 347,
    "start_time": "2024-11-14T15:47:00.438Z"
   },
   {
    "duration": 346,
    "start_time": "2024-11-14T15:47:12.652Z"
   },
   {
    "duration": 344,
    "start_time": "2024-11-14T15:47:14.896Z"
   },
   {
    "duration": 510,
    "start_time": "2024-11-14T15:47:37.880Z"
   },
   {
    "duration": 455,
    "start_time": "2024-11-14T15:47:55.321Z"
   },
   {
    "duration": 488,
    "start_time": "2024-11-14T15:48:08.461Z"
   },
   {
    "duration": 476,
    "start_time": "2024-11-14T15:48:18.739Z"
   },
   {
    "duration": 638,
    "start_time": "2024-11-14T15:49:06.207Z"
   },
   {
    "duration": 483,
    "start_time": "2024-11-14T15:49:34.941Z"
   },
   {
    "duration": 484,
    "start_time": "2024-11-14T15:49:49.773Z"
   },
   {
    "duration": 486,
    "start_time": "2024-11-14T15:50:22.554Z"
   },
   {
    "duration": 651,
    "start_time": "2024-11-14T15:51:19.014Z"
   },
   {
    "duration": 470,
    "start_time": "2024-11-14T15:51:24.674Z"
   },
   {
    "duration": 507,
    "start_time": "2024-11-14T15:51:28.282Z"
   },
   {
    "duration": 646,
    "start_time": "2024-11-14T15:51:39.297Z"
   },
   {
    "duration": 1291,
    "start_time": "2024-11-14T15:51:57.057Z"
   },
   {
    "duration": 145,
    "start_time": "2024-11-14T15:51:58.350Z"
   },
   {
    "duration": 17,
    "start_time": "2024-11-14T15:51:58.496Z"
   },
   {
    "duration": 62,
    "start_time": "2024-11-14T15:51:58.518Z"
   },
   {
    "duration": 18,
    "start_time": "2024-11-14T15:51:58.582Z"
   },
   {
    "duration": 19,
    "start_time": "2024-11-14T15:51:58.605Z"
   },
   {
    "duration": 22,
    "start_time": "2024-11-14T15:51:58.626Z"
   },
   {
    "duration": 12,
    "start_time": "2024-11-14T15:51:58.650Z"
   },
   {
    "duration": 11,
    "start_time": "2024-11-14T15:51:58.664Z"
   },
   {
    "duration": 21,
    "start_time": "2024-11-14T15:51:58.677Z"
   },
   {
    "duration": 17,
    "start_time": "2024-11-14T15:51:58.701Z"
   },
   {
    "duration": 5,
    "start_time": "2024-11-14T15:51:58.721Z"
   },
   {
    "duration": 14,
    "start_time": "2024-11-14T15:51:58.728Z"
   },
   {
    "duration": 209,
    "start_time": "2024-11-14T15:51:58.745Z"
   },
   {
    "duration": 154,
    "start_time": "2024-11-14T15:51:58.956Z"
   },
   {
    "duration": 6,
    "start_time": "2024-11-14T15:51:59.114Z"
   },
   {
    "duration": 5,
    "start_time": "2024-11-14T15:51:59.121Z"
   },
   {
    "duration": 6,
    "start_time": "2024-11-14T15:51:59.127Z"
   },
   {
    "duration": 350,
    "start_time": "2024-11-14T15:51:59.135Z"
   },
   {
    "duration": 20,
    "start_time": "2024-11-14T15:51:59.487Z"
   },
   {
    "duration": 229,
    "start_time": "2024-11-14T15:51:59.509Z"
   },
   {
    "duration": 9,
    "start_time": "2024-11-14T15:51:59.739Z"
   },
   {
    "duration": 222,
    "start_time": "2024-11-14T15:51:59.750Z"
   },
   {
    "duration": 47,
    "start_time": "2024-11-14T15:51:59.974Z"
   },
   {
    "duration": 10,
    "start_time": "2024-11-14T15:52:00.023Z"
   },
   {
    "duration": 55,
    "start_time": "2024-11-14T15:52:00.035Z"
   },
   {
    "duration": 34,
    "start_time": "2024-11-14T15:52:00.092Z"
   },
   {
    "duration": 42,
    "start_time": "2024-11-14T15:52:00.128Z"
   },
   {
    "duration": 494,
    "start_time": "2024-11-14T15:52:00.172Z"
   },
   {
    "duration": 596,
    "start_time": "2024-11-14T15:52:00.668Z"
   },
   {
    "duration": 511,
    "start_time": "2024-11-14T15:52:28.693Z"
   },
   {
    "duration": 477,
    "start_time": "2024-11-14T15:52:39.325Z"
   },
   {
    "duration": 494,
    "start_time": "2024-11-14T15:52:44.325Z"
   },
   {
    "duration": 631,
    "start_time": "2024-11-14T15:52:47.024Z"
   },
   {
    "duration": 478,
    "start_time": "2024-11-14T15:52:50.381Z"
   },
   {
    "duration": 524,
    "start_time": "2024-11-14T15:52:55.809Z"
   },
   {
    "duration": 634,
    "start_time": "2024-11-14T15:52:58.331Z"
   },
   {
    "duration": 475,
    "start_time": "2024-11-14T15:53:01.196Z"
   },
   {
    "duration": 467,
    "start_time": "2024-11-14T15:53:04.291Z"
   },
   {
    "duration": 498,
    "start_time": "2024-11-14T15:53:07.161Z"
   },
   {
    "duration": 629,
    "start_time": "2024-11-14T15:53:16.635Z"
   },
   {
    "duration": 494,
    "start_time": "2024-11-14T15:53:25.024Z"
   },
   {
    "duration": 484,
    "start_time": "2024-11-14T15:53:27.971Z"
   },
   {
    "duration": 5,
    "start_time": "2024-11-14T15:58:02.754Z"
   },
   {
    "duration": 5,
    "start_time": "2024-11-14T15:58:04.461Z"
   },
   {
    "duration": 5,
    "start_time": "2024-11-14T15:58:05.934Z"
   },
   {
    "duration": 7,
    "start_time": "2024-11-14T15:58:07.448Z"
   },
   {
    "duration": 10,
    "start_time": "2024-11-14T15:58:18.794Z"
   },
   {
    "duration": 4,
    "start_time": "2024-11-14T16:00:12.851Z"
   },
   {
    "duration": 6,
    "start_time": "2024-11-14T16:00:33.517Z"
   },
   {
    "duration": 4,
    "start_time": "2024-11-14T16:00:38.647Z"
   },
   {
    "duration": 47,
    "start_time": "2024-11-14T16:00:57.971Z"
   },
   {
    "duration": 4,
    "start_time": "2024-11-14T16:01:15.057Z"
   },
   {
    "duration": 4,
    "start_time": "2024-11-14T16:01:38.639Z"
   },
   {
    "duration": 4,
    "start_time": "2024-11-14T16:01:40.275Z"
   },
   {
    "duration": 4,
    "start_time": "2024-11-14T16:01:42.130Z"
   },
   {
    "duration": 5,
    "start_time": "2024-11-14T16:01:43.856Z"
   },
   {
    "duration": 7,
    "start_time": "2024-11-14T16:02:08.924Z"
   },
   {
    "duration": 45,
    "start_time": "2024-11-14T16:03:41.923Z"
   },
   {
    "duration": 17,
    "start_time": "2024-11-14T16:06:53.010Z"
   },
   {
    "duration": 12,
    "start_time": "2024-11-14T16:06:56.195Z"
   },
   {
    "duration": 17,
    "start_time": "2024-11-14T16:13:07.529Z"
   },
   {
    "duration": 16,
    "start_time": "2024-11-14T16:13:16.763Z"
   },
   {
    "duration": 10,
    "start_time": "2024-11-14T16:14:09.564Z"
   },
   {
    "duration": 17,
    "start_time": "2024-11-14T16:14:27.598Z"
   },
   {
    "duration": 23,
    "start_time": "2024-11-14T16:15:43.222Z"
   },
   {
    "duration": 37,
    "start_time": "2024-11-14T16:16:03.655Z"
   },
   {
    "duration": 23,
    "start_time": "2024-11-14T16:16:05.635Z"
   },
   {
    "duration": 127,
    "start_time": "2024-11-14T16:16:39.039Z"
   },
   {
    "duration": 23,
    "start_time": "2024-11-14T16:16:47.683Z"
   },
   {
    "duration": 61,
    "start_time": "2024-11-14T16:17:21.301Z"
   },
   {
    "duration": 49,
    "start_time": "2024-11-14T16:17:35.923Z"
   },
   {
    "duration": 29,
    "start_time": "2024-11-14T16:17:43.639Z"
   },
   {
    "duration": 45,
    "start_time": "2024-11-14T16:19:00.216Z"
   },
   {
    "duration": 30,
    "start_time": "2024-11-14T16:21:19.412Z"
   },
   {
    "duration": 66,
    "start_time": "2024-11-14T16:21:21.703Z"
   },
   {
    "duration": 24,
    "start_time": "2024-11-14T16:22:43.802Z"
   },
   {
    "duration": 33,
    "start_time": "2024-11-14T16:25:13.411Z"
   },
   {
    "duration": 24,
    "start_time": "2024-11-14T16:25:29.564Z"
   },
   {
    "duration": 22,
    "start_time": "2024-11-14T16:25:33.731Z"
   },
   {
    "duration": 840,
    "start_time": "2024-11-14T16:25:53.496Z"
   },
   {
    "duration": 27,
    "start_time": "2024-11-14T16:26:03.819Z"
   },
   {
    "duration": 30,
    "start_time": "2024-11-14T16:26:08.095Z"
   },
   {
    "duration": 39,
    "start_time": "2024-11-14T16:26:12.415Z"
   },
   {
    "duration": 31,
    "start_time": "2024-11-14T16:27:18.573Z"
   },
   {
    "duration": 39,
    "start_time": "2024-11-14T16:28:08.253Z"
   },
   {
    "duration": 32,
    "start_time": "2024-11-14T16:32:58.017Z"
   },
   {
    "duration": 34,
    "start_time": "2024-11-14T16:33:34.722Z"
   },
   {
    "duration": 31,
    "start_time": "2024-11-14T16:33:44.283Z"
   },
   {
    "duration": 31,
    "start_time": "2024-11-14T16:39:06.092Z"
   },
   {
    "duration": 30,
    "start_time": "2024-11-14T16:40:31.535Z"
   },
   {
    "duration": 3,
    "start_time": "2024-11-14T16:40:54.035Z"
   },
   {
    "duration": 27,
    "start_time": "2024-11-14T16:41:03.582Z"
   },
   {
    "duration": 21,
    "start_time": "2024-11-14T16:41:12.676Z"
   },
   {
    "duration": 31,
    "start_time": "2024-11-14T16:41:17.141Z"
   },
   {
    "duration": 32,
    "start_time": "2024-11-14T16:41:38.658Z"
   },
   {
    "duration": 33,
    "start_time": "2024-11-14T16:41:53.596Z"
   },
   {
    "duration": 50,
    "start_time": "2024-11-14T16:42:02.695Z"
   },
   {
    "duration": 4,
    "start_time": "2024-11-14T16:43:03.516Z"
   },
   {
    "duration": 12,
    "start_time": "2024-11-14T16:44:01.804Z"
   },
   {
    "duration": 10,
    "start_time": "2024-11-14T16:44:06.405Z"
   },
   {
    "duration": 14,
    "start_time": "2024-11-14T16:48:08.007Z"
   },
   {
    "duration": 22,
    "start_time": "2024-11-14T16:48:15.202Z"
   },
   {
    "duration": 36,
    "start_time": "2024-11-14T16:49:54.617Z"
   },
   {
    "duration": 19,
    "start_time": "2024-11-14T16:50:37.002Z"
   },
   {
    "duration": 17,
    "start_time": "2024-11-14T16:50:41.602Z"
   },
   {
    "duration": 16,
    "start_time": "2024-11-14T16:50:46.783Z"
   },
   {
    "duration": 31,
    "start_time": "2024-11-14T16:50:58.740Z"
   },
   {
    "duration": 23,
    "start_time": "2024-11-14T16:51:39.883Z"
   },
   {
    "duration": 24,
    "start_time": "2024-11-14T16:51:42.609Z"
   },
   {
    "duration": 23,
    "start_time": "2024-11-14T16:52:13.402Z"
   },
   {
    "duration": 44,
    "start_time": "2024-11-14T16:56:19.667Z"
   },
   {
    "duration": 3,
    "start_time": "2024-11-14T16:58:22.171Z"
   },
   {
    "duration": 191,
    "start_time": "2024-11-14T17:00:14.155Z"
   },
   {
    "duration": 207,
    "start_time": "2024-11-14T17:00:19.808Z"
   },
   {
    "duration": 32,
    "start_time": "2024-11-14T17:03:24.432Z"
   },
   {
    "duration": 177,
    "start_time": "2024-11-14T17:03:42.156Z"
   },
   {
    "duration": 180,
    "start_time": "2024-11-14T17:03:45.403Z"
   },
   {
    "duration": 3,
    "start_time": "2024-11-14T17:06:17.399Z"
   },
   {
    "duration": 4,
    "start_time": "2024-11-14T17:13:28.684Z"
   },
   {
    "duration": 4,
    "start_time": "2024-11-14T17:15:21.178Z"
   },
   {
    "duration": 7,
    "start_time": "2024-11-14T17:15:33.816Z"
   },
   {
    "duration": 6,
    "start_time": "2024-11-14T17:16:29.153Z"
   },
   {
    "duration": 12,
    "start_time": "2024-11-14T17:16:36.592Z"
   },
   {
    "duration": 6,
    "start_time": "2024-11-14T17:16:38.475Z"
   },
   {
    "duration": 57,
    "start_time": "2024-11-14T17:20:29.637Z"
   },
   {
    "duration": 8,
    "start_time": "2024-11-14T17:20:38.550Z"
   },
   {
    "duration": 11,
    "start_time": "2024-11-14T17:20:46.031Z"
   },
   {
    "duration": 9,
    "start_time": "2024-11-14T17:21:25.108Z"
   },
   {
    "duration": 7,
    "start_time": "2024-11-14T17:22:22.946Z"
   },
   {
    "duration": 7,
    "start_time": "2024-11-14T17:23:20.600Z"
   },
   {
    "duration": 7,
    "start_time": "2024-11-14T17:25:22.240Z"
   },
   {
    "duration": 7,
    "start_time": "2024-11-14T17:27:30.583Z"
   },
   {
    "duration": 7,
    "start_time": "2024-11-14T17:29:25.244Z"
   },
   {
    "duration": 16,
    "start_time": "2024-11-14T17:30:56.000Z"
   },
   {
    "duration": 6,
    "start_time": "2024-11-14T17:31:06.561Z"
   },
   {
    "duration": 7,
    "start_time": "2024-11-14T17:31:43.792Z"
   },
   {
    "duration": 6,
    "start_time": "2024-11-14T17:32:15.837Z"
   },
   {
    "duration": 7,
    "start_time": "2024-11-14T17:32:55.843Z"
   },
   {
    "duration": 5,
    "start_time": "2024-11-14T17:33:32.442Z"
   },
   {
    "duration": 18,
    "start_time": "2024-11-14T18:47:00.396Z"
   },
   {
    "duration": 6,
    "start_time": "2024-11-14T18:47:11.282Z"
   },
   {
    "duration": 7,
    "start_time": "2024-11-14T18:50:17.117Z"
   },
   {
    "duration": 7,
    "start_time": "2024-11-14T18:50:26.570Z"
   },
   {
    "duration": 6,
    "start_time": "2024-11-14T18:50:33.420Z"
   },
   {
    "duration": 7,
    "start_time": "2024-11-14T18:50:47.125Z"
   },
   {
    "duration": 7,
    "start_time": "2024-11-14T18:50:56.394Z"
   },
   {
    "duration": 6,
    "start_time": "2024-11-14T18:51:21.635Z"
   },
   {
    "duration": 14,
    "start_time": "2024-11-14T18:51:50.995Z"
   },
   {
    "duration": 12,
    "start_time": "2024-11-14T18:51:53.133Z"
   },
   {
    "duration": 5,
    "start_time": "2024-11-14T18:52:02.617Z"
   },
   {
    "duration": 6,
    "start_time": "2024-11-14T18:53:09.022Z"
   },
   {
    "duration": 7,
    "start_time": "2024-11-14T18:54:39.090Z"
   },
   {
    "duration": 6,
    "start_time": "2024-11-14T18:58:15.232Z"
   },
   {
    "duration": 6,
    "start_time": "2024-11-14T18:58:50.398Z"
   },
   {
    "duration": 5,
    "start_time": "2024-11-14T19:02:07.196Z"
   },
   {
    "duration": 6,
    "start_time": "2024-11-14T19:02:17.934Z"
   },
   {
    "duration": 13,
    "start_time": "2024-11-14T19:13:46.262Z"
   },
   {
    "duration": 13,
    "start_time": "2024-11-14T19:14:00.918Z"
   },
   {
    "duration": 52,
    "start_time": "2024-11-14T19:18:14.753Z"
   },
   {
    "duration": 6,
    "start_time": "2024-11-14T19:20:11.745Z"
   },
   {
    "duration": 606,
    "start_time": "2024-11-14T19:27:35.521Z"
   },
   {
    "duration": 388,
    "start_time": "2024-11-14T19:28:39.110Z"
   },
   {
    "duration": 52,
    "start_time": "2024-11-14T19:29:41.242Z"
   },
   {
    "duration": 20,
    "start_time": "2024-11-14T19:30:00.108Z"
   },
   {
    "duration": 20,
    "start_time": "2024-11-14T19:30:23.874Z"
   },
   {
    "duration": 19,
    "start_time": "2024-11-14T19:30:34.133Z"
   },
   {
    "duration": 18,
    "start_time": "2024-11-14T19:33:02.542Z"
   },
   {
    "duration": 6,
    "start_time": "2024-11-14T19:34:13.778Z"
   },
   {
    "duration": 13,
    "start_time": "2024-11-14T19:34:21.848Z"
   },
   {
    "duration": 13,
    "start_time": "2024-11-14T19:34:26.013Z"
   },
   {
    "duration": 14,
    "start_time": "2024-11-14T19:34:34.786Z"
   },
   {
    "duration": 14,
    "start_time": "2024-11-14T19:34:37.472Z"
   },
   {
    "duration": 16,
    "start_time": "2024-11-14T19:35:04.124Z"
   },
   {
    "duration": 12,
    "start_time": "2024-11-14T19:35:09.383Z"
   },
   {
    "duration": 14,
    "start_time": "2024-11-14T19:36:54.453Z"
   },
   {
    "duration": 12,
    "start_time": "2024-11-14T19:36:56.294Z"
   },
   {
    "duration": 13,
    "start_time": "2024-11-14T19:38:33.397Z"
   },
   {
    "duration": 13,
    "start_time": "2024-11-14T19:38:35.612Z"
   },
   {
    "duration": 689,
    "start_time": "2024-11-14T19:39:53.363Z"
   },
   {
    "duration": 325,
    "start_time": "2024-11-14T19:40:20.023Z"
   },
   {
    "duration": 575,
    "start_time": "2024-11-14T19:40:24.339Z"
   },
   {
    "duration": 553,
    "start_time": "2024-11-14T19:40:33.468Z"
   },
   {
    "duration": 677,
    "start_time": "2024-11-14T19:41:24.553Z"
   },
   {
    "duration": 583,
    "start_time": "2024-11-14T19:41:35.877Z"
   },
   {
    "duration": 529,
    "start_time": "2024-11-14T19:41:46.106Z"
   },
   {
    "duration": 544,
    "start_time": "2024-11-14T19:41:49.452Z"
   },
   {
    "duration": 671,
    "start_time": "2024-11-14T19:41:58.321Z"
   },
   {
    "duration": 555,
    "start_time": "2024-11-14T19:42:13.988Z"
   },
   {
    "duration": 542,
    "start_time": "2024-11-14T19:43:23.414Z"
   },
   {
    "duration": 656,
    "start_time": "2024-11-14T19:43:42.414Z"
   },
   {
    "duration": 549,
    "start_time": "2024-11-14T19:43:50.909Z"
   },
   {
    "duration": 486,
    "start_time": "2024-11-14T19:44:05.429Z"
   },
   {
    "duration": 562,
    "start_time": "2024-11-14T19:44:09.894Z"
   },
   {
    "duration": 510,
    "start_time": "2024-11-14T19:44:47.357Z"
   },
   {
    "duration": 547,
    "start_time": "2024-11-14T19:45:10.086Z"
   },
   {
    "duration": 580,
    "start_time": "2024-11-14T19:45:21.621Z"
   },
   {
    "duration": 196,
    "start_time": "2024-11-14T19:45:59.412Z"
   },
   {
    "duration": 174,
    "start_time": "2024-11-14T19:46:13.477Z"
   },
   {
    "duration": 200,
    "start_time": "2024-11-14T19:46:51.741Z"
   },
   {
    "duration": 195,
    "start_time": "2024-11-14T19:47:00.408Z"
   },
   {
    "duration": 321,
    "start_time": "2024-11-14T19:47:13.994Z"
   },
   {
    "duration": 190,
    "start_time": "2024-11-14T19:47:26.127Z"
   },
   {
    "duration": 202,
    "start_time": "2024-11-14T19:48:17.515Z"
   },
   {
    "duration": 219,
    "start_time": "2024-11-14T19:48:27.485Z"
   },
   {
    "duration": 15,
    "start_time": "2024-11-14T19:48:37.263Z"
   },
   {
    "duration": 197,
    "start_time": "2024-11-14T19:48:40.185Z"
   },
   {
    "duration": 191,
    "start_time": "2024-11-14T19:48:44.610Z"
   },
   {
    "duration": 172,
    "start_time": "2024-11-14T19:49:00.722Z"
   },
   {
    "duration": 127,
    "start_time": "2024-11-14T19:49:09.621Z"
   },
   {
    "duration": 171,
    "start_time": "2024-11-14T19:49:12.406Z"
   },
   {
    "duration": 212,
    "start_time": "2024-11-14T19:49:21.962Z"
   },
   {
    "duration": 19,
    "start_time": "2024-11-14T19:55:08.382Z"
   },
   {
    "duration": 12,
    "start_time": "2024-11-14T19:55:13.464Z"
   },
   {
    "duration": 13,
    "start_time": "2024-11-14T19:56:52.874Z"
   },
   {
    "duration": 13,
    "start_time": "2024-11-14T19:57:17.581Z"
   },
   {
    "duration": 11,
    "start_time": "2024-11-14T19:57:20.862Z"
   },
   {
    "duration": 5,
    "start_time": "2024-11-14T20:00:52.197Z"
   },
   {
    "duration": 6,
    "start_time": "2024-11-14T20:01:35.978Z"
   },
   {
    "duration": 6,
    "start_time": "2024-11-14T20:02:03.621Z"
   },
   {
    "duration": 6,
    "start_time": "2024-11-14T20:02:14.477Z"
   },
   {
    "duration": 5,
    "start_time": "2024-11-14T20:02:22.974Z"
   },
   {
    "duration": 6,
    "start_time": "2024-11-14T20:02:28.601Z"
   },
   {
    "duration": 5,
    "start_time": "2024-11-14T20:02:37.082Z"
   },
   {
    "duration": 5,
    "start_time": "2024-11-14T20:03:10.403Z"
   },
   {
    "duration": 10,
    "start_time": "2024-11-14T20:03:30.404Z"
   },
   {
    "duration": 5,
    "start_time": "2024-11-14T20:04:27.790Z"
   },
   {
    "duration": 5,
    "start_time": "2024-11-14T20:05:53.486Z"
   },
   {
    "duration": 6,
    "start_time": "2024-11-14T20:06:22.351Z"
   },
   {
    "duration": 45,
    "start_time": "2024-11-14T20:07:12.532Z"
   },
   {
    "duration": 5,
    "start_time": "2024-11-14T20:07:42.671Z"
   },
   {
    "duration": 3,
    "start_time": "2024-11-14T20:30:32.160Z"
   },
   {
    "duration": 19,
    "start_time": "2024-11-14T20:47:19.187Z"
   },
   {
    "duration": 14,
    "start_time": "2024-11-14T20:47:21.063Z"
   },
   {
    "duration": 9,
    "start_time": "2024-11-14T20:47:25.461Z"
   },
   {
    "duration": 5,
    "start_time": "2024-11-14T20:47:39.329Z"
   },
   {
    "duration": 42,
    "start_time": "2024-11-14T20:48:46.327Z"
   },
   {
    "duration": 786,
    "start_time": "2024-11-14T20:57:12.775Z"
   },
   {
    "duration": 785,
    "start_time": "2024-11-14T20:57:30.522Z"
   },
   {
    "duration": 752,
    "start_time": "2024-11-14T20:57:45.962Z"
   },
   {
    "duration": 818,
    "start_time": "2024-11-14T20:57:48.159Z"
   },
   {
    "duration": 771,
    "start_time": "2024-11-14T20:58:35.851Z"
   },
   {
    "duration": 799,
    "start_time": "2024-11-14T20:59:02.308Z"
   },
   {
    "duration": 812,
    "start_time": "2024-11-14T20:59:04.442Z"
   },
   {
    "duration": 45,
    "start_time": "2024-11-14T20:59:12.987Z"
   },
   {
    "duration": 822,
    "start_time": "2024-11-14T20:59:19.147Z"
   },
   {
    "duration": 46,
    "start_time": "2024-11-14T20:59:43.631Z"
   },
   {
    "duration": 52,
    "start_time": "2024-11-14T20:59:58.632Z"
   },
   {
    "duration": 51,
    "start_time": "2024-11-14T21:00:12.423Z"
   },
   {
    "duration": 3709,
    "start_time": "2024-11-14T21:00:25.706Z"
   },
   {
    "duration": 3747,
    "start_time": "2024-11-14T21:01:59.387Z"
   },
   {
    "duration": 3740,
    "start_time": "2024-11-14T21:02:21.086Z"
   },
   {
    "duration": 3567,
    "start_time": "2024-11-14T21:02:37.941Z"
   },
   {
    "duration": 3808,
    "start_time": "2024-11-14T21:03:18.137Z"
   },
   {
    "duration": 3822,
    "start_time": "2024-11-14T21:03:27.193Z"
   },
   {
    "duration": 3811,
    "start_time": "2024-11-14T21:03:34.505Z"
   },
   {
    "duration": 3543,
    "start_time": "2024-11-14T21:03:44.444Z"
   },
   {
    "duration": 3702,
    "start_time": "2024-11-14T21:04:08.671Z"
   },
   {
    "duration": 3736,
    "start_time": "2024-11-14T21:04:42.691Z"
   },
   {
    "duration": 837,
    "start_time": "2024-11-14T21:04:52.915Z"
   },
   {
    "duration": 1048,
    "start_time": "2024-11-14T21:05:01.078Z"
   },
   {
    "duration": 959,
    "start_time": "2024-11-14T21:05:09.587Z"
   },
   {
    "duration": 809,
    "start_time": "2024-11-14T21:12:09.837Z"
   },
   {
    "duration": 976,
    "start_time": "2024-11-14T21:12:15.407Z"
   },
   {
    "duration": 818,
    "start_time": "2024-11-14T21:13:17.833Z"
   },
   {
    "duration": 1034,
    "start_time": "2024-11-14T21:13:30.458Z"
   },
   {
    "duration": 817,
    "start_time": "2024-11-14T21:13:37.998Z"
   },
   {
    "duration": 1047,
    "start_time": "2024-11-14T21:13:44.482Z"
   },
   {
    "duration": 800,
    "start_time": "2024-11-14T21:13:49.138Z"
   },
   {
    "duration": 1039,
    "start_time": "2024-11-14T21:13:54.598Z"
   },
   {
    "duration": 770,
    "start_time": "2024-11-14T21:14:12.614Z"
   },
   {
    "duration": 750,
    "start_time": "2024-11-14T21:14:34.841Z"
   },
   {
    "duration": 1083,
    "start_time": "2024-11-14T21:14:38.456Z"
   },
   {
    "duration": 3352,
    "start_time": "2024-11-14T21:14:56.375Z"
   },
   {
    "duration": 3138,
    "start_time": "2024-11-14T21:15:27.829Z"
   },
   {
    "duration": 3520,
    "start_time": "2024-11-14T21:15:39.918Z"
   },
   {
    "duration": 567,
    "start_time": "2024-11-14T21:16:54.500Z"
   },
   {
    "duration": 570,
    "start_time": "2024-11-14T21:17:01.171Z"
   },
   {
    "duration": 562,
    "start_time": "2024-11-14T21:17:11.873Z"
   },
   {
    "duration": 934,
    "start_time": "2024-11-14T21:17:21.987Z"
   },
   {
    "duration": 444,
    "start_time": "2024-11-14T21:17:31.142Z"
   },
   {
    "duration": 581,
    "start_time": "2024-11-14T21:17:48.096Z"
   },
   {
    "duration": 791,
    "start_time": "2024-11-14T21:18:09.978Z"
   },
   {
    "duration": 558,
    "start_time": "2024-11-14T21:18:16.292Z"
   },
   {
    "duration": 573,
    "start_time": "2024-11-14T21:18:19.683Z"
   },
   {
    "duration": 830,
    "start_time": "2024-11-14T21:18:27.760Z"
   },
   {
    "duration": 133,
    "start_time": "2024-11-14T21:21:28.177Z"
   },
   {
    "duration": 557,
    "start_time": "2024-11-14T21:21:31.445Z"
   },
   {
    "duration": 586,
    "start_time": "2024-11-14T21:21:42.149Z"
   },
   {
    "duration": 816,
    "start_time": "2024-11-14T21:21:49.724Z"
   },
   {
    "duration": 580,
    "start_time": "2024-11-14T21:22:01.296Z"
   },
   {
    "duration": 797,
    "start_time": "2024-11-14T21:22:09.144Z"
   },
   {
    "duration": 570,
    "start_time": "2024-11-14T21:22:40.996Z"
   },
   {
    "duration": 3,
    "start_time": "2024-11-14T21:29:28.340Z"
   },
   {
    "duration": 3,
    "start_time": "2024-11-14T21:29:38.089Z"
   },
   {
    "duration": 4,
    "start_time": "2024-11-14T21:30:03.974Z"
   },
   {
    "duration": 5,
    "start_time": "2024-11-14T21:30:15.083Z"
   },
   {
    "duration": 4,
    "start_time": "2024-11-14T21:31:43.411Z"
   },
   {
    "duration": 4,
    "start_time": "2024-11-14T21:32:11.707Z"
   },
   {
    "duration": 5,
    "start_time": "2024-11-14T21:32:23.789Z"
   },
   {
    "duration": 7,
    "start_time": "2024-11-14T21:32:41.733Z"
   },
   {
    "duration": 6,
    "start_time": "2024-11-14T21:32:56.874Z"
   },
   {
    "duration": 6,
    "start_time": "2024-11-14T21:33:39.664Z"
   },
   {
    "duration": 6,
    "start_time": "2024-11-14T21:33:44.422Z"
   },
   {
    "duration": 6,
    "start_time": "2024-11-14T21:33:51.466Z"
   },
   {
    "duration": 6,
    "start_time": "2024-11-14T21:34:23.764Z"
   },
   {
    "duration": 7,
    "start_time": "2024-11-14T21:34:41.263Z"
   },
   {
    "duration": 5,
    "start_time": "2024-11-14T21:34:46.225Z"
   },
   {
    "duration": 5,
    "start_time": "2024-11-14T21:35:03.138Z"
   },
   {
    "duration": 6,
    "start_time": "2024-11-14T21:35:19.212Z"
   },
   {
    "duration": 6,
    "start_time": "2024-11-14T21:35:33.637Z"
   },
   {
    "duration": 6,
    "start_time": "2024-11-14T21:35:39.163Z"
   },
   {
    "duration": 6,
    "start_time": "2024-11-14T21:35:48.742Z"
   },
   {
    "duration": 6,
    "start_time": "2024-11-14T21:36:02.417Z"
   },
   {
    "duration": 7,
    "start_time": "2024-11-14T21:36:05.890Z"
   },
   {
    "duration": 7,
    "start_time": "2024-11-14T21:36:14.782Z"
   },
   {
    "duration": 8,
    "start_time": "2024-11-14T21:36:18.402Z"
   },
   {
    "duration": 7,
    "start_time": "2024-11-14T21:36:20.545Z"
   },
   {
    "duration": 7,
    "start_time": "2024-11-14T21:36:23.660Z"
   },
   {
    "duration": 5,
    "start_time": "2024-11-14T21:36:26.552Z"
   },
   {
    "duration": 6,
    "start_time": "2024-11-14T21:36:32.804Z"
   },
   {
    "duration": 6,
    "start_time": "2024-11-14T21:36:37.064Z"
   },
   {
    "duration": 5,
    "start_time": "2024-11-14T21:37:52.494Z"
   },
   {
    "duration": 5,
    "start_time": "2024-11-14T21:38:09.578Z"
   },
   {
    "duration": 6,
    "start_time": "2024-11-14T21:38:18.457Z"
   },
   {
    "duration": 6,
    "start_time": "2024-11-14T21:38:27.583Z"
   },
   {
    "duration": 5,
    "start_time": "2024-11-14T21:38:31.290Z"
   },
   {
    "duration": 6,
    "start_time": "2024-11-14T21:38:34.837Z"
   },
   {
    "duration": 578,
    "start_time": "2024-11-14T21:40:47.535Z"
   },
   {
    "duration": 816,
    "start_time": "2024-11-14T21:41:14.039Z"
   },
   {
    "duration": 602,
    "start_time": "2024-11-14T21:41:32.299Z"
   },
   {
    "duration": 580,
    "start_time": "2024-11-14T21:42:41.180Z"
   },
   {
    "duration": 845,
    "start_time": "2024-11-14T21:42:52.595Z"
   },
   {
    "duration": 9,
    "start_time": "2024-11-14T21:44:02.147Z"
   },
   {
    "duration": 3,
    "start_time": "2024-11-14T21:44:06.168Z"
   },
   {
    "duration": 99,
    "start_time": "2024-11-14T21:44:50.219Z"
   },
   {
    "duration": 104,
    "start_time": "2024-11-14T21:45:48.898Z"
   },
   {
    "duration": 6,
    "start_time": "2024-11-14T21:45:51.937Z"
   },
   {
    "duration": 104,
    "start_time": "2024-11-14T21:45:53.206Z"
   },
   {
    "duration": 141,
    "start_time": "2024-11-14T21:46:18.376Z"
   },
   {
    "duration": 132,
    "start_time": "2024-11-14T21:46:25.395Z"
   },
   {
    "duration": 134,
    "start_time": "2024-11-14T21:46:31.761Z"
   },
   {
    "duration": 115,
    "start_time": "2024-11-14T21:46:44.693Z"
   },
   {
    "duration": 113,
    "start_time": "2024-11-14T21:46:49.586Z"
   },
   {
    "duration": 134,
    "start_time": "2024-11-14T21:47:06.729Z"
   },
   {
    "duration": 132,
    "start_time": "2024-11-14T21:47:16.723Z"
   },
   {
    "duration": 137,
    "start_time": "2024-11-14T21:47:19.586Z"
   },
   {
    "duration": 128,
    "start_time": "2024-11-14T21:47:23.151Z"
   },
   {
    "duration": 138,
    "start_time": "2024-11-14T21:48:06.961Z"
   },
   {
    "duration": 164,
    "start_time": "2024-11-14T21:48:29.108Z"
   },
   {
    "duration": 145,
    "start_time": "2024-11-14T21:48:54.742Z"
   },
   {
    "duration": 134,
    "start_time": "2024-11-14T21:49:24.817Z"
   },
   {
    "duration": 136,
    "start_time": "2024-11-14T21:49:48.834Z"
   },
   {
    "duration": 146,
    "start_time": "2024-11-14T21:50:01.347Z"
   },
   {
    "duration": 1050,
    "start_time": "2024-11-14T22:03:09.117Z"
   },
   {
    "duration": 128,
    "start_time": "2024-11-14T22:03:10.169Z"
   },
   {
    "duration": 12,
    "start_time": "2024-11-14T22:03:10.299Z"
   },
   {
    "duration": 41,
    "start_time": "2024-11-14T22:03:10.312Z"
   },
   {
    "duration": 16,
    "start_time": "2024-11-14T22:03:10.355Z"
   },
   {
    "duration": 12,
    "start_time": "2024-11-14T22:03:10.373Z"
   },
   {
    "duration": 6,
    "start_time": "2024-11-14T22:03:10.387Z"
   },
   {
    "duration": 25,
    "start_time": "2024-11-14T22:03:10.395Z"
   },
   {
    "duration": 6,
    "start_time": "2024-11-14T22:03:10.422Z"
   },
   {
    "duration": 9,
    "start_time": "2024-11-14T22:03:10.431Z"
   },
   {
    "duration": 20,
    "start_time": "2024-11-14T22:03:10.442Z"
   },
   {
    "duration": 5,
    "start_time": "2024-11-14T22:03:10.464Z"
   },
   {
    "duration": 6,
    "start_time": "2024-11-14T22:03:10.470Z"
   },
   {
    "duration": 172,
    "start_time": "2024-11-14T22:03:10.478Z"
   },
   {
    "duration": 139,
    "start_time": "2024-11-14T22:03:10.652Z"
   },
   {
    "duration": 9,
    "start_time": "2024-11-14T22:03:10.792Z"
   },
   {
    "duration": 18,
    "start_time": "2024-11-14T22:03:10.803Z"
   },
   {
    "duration": 16,
    "start_time": "2024-11-14T22:03:10.822Z"
   },
   {
    "duration": 288,
    "start_time": "2024-11-14T22:03:10.839Z"
   },
   {
    "duration": 8,
    "start_time": "2024-11-14T22:03:11.129Z"
   },
   {
    "duration": 206,
    "start_time": "2024-11-14T22:03:11.138Z"
   },
   {
    "duration": 9,
    "start_time": "2024-11-14T22:03:11.345Z"
   },
   {
    "duration": 216,
    "start_time": "2024-11-14T22:03:11.355Z"
   },
   {
    "duration": 40,
    "start_time": "2024-11-14T22:03:11.573Z"
   },
   {
    "duration": 11,
    "start_time": "2024-11-14T22:03:11.615Z"
   },
   {
    "duration": 12,
    "start_time": "2024-11-14T22:03:11.627Z"
   },
   {
    "duration": 7,
    "start_time": "2024-11-14T22:03:11.641Z"
   },
   {
    "duration": 12,
    "start_time": "2024-11-14T22:03:11.651Z"
   },
   {
    "duration": 461,
    "start_time": "2024-11-14T22:03:11.664Z"
   },
   {
    "duration": 529,
    "start_time": "2024-11-14T22:03:12.127Z"
   },
   {
    "duration": 6,
    "start_time": "2024-11-14T22:03:12.658Z"
   },
   {
    "duration": 46,
    "start_time": "2024-11-14T22:03:12.666Z"
   },
   {
    "duration": 10,
    "start_time": "2024-11-14T22:03:12.714Z"
   },
   {
    "duration": 56,
    "start_time": "2024-11-14T22:03:12.726Z"
   },
   {
    "duration": 3,
    "start_time": "2024-11-14T22:03:12.784Z"
   },
   {
    "duration": 340,
    "start_time": "2024-11-14T22:03:12.788Z"
   },
   {
    "duration": 5,
    "start_time": "2024-11-14T22:03:13.130Z"
   },
   {
    "duration": 11,
    "start_time": "2024-11-14T22:03:13.137Z"
   },
   {
    "duration": 21,
    "start_time": "2024-11-14T22:03:13.149Z"
   },
   {
    "duration": 28,
    "start_time": "2024-11-14T22:03:13.171Z"
   },
   {
    "duration": 13,
    "start_time": "2024-11-14T22:03:13.200Z"
   },
   {
    "duration": 13,
    "start_time": "2024-11-14T22:03:13.214Z"
   },
   {
    "duration": 216,
    "start_time": "2024-11-14T22:03:13.229Z"
   },
   {
    "duration": 193,
    "start_time": "2024-11-14T22:03:13.447Z"
   },
   {
    "duration": 5,
    "start_time": "2024-11-14T22:03:13.641Z"
   },
   {
    "duration": 14,
    "start_time": "2024-11-14T22:03:13.648Z"
   },
   {
    "duration": 633,
    "start_time": "2024-11-14T22:03:13.664Z"
   },
   {
    "duration": 6,
    "start_time": "2024-11-14T22:03:14.299Z"
   },
   {
    "duration": 236,
    "start_time": "2024-11-14T22:03:14.306Z"
   },
   {
    "duration": 5,
    "start_time": "2024-11-14T22:16:51.614Z"
   },
   {
    "duration": 4,
    "start_time": "2024-11-14T22:17:29.395Z"
   },
   {
    "duration": 5,
    "start_time": "2024-11-14T22:17:36.595Z"
   },
   {
    "duration": 1058,
    "start_time": "2024-11-14T22:20:06.622Z"
   },
   {
    "duration": 128,
    "start_time": "2024-11-14T22:20:07.681Z"
   },
   {
    "duration": 13,
    "start_time": "2024-11-14T22:20:07.810Z"
   },
   {
    "duration": 11,
    "start_time": "2024-11-14T22:20:07.825Z"
   },
   {
    "duration": 15,
    "start_time": "2024-11-14T22:20:07.838Z"
   },
   {
    "duration": 15,
    "start_time": "2024-11-14T22:20:07.855Z"
   },
   {
    "duration": 9,
    "start_time": "2024-11-14T22:20:07.871Z"
   },
   {
    "duration": 19,
    "start_time": "2024-11-14T22:20:07.881Z"
   },
   {
    "duration": 5,
    "start_time": "2024-11-14T22:20:07.902Z"
   },
   {
    "duration": 21,
    "start_time": "2024-11-14T22:20:07.910Z"
   },
   {
    "duration": 11,
    "start_time": "2024-11-14T22:20:07.933Z"
   },
   {
    "duration": 5,
    "start_time": "2024-11-14T22:20:07.945Z"
   },
   {
    "duration": 6,
    "start_time": "2024-11-14T22:20:07.952Z"
   },
   {
    "duration": 192,
    "start_time": "2024-11-14T22:20:07.959Z"
   },
   {
    "duration": 132,
    "start_time": "2024-11-14T22:20:08.153Z"
   },
   {
    "duration": 13,
    "start_time": "2024-11-14T22:20:08.287Z"
   },
   {
    "duration": 17,
    "start_time": "2024-11-14T22:20:08.301Z"
   },
   {
    "duration": 7,
    "start_time": "2024-11-14T22:20:08.320Z"
   },
   {
    "duration": 305,
    "start_time": "2024-11-14T22:20:08.328Z"
   },
   {
    "duration": 8,
    "start_time": "2024-11-14T22:20:08.635Z"
   },
   {
    "duration": 212,
    "start_time": "2024-11-14T22:20:08.645Z"
   },
   {
    "duration": 9,
    "start_time": "2024-11-14T22:20:08.858Z"
   },
   {
    "duration": 214,
    "start_time": "2024-11-14T22:20:08.870Z"
   },
   {
    "duration": 31,
    "start_time": "2024-11-14T22:20:09.086Z"
   },
   {
    "duration": 11,
    "start_time": "2024-11-14T22:20:09.119Z"
   },
   {
    "duration": 13,
    "start_time": "2024-11-14T22:20:09.132Z"
   },
   {
    "duration": 8,
    "start_time": "2024-11-14T22:20:09.147Z"
   },
   {
    "duration": 42,
    "start_time": "2024-11-14T22:20:09.160Z"
   },
   {
    "duration": 454,
    "start_time": "2024-11-14T22:20:09.204Z"
   },
   {
    "duration": 513,
    "start_time": "2024-11-14T22:20:09.661Z"
   },
   {
    "duration": 6,
    "start_time": "2024-11-14T22:20:10.176Z"
   },
   {
    "duration": 41,
    "start_time": "2024-11-14T22:20:10.183Z"
   },
   {
    "duration": 9,
    "start_time": "2024-11-14T22:20:10.226Z"
   },
   {
    "duration": 23,
    "start_time": "2024-11-14T22:20:10.237Z"
   },
   {
    "duration": 2,
    "start_time": "2024-11-14T22:20:10.262Z"
   },
   {
    "duration": 364,
    "start_time": "2024-11-14T22:20:10.266Z"
   },
   {
    "duration": 5,
    "start_time": "2024-11-14T22:20:10.632Z"
   },
   {
    "duration": 6,
    "start_time": "2024-11-14T22:20:10.638Z"
   },
   {
    "duration": 13,
    "start_time": "2024-11-14T22:20:10.646Z"
   },
   {
    "duration": 38,
    "start_time": "2024-11-14T22:20:10.661Z"
   },
   {
    "duration": 12,
    "start_time": "2024-11-14T22:20:10.700Z"
   },
   {
    "duration": 15,
    "start_time": "2024-11-14T22:20:10.714Z"
   },
   {
    "duration": 210,
    "start_time": "2024-11-14T22:20:10.730Z"
   },
   {
    "duration": 194,
    "start_time": "2024-11-14T22:20:10.941Z"
   },
   {
    "duration": 5,
    "start_time": "2024-11-14T22:20:11.136Z"
   },
   {
    "duration": 9,
    "start_time": "2024-11-14T22:20:11.143Z"
   },
   {
    "duration": 625,
    "start_time": "2024-11-14T22:20:11.153Z"
   },
   {
    "duration": 5,
    "start_time": "2024-11-14T22:20:11.779Z"
   },
   {
    "duration": 238,
    "start_time": "2024-11-14T22:20:11.798Z"
   },
   {
    "duration": 990,
    "start_time": "2024-11-14T22:45:44.739Z"
   },
   {
    "duration": 332,
    "start_time": "2024-11-14T22:45:45.731Z"
   },
   {
    "duration": 11,
    "start_time": "2024-11-14T22:45:46.064Z"
   },
   {
    "duration": 14,
    "start_time": "2024-11-14T22:45:46.076Z"
   },
   {
    "duration": 12,
    "start_time": "2024-11-14T22:45:46.092Z"
   },
   {
    "duration": 22,
    "start_time": "2024-11-14T22:45:46.105Z"
   },
   {
    "duration": 17,
    "start_time": "2024-11-14T22:45:46.129Z"
   },
   {
    "duration": 10,
    "start_time": "2024-11-14T22:45:46.147Z"
   },
   {
    "duration": 16,
    "start_time": "2024-11-14T22:45:46.159Z"
   },
   {
    "duration": 13,
    "start_time": "2024-11-14T22:45:46.176Z"
   },
   {
    "duration": 55,
    "start_time": "2024-11-14T22:45:46.190Z"
   },
   {
    "duration": 4,
    "start_time": "2024-11-14T22:45:46.246Z"
   },
   {
    "duration": 10,
    "start_time": "2024-11-14T22:45:46.252Z"
   },
   {
    "duration": 163,
    "start_time": "2024-11-14T22:45:46.265Z"
   },
   {
    "duration": 110,
    "start_time": "2024-11-14T22:45:46.430Z"
   },
   {
    "duration": 4,
    "start_time": "2024-11-14T22:45:46.541Z"
   },
   {
    "duration": 7,
    "start_time": "2024-11-14T22:45:46.546Z"
   },
   {
    "duration": 4,
    "start_time": "2024-11-14T22:45:46.554Z"
   },
   {
    "duration": 244,
    "start_time": "2024-11-14T22:45:46.559Z"
   },
   {
    "duration": 12,
    "start_time": "2024-11-14T22:45:46.813Z"
   },
   {
    "duration": 181,
    "start_time": "2024-11-14T22:45:46.826Z"
   },
   {
    "duration": 11,
    "start_time": "2024-11-14T22:45:47.011Z"
   },
   {
    "duration": 195,
    "start_time": "2024-11-14T22:45:47.025Z"
   },
   {
    "duration": 34,
    "start_time": "2024-11-14T22:45:47.227Z"
   },
   {
    "duration": 12,
    "start_time": "2024-11-14T22:45:47.263Z"
   },
   {
    "duration": 10,
    "start_time": "2024-11-14T22:45:47.276Z"
   },
   {
    "duration": 37,
    "start_time": "2024-11-14T22:45:47.288Z"
   },
   {
    "duration": 14,
    "start_time": "2024-11-14T22:45:47.326Z"
   },
   {
    "duration": 450,
    "start_time": "2024-11-14T22:45:47.341Z"
   },
   {
    "duration": 471,
    "start_time": "2024-11-14T22:45:47.792Z"
   },
   {
    "duration": 7,
    "start_time": "2024-11-14T22:45:48.264Z"
   },
   {
    "duration": 48,
    "start_time": "2024-11-14T22:45:48.273Z"
   },
   {
    "duration": 21,
    "start_time": "2024-11-14T22:45:48.322Z"
   },
   {
    "duration": 27,
    "start_time": "2024-11-14T22:45:48.345Z"
   },
   {
    "duration": 7,
    "start_time": "2024-11-14T22:45:48.374Z"
   },
   {
    "duration": 343,
    "start_time": "2024-11-14T22:45:48.382Z"
   },
   {
    "duration": 5,
    "start_time": "2024-11-14T22:45:48.726Z"
   },
   {
    "duration": 8,
    "start_time": "2024-11-14T22:45:48.733Z"
   },
   {
    "duration": 24,
    "start_time": "2024-11-14T22:45:48.742Z"
   },
   {
    "duration": 15,
    "start_time": "2024-11-14T22:45:48.767Z"
   },
   {
    "duration": 37,
    "start_time": "2024-11-14T22:45:48.787Z"
   },
   {
    "duration": 11,
    "start_time": "2024-11-14T22:45:48.825Z"
   },
   {
    "duration": 191,
    "start_time": "2024-11-14T22:45:48.838Z"
   },
   {
    "duration": 161,
    "start_time": "2024-11-14T22:45:49.031Z"
   },
   {
    "duration": 5,
    "start_time": "2024-11-14T22:45:49.194Z"
   },
   {
    "duration": 7,
    "start_time": "2024-11-14T22:45:49.221Z"
   },
   {
    "duration": 528,
    "start_time": "2024-11-14T22:45:49.230Z"
   },
   {
    "duration": 5,
    "start_time": "2024-11-14T22:45:49.760Z"
   },
   {
    "duration": 238,
    "start_time": "2024-11-14T22:45:49.767Z"
   },
   {
    "duration": 1007,
    "start_time": "2024-11-15T13:53:19.541Z"
   },
   {
    "duration": 458,
    "start_time": "2024-11-15T13:53:20.550Z"
   },
   {
    "duration": 11,
    "start_time": "2024-11-15T13:53:21.010Z"
   },
   {
    "duration": 11,
    "start_time": "2024-11-15T13:53:21.023Z"
   },
   {
    "duration": 10,
    "start_time": "2024-11-15T13:53:21.035Z"
   },
   {
    "duration": 16,
    "start_time": "2024-11-15T13:53:21.046Z"
   },
   {
    "duration": 8,
    "start_time": "2024-11-15T13:53:21.063Z"
   },
   {
    "duration": 7,
    "start_time": "2024-11-15T13:53:21.072Z"
   },
   {
    "duration": 18,
    "start_time": "2024-11-15T13:53:21.080Z"
   },
   {
    "duration": 13,
    "start_time": "2024-11-15T13:53:21.100Z"
   },
   {
    "duration": 14,
    "start_time": "2024-11-15T13:53:21.114Z"
   },
   {
    "duration": 4,
    "start_time": "2024-11-15T13:53:21.129Z"
   },
   {
    "duration": 7,
    "start_time": "2024-11-15T13:53:21.135Z"
   },
   {
    "duration": 155,
    "start_time": "2024-11-15T13:53:21.147Z"
   },
   {
    "duration": 117,
    "start_time": "2024-11-15T13:53:21.303Z"
   },
   {
    "duration": 4,
    "start_time": "2024-11-15T13:53:21.421Z"
   },
   {
    "duration": 8,
    "start_time": "2024-11-15T13:53:21.426Z"
   },
   {
    "duration": 13,
    "start_time": "2024-11-15T13:53:21.435Z"
   },
   {
    "duration": 249,
    "start_time": "2024-11-15T13:53:21.449Z"
   },
   {
    "duration": 8,
    "start_time": "2024-11-15T13:53:21.699Z"
   },
   {
    "duration": 192,
    "start_time": "2024-11-15T13:53:21.709Z"
   },
   {
    "duration": 10,
    "start_time": "2024-11-15T13:53:21.903Z"
   },
   {
    "duration": 217,
    "start_time": "2024-11-15T13:53:21.915Z"
   },
   {
    "duration": 31,
    "start_time": "2024-11-15T13:53:22.134Z"
   },
   {
    "duration": 9,
    "start_time": "2024-11-15T13:53:22.167Z"
   },
   {
    "duration": 11,
    "start_time": "2024-11-15T13:53:22.177Z"
   },
   {
    "duration": 21,
    "start_time": "2024-11-15T13:53:22.189Z"
   },
   {
    "duration": 15,
    "start_time": "2024-11-15T13:53:22.213Z"
   },
   {
    "duration": 412,
    "start_time": "2024-11-15T13:53:22.230Z"
   },
   {
    "duration": 476,
    "start_time": "2024-11-15T13:53:22.643Z"
   },
   {
    "duration": 7,
    "start_time": "2024-11-15T13:53:23.121Z"
   },
   {
    "duration": 35,
    "start_time": "2024-11-15T13:53:23.130Z"
   },
   {
    "duration": 9,
    "start_time": "2024-11-15T13:53:23.166Z"
   },
   {
    "duration": 27,
    "start_time": "2024-11-15T13:53:23.177Z"
   },
   {
    "duration": 2,
    "start_time": "2024-11-15T13:53:23.205Z"
   },
   {
    "duration": 340,
    "start_time": "2024-11-15T13:53:23.208Z"
   },
   {
    "duration": 4,
    "start_time": "2024-11-15T13:53:23.550Z"
   },
   {
    "duration": 15,
    "start_time": "2024-11-15T13:53:23.555Z"
   },
   {
    "duration": 13,
    "start_time": "2024-11-15T13:53:23.571Z"
   },
   {
    "duration": 11,
    "start_time": "2024-11-15T13:53:23.585Z"
   },
   {
    "duration": 10,
    "start_time": "2024-11-15T13:53:23.597Z"
   },
   {
    "duration": 9,
    "start_time": "2024-11-15T13:53:23.608Z"
   },
   {
    "duration": 204,
    "start_time": "2024-11-15T13:53:23.618Z"
   },
   {
    "duration": 191,
    "start_time": "2024-11-15T13:53:23.823Z"
   },
   {
    "duration": 5,
    "start_time": "2024-11-15T13:53:24.015Z"
   },
   {
    "duration": 50,
    "start_time": "2024-11-15T13:53:24.021Z"
   },
   {
    "duration": 547,
    "start_time": "2024-11-15T13:53:24.072Z"
   },
   {
    "duration": 4,
    "start_time": "2024-11-15T13:53:24.621Z"
   },
   {
    "duration": 211,
    "start_time": "2024-11-15T13:53:24.626Z"
   },
   {
    "duration": 8,
    "start_time": "2024-11-15T14:01:12.091Z"
   },
   {
    "duration": 74,
    "start_time": "2024-11-15T14:07:01.520Z"
   },
   {
    "duration": 18,
    "start_time": "2024-11-15T14:30:15.266Z"
   },
   {
    "duration": 798,
    "start_time": "2024-11-15T14:33:29.761Z"
   },
   {
    "duration": 697,
    "start_time": "2024-11-15T14:34:25.698Z"
   },
   {
    "duration": 662,
    "start_time": "2024-11-15T14:35:53.460Z"
   },
   {
    "duration": 671,
    "start_time": "2024-11-15T14:36:24.514Z"
   },
   {
    "duration": 1026,
    "start_time": "2024-11-15T14:37:11.418Z"
   },
   {
    "duration": 119,
    "start_time": "2024-11-15T14:37:12.448Z"
   },
   {
    "duration": 11,
    "start_time": "2024-11-15T14:37:12.568Z"
   },
   {
    "duration": 20,
    "start_time": "2024-11-15T14:37:12.580Z"
   },
   {
    "duration": 13,
    "start_time": "2024-11-15T14:37:12.601Z"
   },
   {
    "duration": 12,
    "start_time": "2024-11-15T14:37:12.616Z"
   },
   {
    "duration": 11,
    "start_time": "2024-11-15T14:37:12.629Z"
   },
   {
    "duration": 15,
    "start_time": "2024-11-15T14:37:12.641Z"
   },
   {
    "duration": 19,
    "start_time": "2024-11-15T14:37:12.657Z"
   },
   {
    "duration": 9,
    "start_time": "2024-11-15T14:37:12.677Z"
   },
   {
    "duration": 23,
    "start_time": "2024-11-15T14:37:12.687Z"
   },
   {
    "duration": 44,
    "start_time": "2024-11-15T14:37:12.711Z"
   },
   {
    "duration": 23,
    "start_time": "2024-11-15T14:37:12.756Z"
   },
   {
    "duration": 8,
    "start_time": "2024-11-15T14:37:12.781Z"
   },
   {
    "duration": 148,
    "start_time": "2024-11-15T14:37:12.790Z"
   },
   {
    "duration": 154,
    "start_time": "2024-11-15T14:37:12.939Z"
   },
   {
    "duration": 4,
    "start_time": "2024-11-15T14:37:13.094Z"
   },
   {
    "duration": 50,
    "start_time": "2024-11-15T14:37:13.099Z"
   },
   {
    "duration": 125,
    "start_time": "2024-11-15T14:37:13.151Z"
   },
   {
    "duration": 3,
    "start_time": "2024-11-15T14:37:13.278Z"
   },
   {
    "duration": 511,
    "start_time": "2024-11-15T14:37:13.282Z"
   },
   {
    "duration": 59,
    "start_time": "2024-11-15T14:37:13.795Z"
   },
   {
    "duration": 405,
    "start_time": "2024-11-15T14:37:13.855Z"
   },
   {
    "duration": 8,
    "start_time": "2024-11-15T14:37:14.261Z"
   },
   {
    "duration": 324,
    "start_time": "2024-11-15T14:37:14.270Z"
   },
   {
    "duration": 21,
    "start_time": "2024-11-15T14:37:14.596Z"
   },
   {
    "duration": 12,
    "start_time": "2024-11-15T14:37:14.618Z"
   },
   {
    "duration": 23,
    "start_time": "2024-11-15T14:37:14.631Z"
   },
   {
    "duration": 12,
    "start_time": "2024-11-15T14:37:14.655Z"
   },
   {
    "duration": 22,
    "start_time": "2024-11-15T14:37:14.668Z"
   },
   {
    "duration": 87,
    "start_time": "2024-11-15T14:37:14.692Z"
   },
   {
    "duration": 0,
    "start_time": "2024-11-15T14:37:14.781Z"
   },
   {
    "duration": 0,
    "start_time": "2024-11-15T14:37:14.782Z"
   },
   {
    "duration": 0,
    "start_time": "2024-11-15T14:37:14.783Z"
   },
   {
    "duration": 0,
    "start_time": "2024-11-15T14:37:14.784Z"
   },
   {
    "duration": 0,
    "start_time": "2024-11-15T14:37:14.785Z"
   },
   {
    "duration": 0,
    "start_time": "2024-11-15T14:37:14.786Z"
   },
   {
    "duration": 0,
    "start_time": "2024-11-15T14:37:14.787Z"
   },
   {
    "duration": 0,
    "start_time": "2024-11-15T14:37:14.788Z"
   },
   {
    "duration": 0,
    "start_time": "2024-11-15T14:37:14.788Z"
   },
   {
    "duration": 0,
    "start_time": "2024-11-15T14:37:14.789Z"
   },
   {
    "duration": 0,
    "start_time": "2024-11-15T14:37:14.790Z"
   },
   {
    "duration": 0,
    "start_time": "2024-11-15T14:37:14.791Z"
   },
   {
    "duration": 0,
    "start_time": "2024-11-15T14:37:14.792Z"
   },
   {
    "duration": 0,
    "start_time": "2024-11-15T14:37:14.793Z"
   },
   {
    "duration": 0,
    "start_time": "2024-11-15T14:37:14.793Z"
   },
   {
    "duration": 0,
    "start_time": "2024-11-15T14:37:14.794Z"
   },
   {
    "duration": 0,
    "start_time": "2024-11-15T14:37:14.795Z"
   },
   {
    "duration": 0,
    "start_time": "2024-11-15T14:37:14.796Z"
   },
   {
    "duration": 0,
    "start_time": "2024-11-15T14:37:14.797Z"
   },
   {
    "duration": 0,
    "start_time": "2024-11-15T14:37:14.798Z"
   },
   {
    "duration": 0,
    "start_time": "2024-11-15T14:37:14.799Z"
   },
   {
    "duration": 9,
    "start_time": "2024-11-15T14:37:40.179Z"
   },
   {
    "duration": 942,
    "start_time": "2024-11-15T14:37:52.994Z"
   },
   {
    "duration": 131,
    "start_time": "2024-11-15T14:37:53.937Z"
   },
   {
    "duration": 10,
    "start_time": "2024-11-15T14:37:54.069Z"
   },
   {
    "duration": 10,
    "start_time": "2024-11-15T14:37:54.081Z"
   },
   {
    "duration": 7,
    "start_time": "2024-11-15T14:37:54.093Z"
   },
   {
    "duration": 15,
    "start_time": "2024-11-15T14:37:54.101Z"
   },
   {
    "duration": 9,
    "start_time": "2024-11-15T14:37:54.117Z"
   },
   {
    "duration": 8,
    "start_time": "2024-11-15T14:37:54.127Z"
   },
   {
    "duration": 4,
    "start_time": "2024-11-15T14:37:54.136Z"
   },
   {
    "duration": 11,
    "start_time": "2024-11-15T14:37:54.141Z"
   },
   {
    "duration": 11,
    "start_time": "2024-11-15T14:37:54.153Z"
   },
   {
    "duration": 6,
    "start_time": "2024-11-15T14:37:54.165Z"
   },
   {
    "duration": 5,
    "start_time": "2024-11-15T14:37:54.173Z"
   },
   {
    "duration": 8,
    "start_time": "2024-11-15T14:37:54.180Z"
   },
   {
    "duration": 162,
    "start_time": "2024-11-15T14:37:54.189Z"
   },
   {
    "duration": 114,
    "start_time": "2024-11-15T14:37:54.352Z"
   },
   {
    "duration": 4,
    "start_time": "2024-11-15T14:37:54.467Z"
   },
   {
    "duration": 4,
    "start_time": "2024-11-15T14:37:54.472Z"
   },
   {
    "duration": 88,
    "start_time": "2024-11-15T14:37:54.477Z"
   },
   {
    "duration": 4,
    "start_time": "2024-11-15T14:37:54.566Z"
   },
   {
    "duration": 246,
    "start_time": "2024-11-15T14:37:54.571Z"
   },
   {
    "duration": 8,
    "start_time": "2024-11-15T14:37:54.818Z"
   },
   {
    "duration": 186,
    "start_time": "2024-11-15T14:37:54.827Z"
   },
   {
    "duration": 8,
    "start_time": "2024-11-15T14:37:55.014Z"
   },
   {
    "duration": 214,
    "start_time": "2024-11-15T14:37:55.023Z"
   },
   {
    "duration": 22,
    "start_time": "2024-11-15T14:37:55.238Z"
   },
   {
    "duration": 25,
    "start_time": "2024-11-15T14:37:55.262Z"
   },
   {
    "duration": 39,
    "start_time": "2024-11-15T14:37:55.288Z"
   },
   {
    "duration": 7,
    "start_time": "2024-11-15T14:37:55.328Z"
   },
   {
    "duration": 30,
    "start_time": "2024-11-15T14:37:55.336Z"
   },
   {
    "duration": 381,
    "start_time": "2024-11-15T14:37:55.367Z"
   },
   {
    "duration": 447,
    "start_time": "2024-11-15T14:37:55.749Z"
   },
   {
    "duration": 6,
    "start_time": "2024-11-15T14:37:56.197Z"
   },
   {
    "duration": 32,
    "start_time": "2024-11-15T14:37:56.204Z"
   },
   {
    "duration": 17,
    "start_time": "2024-11-15T14:37:56.237Z"
   },
   {
    "duration": 97,
    "start_time": "2024-11-15T14:37:56.255Z"
   },
   {
    "duration": 3,
    "start_time": "2024-11-15T14:37:56.353Z"
   },
   {
    "duration": 310,
    "start_time": "2024-11-15T14:37:56.357Z"
   },
   {
    "duration": 6,
    "start_time": "2024-11-15T14:37:56.669Z"
   },
   {
    "duration": 16,
    "start_time": "2024-11-15T14:37:56.677Z"
   },
   {
    "duration": 12,
    "start_time": "2024-11-15T14:37:56.697Z"
   },
   {
    "duration": 12,
    "start_time": "2024-11-15T14:37:56.711Z"
   },
   {
    "duration": 47,
    "start_time": "2024-11-15T14:37:56.724Z"
   },
   {
    "duration": 10,
    "start_time": "2024-11-15T14:37:56.772Z"
   },
   {
    "duration": 171,
    "start_time": "2024-11-15T14:37:56.783Z"
   },
   {
    "duration": 173,
    "start_time": "2024-11-15T14:37:56.955Z"
   },
   {
    "duration": 5,
    "start_time": "2024-11-15T14:37:57.129Z"
   },
   {
    "duration": 5,
    "start_time": "2024-11-15T14:37:57.147Z"
   },
   {
    "duration": 645,
    "start_time": "2024-11-15T14:37:57.153Z"
   },
   {
    "duration": 4,
    "start_time": "2024-11-15T14:37:57.800Z"
   },
   {
    "duration": 140,
    "start_time": "2024-11-15T14:37:57.805Z"
   },
   {
    "duration": 765,
    "start_time": "2024-11-15T14:40:42.111Z"
   },
   {
    "duration": 961,
    "start_time": "2024-11-15T14:40:52.084Z"
   },
   {
    "duration": 124,
    "start_time": "2024-11-15T14:40:53.047Z"
   },
   {
    "duration": 10,
    "start_time": "2024-11-15T14:40:53.173Z"
   },
   {
    "duration": 15,
    "start_time": "2024-11-15T14:40:53.185Z"
   },
   {
    "duration": 10,
    "start_time": "2024-11-15T14:40:53.202Z"
   },
   {
    "duration": 19,
    "start_time": "2024-11-15T14:40:53.213Z"
   },
   {
    "duration": 41,
    "start_time": "2024-11-15T14:40:53.234Z"
   },
   {
    "duration": 18,
    "start_time": "2024-11-15T14:40:53.276Z"
   },
   {
    "duration": 14,
    "start_time": "2024-11-15T14:40:53.296Z"
   },
   {
    "duration": 18,
    "start_time": "2024-11-15T14:40:53.312Z"
   },
   {
    "duration": 42,
    "start_time": "2024-11-15T14:40:53.332Z"
   },
   {
    "duration": 5,
    "start_time": "2024-11-15T14:40:53.375Z"
   },
   {
    "duration": 25,
    "start_time": "2024-11-15T14:40:53.381Z"
   },
   {
    "duration": 9,
    "start_time": "2024-11-15T14:40:53.409Z"
   },
   {
    "duration": 161,
    "start_time": "2024-11-15T14:40:53.419Z"
   },
   {
    "duration": 121,
    "start_time": "2024-11-15T14:40:53.581Z"
   },
   {
    "duration": 4,
    "start_time": "2024-11-15T14:40:53.703Z"
   },
   {
    "duration": 20,
    "start_time": "2024-11-15T14:40:53.708Z"
   },
   {
    "duration": 82,
    "start_time": "2024-11-15T14:40:53.729Z"
   },
   {
    "duration": 4,
    "start_time": "2024-11-15T14:40:53.812Z"
   },
   {
    "duration": 532,
    "start_time": "2024-11-15T14:40:53.817Z"
   },
   {
    "duration": 7,
    "start_time": "2024-11-15T14:40:54.351Z"
   },
   {
    "duration": 389,
    "start_time": "2024-11-15T14:40:54.359Z"
   },
   {
    "duration": 8,
    "start_time": "2024-11-15T14:40:54.749Z"
   },
   {
    "duration": 339,
    "start_time": "2024-11-15T14:40:54.758Z"
   },
   {
    "duration": 66,
    "start_time": "2024-11-15T14:40:55.098Z"
   },
   {
    "duration": 8,
    "start_time": "2024-11-15T14:40:55.166Z"
   },
   {
    "duration": 19,
    "start_time": "2024-11-15T14:40:55.176Z"
   },
   {
    "duration": 24,
    "start_time": "2024-11-15T14:40:55.196Z"
   },
   {
    "duration": 34,
    "start_time": "2024-11-15T14:40:55.221Z"
   },
   {
    "duration": 394,
    "start_time": "2024-11-15T14:40:55.256Z"
   },
   {
    "duration": 463,
    "start_time": "2024-11-15T14:40:55.652Z"
   },
   {
    "duration": 423,
    "start_time": "2024-11-15T14:40:56.117Z"
   },
   {
    "duration": 9,
    "start_time": "2024-11-15T14:40:56.542Z"
   },
   {
    "duration": 35,
    "start_time": "2024-11-15T14:40:56.552Z"
   },
   {
    "duration": 7,
    "start_time": "2024-11-15T14:40:56.589Z"
   },
   {
    "duration": 25,
    "start_time": "2024-11-15T14:40:56.597Z"
   },
   {
    "duration": 4,
    "start_time": "2024-11-15T14:40:56.623Z"
   },
   {
    "duration": 321,
    "start_time": "2024-11-15T14:40:56.628Z"
   },
   {
    "duration": 5,
    "start_time": "2024-11-15T14:40:56.951Z"
   },
   {
    "duration": 22,
    "start_time": "2024-11-15T14:40:56.960Z"
   },
   {
    "duration": 17,
    "start_time": "2024-11-15T14:40:56.984Z"
   },
   {
    "duration": 13,
    "start_time": "2024-11-15T14:40:57.002Z"
   },
   {
    "duration": 11,
    "start_time": "2024-11-15T14:40:57.016Z"
   },
   {
    "duration": 22,
    "start_time": "2024-11-15T14:40:57.028Z"
   },
   {
    "duration": 180,
    "start_time": "2024-11-15T14:40:57.051Z"
   },
   {
    "duration": 175,
    "start_time": "2024-11-15T14:40:57.233Z"
   },
   {
    "duration": 4,
    "start_time": "2024-11-15T14:40:57.410Z"
   },
   {
    "duration": 23,
    "start_time": "2024-11-15T14:40:57.415Z"
   },
   {
    "duration": 614,
    "start_time": "2024-11-15T14:40:57.439Z"
   },
   {
    "duration": 5,
    "start_time": "2024-11-15T14:40:58.054Z"
   },
   {
    "duration": 137,
    "start_time": "2024-11-15T14:40:58.060Z"
   },
   {
    "duration": 804,
    "start_time": "2024-11-15T14:42:52.918Z"
   },
   {
    "duration": 972,
    "start_time": "2024-11-15T14:43:00.270Z"
   },
   {
    "duration": 121,
    "start_time": "2024-11-15T14:43:01.243Z"
   },
   {
    "duration": 12,
    "start_time": "2024-11-15T14:43:01.365Z"
   },
   {
    "duration": 21,
    "start_time": "2024-11-15T14:43:01.378Z"
   },
   {
    "duration": 33,
    "start_time": "2024-11-15T14:43:01.401Z"
   },
   {
    "duration": 13,
    "start_time": "2024-11-15T14:43:01.436Z"
   },
   {
    "duration": 14,
    "start_time": "2024-11-15T14:43:01.450Z"
   },
   {
    "duration": 26,
    "start_time": "2024-11-15T14:43:01.465Z"
   },
   {
    "duration": 4,
    "start_time": "2024-11-15T14:43:01.492Z"
   },
   {
    "duration": 43,
    "start_time": "2024-11-15T14:43:01.497Z"
   },
   {
    "duration": 24,
    "start_time": "2024-11-15T14:43:01.541Z"
   },
   {
    "duration": 14,
    "start_time": "2024-11-15T14:43:01.567Z"
   },
   {
    "duration": 33,
    "start_time": "2024-11-15T14:43:01.583Z"
   },
   {
    "duration": 26,
    "start_time": "2024-11-15T14:43:01.618Z"
   },
   {
    "duration": 149,
    "start_time": "2024-11-15T14:43:01.646Z"
   },
   {
    "duration": 119,
    "start_time": "2024-11-15T14:43:01.796Z"
   },
   {
    "duration": 6,
    "start_time": "2024-11-15T14:43:01.948Z"
   },
   {
    "duration": 28,
    "start_time": "2024-11-15T14:43:01.956Z"
   },
   {
    "duration": 171,
    "start_time": "2024-11-15T14:43:01.986Z"
   },
   {
    "duration": 3,
    "start_time": "2024-11-15T14:43:02.158Z"
   },
   {
    "duration": 524,
    "start_time": "2024-11-15T14:43:02.162Z"
   },
   {
    "duration": 7,
    "start_time": "2024-11-15T14:43:02.688Z"
   },
   {
    "duration": 335,
    "start_time": "2024-11-15T14:43:02.748Z"
   },
   {
    "duration": 63,
    "start_time": "2024-11-15T14:43:03.085Z"
   },
   {
    "duration": 205,
    "start_time": "2024-11-15T14:43:03.150Z"
   },
   {
    "duration": 23,
    "start_time": "2024-11-15T14:43:03.356Z"
   },
   {
    "duration": 8,
    "start_time": "2024-11-15T14:43:03.380Z"
   },
   {
    "duration": 21,
    "start_time": "2024-11-15T14:43:03.390Z"
   },
   {
    "duration": 24,
    "start_time": "2024-11-15T14:43:03.412Z"
   },
   {
    "duration": 27,
    "start_time": "2024-11-15T14:43:03.437Z"
   },
   {
    "duration": 400,
    "start_time": "2024-11-15T14:43:03.465Z"
   },
   {
    "duration": 473,
    "start_time": "2024-11-15T14:43:03.866Z"
   },
   {
    "duration": 463,
    "start_time": "2024-11-15T14:43:04.341Z"
   },
   {
    "duration": 6,
    "start_time": "2024-11-15T14:43:04.806Z"
   },
   {
    "duration": 45,
    "start_time": "2024-11-15T14:43:04.813Z"
   },
   {
    "duration": 12,
    "start_time": "2024-11-15T14:43:04.859Z"
   },
   {
    "duration": 20,
    "start_time": "2024-11-15T14:43:04.873Z"
   },
   {
    "duration": 19,
    "start_time": "2024-11-15T14:43:04.895Z"
   },
   {
    "duration": 309,
    "start_time": "2024-11-15T14:43:04.916Z"
   },
   {
    "duration": 20,
    "start_time": "2024-11-15T14:43:05.227Z"
   },
   {
    "duration": 5,
    "start_time": "2024-11-15T14:43:05.251Z"
   },
   {
    "duration": 34,
    "start_time": "2024-11-15T14:43:05.257Z"
   },
   {
    "duration": 12,
    "start_time": "2024-11-15T14:43:05.292Z"
   },
   {
    "duration": 21,
    "start_time": "2024-11-15T14:43:05.306Z"
   },
   {
    "duration": 49,
    "start_time": "2024-11-15T14:43:05.329Z"
   },
   {
    "duration": 224,
    "start_time": "2024-11-15T14:43:05.380Z"
   },
   {
    "duration": 180,
    "start_time": "2024-11-15T14:43:05.606Z"
   },
   {
    "duration": 5,
    "start_time": "2024-11-15T14:43:05.788Z"
   },
   {
    "duration": 32,
    "start_time": "2024-11-15T14:43:05.794Z"
   },
   {
    "duration": 685,
    "start_time": "2024-11-15T14:43:05.827Z"
   },
   {
    "duration": 5,
    "start_time": "2024-11-15T14:43:06.513Z"
   },
   {
    "duration": 137,
    "start_time": "2024-11-15T14:43:06.520Z"
   },
   {
    "duration": 16,
    "start_time": "2024-11-15T14:57:52.124Z"
   },
   {
    "duration": 18,
    "start_time": "2024-11-15T15:15:12.069Z"
   },
   {
    "duration": 77,
    "start_time": "2024-11-15T19:57:37.805Z"
   },
   {
    "duration": 7,
    "start_time": "2024-11-15T20:05:36.292Z"
   },
   {
    "duration": 10,
    "start_time": "2024-11-15T20:06:23.664Z"
   },
   {
    "duration": 7,
    "start_time": "2024-11-15T20:06:26.551Z"
   },
   {
    "duration": 1572,
    "start_time": "2024-11-15T20:06:30.529Z"
   },
   {
    "duration": 432,
    "start_time": "2024-11-15T20:06:32.115Z"
   },
   {
    "duration": 18,
    "start_time": "2024-11-15T20:06:32.549Z"
   },
   {
    "duration": 18,
    "start_time": "2024-11-15T20:06:32.569Z"
   },
   {
    "duration": 35,
    "start_time": "2024-11-15T20:06:32.589Z"
   },
   {
    "duration": 16,
    "start_time": "2024-11-15T20:06:32.626Z"
   },
   {
    "duration": 9,
    "start_time": "2024-11-15T20:06:32.644Z"
   },
   {
    "duration": 20,
    "start_time": "2024-11-15T20:06:32.655Z"
   },
   {
    "duration": 6,
    "start_time": "2024-11-15T20:06:32.678Z"
   },
   {
    "duration": 48,
    "start_time": "2024-11-15T20:06:32.688Z"
   },
   {
    "duration": 15,
    "start_time": "2024-11-15T20:06:32.738Z"
   },
   {
    "duration": 7,
    "start_time": "2024-11-15T20:06:32.755Z"
   },
   {
    "duration": 60,
    "start_time": "2024-11-15T20:06:32.764Z"
   },
   {
    "duration": 58,
    "start_time": "2024-11-15T20:06:32.826Z"
   },
   {
    "duration": 25,
    "start_time": "2024-11-15T20:06:32.886Z"
   },
   {
    "duration": 253,
    "start_time": "2024-11-15T20:06:32.927Z"
   },
   {
    "duration": 174,
    "start_time": "2024-11-15T20:06:33.182Z"
   },
   {
    "duration": 5,
    "start_time": "2024-11-15T20:06:33.358Z"
   },
   {
    "duration": 9,
    "start_time": "2024-11-15T20:06:33.365Z"
   },
   {
    "duration": 117,
    "start_time": "2024-11-15T20:06:33.376Z"
   },
   {
    "duration": 5,
    "start_time": "2024-11-15T20:06:33.498Z"
   },
   {
    "duration": 342,
    "start_time": "2024-11-15T20:06:33.506Z"
   },
   {
    "duration": 12,
    "start_time": "2024-11-15T20:06:33.851Z"
   },
   {
    "duration": 296,
    "start_time": "2024-11-15T20:06:33.865Z"
   },
   {
    "duration": 10,
    "start_time": "2024-11-15T20:06:34.163Z"
   },
   {
    "duration": 242,
    "start_time": "2024-11-15T20:06:34.175Z"
   },
   {
    "duration": 40,
    "start_time": "2024-11-15T20:06:34.421Z"
   },
   {
    "duration": 13,
    "start_time": "2024-11-15T20:06:34.466Z"
   },
   {
    "duration": 36,
    "start_time": "2024-11-15T20:06:34.481Z"
   },
   {
    "duration": 15,
    "start_time": "2024-11-15T20:06:34.519Z"
   },
   {
    "duration": 18,
    "start_time": "2024-11-15T20:06:34.536Z"
   },
   {
    "duration": 594,
    "start_time": "2024-11-15T20:06:34.556Z"
   },
   {
    "duration": 637,
    "start_time": "2024-11-15T20:06:35.153Z"
   },
   {
    "duration": 585,
    "start_time": "2024-11-15T20:06:35.799Z"
   },
   {
    "duration": 10,
    "start_time": "2024-11-15T20:06:36.386Z"
   },
   {
    "duration": 70,
    "start_time": "2024-11-15T20:06:36.397Z"
   },
   {
    "duration": 10,
    "start_time": "2024-11-15T20:06:36.469Z"
   },
   {
    "duration": 63,
    "start_time": "2024-11-15T20:06:36.481Z"
   },
   {
    "duration": 4,
    "start_time": "2024-11-15T20:06:36.546Z"
   },
   {
    "duration": 487,
    "start_time": "2024-11-15T20:06:36.551Z"
   },
   {
    "duration": 9,
    "start_time": "2024-11-15T20:06:37.040Z"
   },
   {
    "duration": 13,
    "start_time": "2024-11-15T20:06:37.051Z"
   },
   {
    "duration": 22,
    "start_time": "2024-11-15T20:06:37.066Z"
   },
   {
    "duration": 31,
    "start_time": "2024-11-15T20:06:37.089Z"
   },
   {
    "duration": 23,
    "start_time": "2024-11-15T20:06:37.125Z"
   },
   {
    "duration": 15,
    "start_time": "2024-11-15T20:06:37.150Z"
   },
   {
    "duration": 308,
    "start_time": "2024-11-15T20:06:37.167Z"
   },
   {
    "duration": 274,
    "start_time": "2024-11-15T20:06:37.478Z"
   },
   {
    "duration": 6,
    "start_time": "2024-11-15T20:06:37.754Z"
   },
   {
    "duration": 7,
    "start_time": "2024-11-15T20:06:37.761Z"
   },
   {
    "duration": 976,
    "start_time": "2024-11-15T20:06:37.770Z"
   },
   {
    "duration": 7,
    "start_time": "2024-11-15T20:06:38.748Z"
   },
   {
    "duration": 198,
    "start_time": "2024-11-15T20:06:38.757Z"
   },
   {
    "duration": 13,
    "start_time": "2024-11-15T20:09:13.215Z"
   },
   {
    "duration": 8,
    "start_time": "2024-11-15T20:09:14.540Z"
   },
   {
    "duration": 9,
    "start_time": "2024-11-15T20:09:16.469Z"
   },
   {
    "duration": 167,
    "start_time": "2024-11-15T20:12:13.205Z"
   },
   {
    "duration": 185,
    "start_time": "2024-11-15T20:12:28.479Z"
   },
   {
    "duration": 14,
    "start_time": "2024-11-15T20:12:38.127Z"
   },
   {
    "duration": 14,
    "start_time": "2024-11-15T20:13:34.782Z"
   },
   {
    "duration": 312,
    "start_time": "2024-11-15T20:13:45.626Z"
   },
   {
    "duration": 104,
    "start_time": "2024-11-15T20:14:04.369Z"
   },
   {
    "duration": 173,
    "start_time": "2024-11-15T20:15:19.367Z"
   },
   {
    "duration": 177,
    "start_time": "2024-11-15T20:17:02.998Z"
   },
   {
    "duration": 7,
    "start_time": "2024-11-15T20:19:25.384Z"
   },
   {
    "duration": 14,
    "start_time": "2024-11-15T20:20:46.419Z"
   },
   {
    "duration": 163,
    "start_time": "2024-11-15T20:22:09.990Z"
   },
   {
    "duration": 151,
    "start_time": "2024-11-15T20:24:24.421Z"
   },
   {
    "duration": 302,
    "start_time": "2024-11-15T20:24:34.122Z"
   },
   {
    "duration": 142,
    "start_time": "2024-11-15T20:24:41.106Z"
   },
   {
    "duration": 205,
    "start_time": "2024-11-15T20:24:47.435Z"
   },
   {
    "duration": 14,
    "start_time": "2024-11-15T20:25:07.246Z"
   },
   {
    "duration": 186,
    "start_time": "2024-11-15T20:25:10.945Z"
   },
   {
    "duration": 607,
    "start_time": "2024-11-15T20:25:19.339Z"
   },
   {
    "duration": 220,
    "start_time": "2024-11-15T20:25:22.981Z"
   },
   {
    "duration": 230,
    "start_time": "2024-11-15T20:25:28.495Z"
   },
   {
    "duration": 340,
    "start_time": "2024-11-15T20:25:31.173Z"
   },
   {
    "duration": 192,
    "start_time": "2024-11-15T20:25:33.567Z"
   },
   {
    "duration": 187,
    "start_time": "2024-11-15T20:25:35.183Z"
   },
   {
    "duration": 53,
    "start_time": "2024-11-15T20:26:50.390Z"
   },
   {
    "duration": 235,
    "start_time": "2024-11-15T20:26:55.496Z"
   },
   {
    "duration": 48,
    "start_time": "2024-11-15T20:27:41.730Z"
   },
   {
    "duration": 13,
    "start_time": "2024-11-15T20:38:02.944Z"
   },
   {
    "duration": 15,
    "start_time": "2024-11-15T20:38:30.950Z"
   },
   {
    "duration": 45,
    "start_time": "2024-11-15T20:41:19.443Z"
   },
   {
    "duration": 877,
    "start_time": "2024-11-15T20:41:27.235Z"
   },
   {
    "duration": 847,
    "start_time": "2024-11-15T20:41:54.872Z"
   },
   {
    "duration": 824,
    "start_time": "2024-11-15T21:00:50.965Z"
   },
   {
    "duration": 1244,
    "start_time": "2024-11-15T21:01:10.117Z"
   },
   {
    "duration": 80,
    "start_time": "2024-11-15T21:01:11.363Z"
   },
   {
    "duration": 14,
    "start_time": "2024-11-15T21:01:11.445Z"
   },
   {
    "duration": 12,
    "start_time": "2024-11-15T21:01:11.462Z"
   },
   {
    "duration": 16,
    "start_time": "2024-11-15T21:01:11.476Z"
   },
   {
    "duration": 26,
    "start_time": "2024-11-15T21:01:11.494Z"
   },
   {
    "duration": 11,
    "start_time": "2024-11-15T21:01:11.522Z"
   },
   {
    "duration": 21,
    "start_time": "2024-11-15T21:01:11.535Z"
   },
   {
    "duration": 5,
    "start_time": "2024-11-15T21:01:11.558Z"
   },
   {
    "duration": 9,
    "start_time": "2024-11-15T21:01:11.566Z"
   },
   {
    "duration": 15,
    "start_time": "2024-11-15T21:01:11.576Z"
   },
   {
    "duration": 9,
    "start_time": "2024-11-15T21:01:11.593Z"
   },
   {
    "duration": 8,
    "start_time": "2024-11-15T21:01:11.604Z"
   },
   {
    "duration": 25,
    "start_time": "2024-11-15T21:01:11.614Z"
   },
   {
    "duration": 7,
    "start_time": "2024-11-15T21:01:11.642Z"
   },
   {
    "duration": 9,
    "start_time": "2024-11-15T21:01:11.651Z"
   },
   {
    "duration": 17,
    "start_time": "2024-11-15T21:01:11.662Z"
   },
   {
    "duration": 188,
    "start_time": "2024-11-15T21:01:11.682Z"
   },
   {
    "duration": 182,
    "start_time": "2024-11-15T21:01:11.872Z"
   },
   {
    "duration": 8,
    "start_time": "2024-11-15T21:01:12.055Z"
   },
   {
    "duration": 163,
    "start_time": "2024-11-15T21:01:12.065Z"
   },
   {
    "duration": 5,
    "start_time": "2024-11-15T21:01:12.231Z"
   },
   {
    "duration": 22,
    "start_time": "2024-11-15T21:01:12.238Z"
   },
   {
    "duration": 100,
    "start_time": "2024-11-15T21:01:12.262Z"
   },
   {
    "duration": 6,
    "start_time": "2024-11-15T21:01:12.364Z"
   },
   {
    "duration": 49,
    "start_time": "2024-11-15T21:01:12.371Z"
   },
   {
    "duration": 332,
    "start_time": "2024-11-15T21:01:12.422Z"
   },
   {
    "duration": 215,
    "start_time": "2024-11-15T21:01:12.758Z"
   },
   {
    "duration": 9,
    "start_time": "2024-11-15T21:01:12.975Z"
   },
   {
    "duration": 240,
    "start_time": "2024-11-15T21:01:12.985Z"
   },
   {
    "duration": 8,
    "start_time": "2024-11-15T21:01:13.227Z"
   },
   {
    "duration": 254,
    "start_time": "2024-11-15T21:01:13.237Z"
   },
   {
    "duration": 37,
    "start_time": "2024-11-15T21:01:13.492Z"
   },
   {
    "duration": 106,
    "start_time": "2024-11-15T21:01:13.531Z"
   },
   {
    "duration": 13,
    "start_time": "2024-11-15T21:01:13.639Z"
   },
   {
    "duration": 10,
    "start_time": "2024-11-15T21:01:13.654Z"
   },
   {
    "duration": 34,
    "start_time": "2024-11-15T21:01:13.666Z"
   },
   {
    "duration": 472,
    "start_time": "2024-11-15T21:01:13.702Z"
   },
   {
    "duration": 465,
    "start_time": "2024-11-15T21:01:14.175Z"
   },
   {
    "duration": 486,
    "start_time": "2024-11-15T21:01:14.642Z"
   },
   {
    "duration": 7,
    "start_time": "2024-11-15T21:01:15.130Z"
   },
   {
    "duration": 133,
    "start_time": "2024-11-15T21:01:15.138Z"
   },
   {
    "duration": 56,
    "start_time": "2024-11-15T21:01:15.273Z"
   },
   {
    "duration": 4,
    "start_time": "2024-11-15T21:01:15.331Z"
   },
   {
    "duration": 43,
    "start_time": "2024-11-15T21:01:15.336Z"
   },
   {
    "duration": 12,
    "start_time": "2024-11-15T21:01:15.381Z"
   },
   {
    "duration": 38,
    "start_time": "2024-11-15T21:01:15.398Z"
   },
   {
    "duration": 3,
    "start_time": "2024-11-15T21:01:15.438Z"
   },
   {
    "duration": 417,
    "start_time": "2024-11-15T21:01:15.443Z"
   },
   {
    "duration": 6,
    "start_time": "2024-11-15T21:01:15.861Z"
   },
   {
    "duration": 83,
    "start_time": "2024-11-15T21:01:15.868Z"
   },
   {
    "duration": 26,
    "start_time": "2024-11-15T21:01:15.953Z"
   },
   {
    "duration": 57,
    "start_time": "2024-11-15T21:01:15.981Z"
   },
   {
    "duration": 18,
    "start_time": "2024-11-15T21:01:16.040Z"
   },
   {
    "duration": 13,
    "start_time": "2024-11-15T21:01:16.059Z"
   },
   {
    "duration": 26,
    "start_time": "2024-11-15T21:01:16.073Z"
   },
   {
    "duration": 232,
    "start_time": "2024-11-15T21:01:16.101Z"
   },
   {
    "duration": 321,
    "start_time": "2024-11-15T21:01:16.336Z"
   },
   {
    "duration": 5,
    "start_time": "2024-11-15T21:01:16.659Z"
   },
   {
    "duration": 15,
    "start_time": "2024-11-15T21:01:16.666Z"
   },
   {
    "duration": 676,
    "start_time": "2024-11-15T21:01:16.683Z"
   },
   {
    "duration": 5,
    "start_time": "2024-11-15T21:01:17.361Z"
   },
   {
    "duration": 174,
    "start_time": "2024-11-15T21:01:17.368Z"
   },
   {
    "duration": 8,
    "start_time": "2024-11-15T21:01:48.505Z"
   },
   {
    "duration": 41,
    "start_time": "2024-11-15T21:01:54.503Z"
   },
   {
    "duration": 910,
    "start_time": "2024-11-15T21:03:29.772Z"
   },
   {
    "duration": 11,
    "start_time": "2024-11-15T21:04:02.761Z"
   },
   {
    "duration": 1214,
    "start_time": "2024-11-15T21:04:52.314Z"
   },
   {
    "duration": 74,
    "start_time": "2024-11-15T21:04:53.530Z"
   },
   {
    "duration": 13,
    "start_time": "2024-11-15T21:04:53.606Z"
   },
   {
    "duration": 17,
    "start_time": "2024-11-15T21:04:53.621Z"
   },
   {
    "duration": 41,
    "start_time": "2024-11-15T21:04:53.639Z"
   },
   {
    "duration": 35,
    "start_time": "2024-11-15T21:04:53.682Z"
   },
   {
    "duration": 10,
    "start_time": "2024-11-15T21:04:53.719Z"
   },
   {
    "duration": 24,
    "start_time": "2024-11-15T21:04:53.731Z"
   },
   {
    "duration": 33,
    "start_time": "2024-11-15T21:04:53.756Z"
   },
   {
    "duration": 22,
    "start_time": "2024-11-15T21:04:53.792Z"
   },
   {
    "duration": 29,
    "start_time": "2024-11-15T21:04:53.816Z"
   },
   {
    "duration": 5,
    "start_time": "2024-11-15T21:04:53.847Z"
   },
   {
    "duration": 21,
    "start_time": "2024-11-15T21:04:53.854Z"
   },
   {
    "duration": 16,
    "start_time": "2024-11-15T21:04:53.877Z"
   },
   {
    "duration": 15,
    "start_time": "2024-11-15T21:04:53.895Z"
   },
   {
    "duration": 22,
    "start_time": "2024-11-15T21:04:53.912Z"
   },
   {
    "duration": 13,
    "start_time": "2024-11-15T21:04:53.936Z"
   },
   {
    "duration": 141,
    "start_time": "2024-11-15T21:04:53.951Z"
   },
   {
    "duration": 9,
    "start_time": "2024-11-15T21:04:54.097Z"
   },
   {
    "duration": 202,
    "start_time": "2024-11-15T21:04:54.107Z"
   },
   {
    "duration": 6,
    "start_time": "2024-11-15T21:04:54.311Z"
   },
   {
    "duration": 164,
    "start_time": "2024-11-15T21:04:54.318Z"
   },
   {
    "duration": 5,
    "start_time": "2024-11-15T21:04:54.484Z"
   },
   {
    "duration": 19,
    "start_time": "2024-11-15T21:04:54.498Z"
   },
   {
    "duration": 133,
    "start_time": "2024-11-15T21:04:54.518Z"
   },
   {
    "duration": 5,
    "start_time": "2024-11-15T21:04:54.653Z"
   },
   {
    "duration": 11,
    "start_time": "2024-11-15T21:04:54.659Z"
   },
   {
    "duration": 311,
    "start_time": "2024-11-15T21:04:54.675Z"
   },
   {
    "duration": 216,
    "start_time": "2024-11-15T21:04:54.988Z"
   },
   {
    "duration": 11,
    "start_time": "2024-11-15T21:04:55.206Z"
   },
   {
    "duration": 274,
    "start_time": "2024-11-15T21:04:55.219Z"
   },
   {
    "duration": 9,
    "start_time": "2024-11-15T21:04:55.497Z"
   },
   {
    "duration": 208,
    "start_time": "2024-11-15T21:04:55.507Z"
   },
   {
    "duration": 26,
    "start_time": "2024-11-15T21:04:55.716Z"
   },
   {
    "duration": 99,
    "start_time": "2024-11-15T21:04:55.743Z"
   },
   {
    "duration": 12,
    "start_time": "2024-11-15T21:04:55.844Z"
   },
   {
    "duration": 15,
    "start_time": "2024-11-15T21:04:55.858Z"
   },
   {
    "duration": 34,
    "start_time": "2024-11-15T21:04:55.875Z"
   },
   {
    "duration": 453,
    "start_time": "2024-11-15T21:04:55.910Z"
   },
   {
    "duration": 457,
    "start_time": "2024-11-15T21:04:56.364Z"
   },
   {
    "duration": 466,
    "start_time": "2024-11-15T21:04:56.823Z"
   },
   {
    "duration": 12,
    "start_time": "2024-11-15T21:04:57.290Z"
   },
   {
    "duration": 50,
    "start_time": "2024-11-15T21:04:57.303Z"
   },
   {
    "duration": 32,
    "start_time": "2024-11-15T21:04:57.355Z"
   },
   {
    "duration": 10,
    "start_time": "2024-11-15T21:04:57.389Z"
   },
   {
    "duration": 41,
    "start_time": "2024-11-15T21:04:57.400Z"
   },
   {
    "duration": 27,
    "start_time": "2024-11-15T21:04:57.443Z"
   },
   {
    "duration": 3,
    "start_time": "2024-11-15T21:04:57.471Z"
   },
   {
    "duration": 369,
    "start_time": "2024-11-15T21:04:57.476Z"
   },
   {
    "duration": 6,
    "start_time": "2024-11-15T21:04:57.847Z"
   },
   {
    "duration": 6,
    "start_time": "2024-11-15T21:04:57.854Z"
   },
   {
    "duration": 7,
    "start_time": "2024-11-15T21:04:57.861Z"
   },
   {
    "duration": 40,
    "start_time": "2024-11-15T21:04:57.870Z"
   },
   {
    "duration": 14,
    "start_time": "2024-11-15T21:04:57.912Z"
   },
   {
    "duration": 21,
    "start_time": "2024-11-15T21:04:57.928Z"
   },
   {
    "duration": 24,
    "start_time": "2024-11-15T21:04:57.951Z"
   },
   {
    "duration": 219,
    "start_time": "2024-11-15T21:04:57.977Z"
   },
   {
    "duration": 327,
    "start_time": "2024-11-15T21:04:58.198Z"
   },
   {
    "duration": 14,
    "start_time": "2024-11-15T21:04:58.527Z"
   },
   {
    "duration": 10,
    "start_time": "2024-11-15T21:04:58.543Z"
   },
   {
    "duration": 689,
    "start_time": "2024-11-15T21:04:58.555Z"
   },
   {
    "duration": 7,
    "start_time": "2024-11-15T21:04:59.249Z"
   },
   {
    "duration": 165,
    "start_time": "2024-11-15T21:04:59.258Z"
   },
   {
    "duration": 8,
    "start_time": "2024-11-15T21:06:26.557Z"
   },
   {
    "duration": 3,
    "start_time": "2024-11-15T21:09:24.256Z"
   },
   {
    "duration": 3,
    "start_time": "2024-11-15T21:09:38.246Z"
   },
   {
    "duration": 3,
    "start_time": "2024-11-15T21:09:39.862Z"
   },
   {
    "duration": 1283,
    "start_time": "2024-11-15T21:10:40.491Z"
   },
   {
    "duration": 75,
    "start_time": "2024-11-15T21:10:41.776Z"
   },
   {
    "duration": 14,
    "start_time": "2024-11-15T21:10:41.853Z"
   },
   {
    "duration": 12,
    "start_time": "2024-11-15T21:10:41.869Z"
   },
   {
    "duration": 27,
    "start_time": "2024-11-15T21:10:41.882Z"
   },
   {
    "duration": 21,
    "start_time": "2024-11-15T21:10:41.912Z"
   },
   {
    "duration": 8,
    "start_time": "2024-11-15T21:10:41.934Z"
   },
   {
    "duration": 10,
    "start_time": "2024-11-15T21:10:41.944Z"
   },
   {
    "duration": 40,
    "start_time": "2024-11-15T21:10:41.955Z"
   },
   {
    "duration": 20,
    "start_time": "2024-11-15T21:10:41.999Z"
   },
   {
    "duration": 12,
    "start_time": "2024-11-15T21:10:42.021Z"
   },
   {
    "duration": 6,
    "start_time": "2024-11-15T21:10:42.035Z"
   },
   {
    "duration": 11,
    "start_time": "2024-11-15T21:10:42.043Z"
   },
   {
    "duration": 10,
    "start_time": "2024-11-15T21:10:42.056Z"
   },
   {
    "duration": 30,
    "start_time": "2024-11-15T21:10:42.068Z"
   },
   {
    "duration": 7,
    "start_time": "2024-11-15T21:10:42.101Z"
   },
   {
    "duration": 6,
    "start_time": "2024-11-15T21:10:42.110Z"
   },
   {
    "duration": 164,
    "start_time": "2024-11-15T21:10:42.118Z"
   },
   {
    "duration": 19,
    "start_time": "2024-11-15T21:10:42.284Z"
   },
   {
    "duration": 185,
    "start_time": "2024-11-15T21:10:42.305Z"
   },
   {
    "duration": 10,
    "start_time": "2024-11-15T21:10:42.492Z"
   },
   {
    "duration": 147,
    "start_time": "2024-11-15T21:10:42.506Z"
   },
   {
    "duration": 6,
    "start_time": "2024-11-15T21:10:42.655Z"
   },
   {
    "duration": 6,
    "start_time": "2024-11-15T21:10:42.662Z"
   },
   {
    "duration": 111,
    "start_time": "2024-11-15T21:10:42.669Z"
   },
   {
    "duration": 4,
    "start_time": "2024-11-15T21:10:42.781Z"
   },
   {
    "duration": 23,
    "start_time": "2024-11-15T21:10:42.787Z"
   },
   {
    "duration": 309,
    "start_time": "2024-11-15T21:10:42.820Z"
   },
   {
    "duration": 217,
    "start_time": "2024-11-15T21:10:43.130Z"
   },
   {
    "duration": 10,
    "start_time": "2024-11-15T21:10:43.349Z"
   },
   {
    "duration": 238,
    "start_time": "2024-11-15T21:10:43.361Z"
   },
   {
    "duration": 13,
    "start_time": "2024-11-15T21:10:43.601Z"
   },
   {
    "duration": 239,
    "start_time": "2024-11-15T21:10:43.616Z"
   },
   {
    "duration": 46,
    "start_time": "2024-11-15T21:10:43.857Z"
   },
   {
    "duration": 102,
    "start_time": "2024-11-15T21:10:43.905Z"
   },
   {
    "duration": 19,
    "start_time": "2024-11-15T21:10:44.010Z"
   },
   {
    "duration": 9,
    "start_time": "2024-11-15T21:10:44.031Z"
   },
   {
    "duration": 39,
    "start_time": "2024-11-15T21:10:44.042Z"
   },
   {
    "duration": 467,
    "start_time": "2024-11-15T21:10:44.084Z"
   },
   {
    "duration": 459,
    "start_time": "2024-11-15T21:10:44.553Z"
   },
   {
    "duration": 503,
    "start_time": "2024-11-15T21:10:45.014Z"
   },
   {
    "duration": 8,
    "start_time": "2024-11-15T21:10:45.519Z"
   },
   {
    "duration": 42,
    "start_time": "2024-11-15T21:10:45.529Z"
   },
   {
    "duration": 51,
    "start_time": "2024-11-15T21:10:45.573Z"
   },
   {
    "duration": 4,
    "start_time": "2024-11-15T21:10:45.626Z"
   },
   {
    "duration": 39,
    "start_time": "2024-11-15T21:10:45.632Z"
   },
   {
    "duration": 55,
    "start_time": "2024-11-15T21:10:45.673Z"
   },
   {
    "duration": 8,
    "start_time": "2024-11-15T21:10:45.730Z"
   },
   {
    "duration": 4,
    "start_time": "2024-11-15T21:10:45.740Z"
   },
   {
    "duration": 6,
    "start_time": "2024-11-15T21:10:45.745Z"
   },
   {
    "duration": 484,
    "start_time": "2024-11-15T21:10:45.752Z"
   },
   {
    "duration": 5,
    "start_time": "2024-11-15T21:10:46.237Z"
   },
   {
    "duration": 50,
    "start_time": "2024-11-15T21:10:46.244Z"
   },
   {
    "duration": 19,
    "start_time": "2024-11-15T21:10:46.298Z"
   },
   {
    "duration": 18,
    "start_time": "2024-11-15T21:10:46.319Z"
   },
   {
    "duration": 16,
    "start_time": "2024-11-15T21:10:46.338Z"
   },
   {
    "duration": 13,
    "start_time": "2024-11-15T21:10:46.355Z"
   },
   {
    "duration": 27,
    "start_time": "2024-11-15T21:10:46.370Z"
   },
   {
    "duration": 224,
    "start_time": "2024-11-15T21:10:46.399Z"
   },
   {
    "duration": 311,
    "start_time": "2024-11-15T21:10:46.625Z"
   },
   {
    "duration": 6,
    "start_time": "2024-11-15T21:10:46.938Z"
   },
   {
    "duration": 6,
    "start_time": "2024-11-15T21:10:46.946Z"
   },
   {
    "duration": 686,
    "start_time": "2024-11-15T21:10:46.954Z"
   },
   {
    "duration": 5,
    "start_time": "2024-11-15T21:10:47.642Z"
   },
   {
    "duration": 181,
    "start_time": "2024-11-15T21:10:47.649Z"
   },
   {
    "duration": 3,
    "start_time": "2024-11-15T21:15:47.307Z"
   },
   {
    "duration": 6,
    "start_time": "2024-11-15T21:18:22.956Z"
   },
   {
    "duration": 13,
    "start_time": "2024-11-15T21:18:31.896Z"
   },
   {
    "duration": 158,
    "start_time": "2024-11-15T21:27:19.710Z"
   },
   {
    "duration": 5,
    "start_time": "2024-11-15T21:27:22.668Z"
   },
   {
    "duration": 5,
    "start_time": "2024-11-15T21:27:38.144Z"
   },
   {
    "duration": 9,
    "start_time": "2024-11-15T21:29:10.515Z"
   },
   {
    "duration": 8,
    "start_time": "2024-11-15T21:30:13.443Z"
   },
   {
    "duration": 9,
    "start_time": "2024-11-15T21:47:50.825Z"
   },
   {
    "duration": 851,
    "start_time": "2024-11-15T22:16:29.677Z"
   },
   {
    "duration": 1573,
    "start_time": "2024-11-15T22:17:02.795Z"
   },
   {
    "duration": 86,
    "start_time": "2024-11-15T22:17:04.370Z"
   },
   {
    "duration": 18,
    "start_time": "2024-11-15T22:17:04.458Z"
   },
   {
    "duration": 48,
    "start_time": "2024-11-15T22:17:04.479Z"
   },
   {
    "duration": 12,
    "start_time": "2024-11-15T22:17:04.529Z"
   },
   {
    "duration": 23,
    "start_time": "2024-11-15T22:17:04.543Z"
   },
   {
    "duration": 9,
    "start_time": "2024-11-15T22:17:04.568Z"
   },
   {
    "duration": 42,
    "start_time": "2024-11-15T22:17:04.579Z"
   },
   {
    "duration": 13,
    "start_time": "2024-11-15T22:17:04.625Z"
   },
   {
    "duration": 5,
    "start_time": "2024-11-15T22:17:04.642Z"
   },
   {
    "duration": 13,
    "start_time": "2024-11-15T22:17:04.649Z"
   },
   {
    "duration": 22,
    "start_time": "2024-11-15T22:17:04.664Z"
   },
   {
    "duration": 47,
    "start_time": "2024-11-15T22:17:04.687Z"
   },
   {
    "duration": 5,
    "start_time": "2024-11-15T22:17:04.737Z"
   },
   {
    "duration": 12,
    "start_time": "2024-11-15T22:17:04.744Z"
   },
   {
    "duration": 17,
    "start_time": "2024-11-15T22:17:04.758Z"
   },
   {
    "duration": 43,
    "start_time": "2024-11-15T22:17:04.777Z"
   },
   {
    "duration": 10,
    "start_time": "2024-11-15T22:17:04.821Z"
   },
   {
    "duration": 10,
    "start_time": "2024-11-15T22:17:04.833Z"
   },
   {
    "duration": 215,
    "start_time": "2024-11-15T22:17:04.846Z"
   },
   {
    "duration": 11,
    "start_time": "2024-11-15T22:17:05.064Z"
   },
   {
    "duration": 258,
    "start_time": "2024-11-15T22:17:05.077Z"
   },
   {
    "duration": 8,
    "start_time": "2024-11-15T22:17:05.337Z"
   },
   {
    "duration": 210,
    "start_time": "2024-11-15T22:17:05.347Z"
   },
   {
    "duration": 5,
    "start_time": "2024-11-15T22:17:05.559Z"
   },
   {
    "duration": 65,
    "start_time": "2024-11-15T22:17:05.566Z"
   },
   {
    "duration": 145,
    "start_time": "2024-11-15T22:17:05.633Z"
   },
   {
    "duration": 5,
    "start_time": "2024-11-15T22:17:05.784Z"
   },
   {
    "duration": 35,
    "start_time": "2024-11-15T22:17:05.806Z"
   },
   {
    "duration": 430,
    "start_time": "2024-11-15T22:17:05.844Z"
   },
   {
    "duration": 303,
    "start_time": "2024-11-15T22:17:06.276Z"
   },
   {
    "duration": 24,
    "start_time": "2024-11-15T22:17:06.581Z"
   },
   {
    "duration": 310,
    "start_time": "2024-11-15T22:17:06.607Z"
   },
   {
    "duration": 12,
    "start_time": "2024-11-15T22:17:06.919Z"
   },
   {
    "duration": 326,
    "start_time": "2024-11-15T22:17:06.934Z"
   },
   {
    "duration": 51,
    "start_time": "2024-11-15T22:17:07.262Z"
   },
   {
    "duration": 5,
    "start_time": "2024-11-15T22:17:07.321Z"
   },
   {
    "duration": 27,
    "start_time": "2024-11-15T22:17:07.334Z"
   },
   {
    "duration": 107,
    "start_time": "2024-11-15T22:17:07.363Z"
   },
   {
    "duration": 30,
    "start_time": "2024-11-15T22:17:07.473Z"
   },
   {
    "duration": 18,
    "start_time": "2024-11-15T22:17:07.516Z"
   },
   {
    "duration": 20,
    "start_time": "2024-11-15T22:17:07.536Z"
   },
   {
    "duration": 671,
    "start_time": "2024-11-15T22:17:07.558Z"
   },
   {
    "duration": 664,
    "start_time": "2024-11-15T22:17:08.231Z"
   },
   {
    "duration": 554,
    "start_time": "2024-11-15T22:17:08.900Z"
   },
   {
    "duration": 7,
    "start_time": "2024-11-15T22:17:09.456Z"
   },
   {
    "duration": 64,
    "start_time": "2024-11-15T22:17:09.465Z"
   },
   {
    "duration": 44,
    "start_time": "2024-11-15T22:17:09.532Z"
   },
   {
    "duration": 27,
    "start_time": "2024-11-15T22:17:09.578Z"
   },
   {
    "duration": 51,
    "start_time": "2024-11-15T22:17:09.607Z"
   },
   {
    "duration": 29,
    "start_time": "2024-11-15T22:17:09.659Z"
   },
   {
    "duration": 27,
    "start_time": "2024-11-15T22:17:09.690Z"
   },
   {
    "duration": 48,
    "start_time": "2024-11-15T22:17:09.725Z"
   },
   {
    "duration": 5,
    "start_time": "2024-11-15T22:17:09.775Z"
   },
   {
    "duration": 669,
    "start_time": "2024-11-15T22:17:09.782Z"
   },
   {
    "duration": 7,
    "start_time": "2024-11-15T22:17:10.453Z"
   },
   {
    "duration": 11,
    "start_time": "2024-11-15T22:17:10.462Z"
   },
   {
    "duration": 26,
    "start_time": "2024-11-15T22:17:10.475Z"
   },
   {
    "duration": 31,
    "start_time": "2024-11-15T22:17:10.503Z"
   },
   {
    "duration": 19,
    "start_time": "2024-11-15T22:17:10.536Z"
   },
   {
    "duration": 14,
    "start_time": "2024-11-15T22:17:10.557Z"
   },
   {
    "duration": 36,
    "start_time": "2024-11-15T22:17:10.573Z"
   },
   {
    "duration": 315,
    "start_time": "2024-11-15T22:17:10.611Z"
   },
   {
    "duration": 391,
    "start_time": "2024-11-15T22:17:10.929Z"
   },
   {
    "duration": 8,
    "start_time": "2024-11-15T22:17:11.324Z"
   },
   {
    "duration": 6,
    "start_time": "2024-11-15T22:17:11.334Z"
   },
   {
    "duration": 942,
    "start_time": "2024-11-15T22:17:11.342Z"
   },
   {
    "duration": 12,
    "start_time": "2024-11-15T22:17:12.287Z"
   },
   {
    "duration": 230,
    "start_time": "2024-11-15T22:17:12.302Z"
   },
   {
    "duration": 165,
    "start_time": "2024-11-15T22:19:18.961Z"
   },
   {
    "duration": 716,
    "start_time": "2024-11-15T22:19:34.845Z"
   },
   {
    "duration": 662,
    "start_time": "2024-11-15T22:19:37.857Z"
   },
   {
    "duration": 868,
    "start_time": "2024-11-15T22:19:47.867Z"
   },
   {
    "duration": 637,
    "start_time": "2024-11-15T22:20:02.027Z"
   },
   {
    "duration": 1144,
    "start_time": "2024-11-16T11:49:12.512Z"
   },
   {
    "duration": 66,
    "start_time": "2024-11-16T11:49:13.657Z"
   },
   {
    "duration": 11,
    "start_time": "2024-11-16T11:49:13.724Z"
   },
   {
    "duration": 11,
    "start_time": "2024-11-16T11:49:13.737Z"
   },
   {
    "duration": 7,
    "start_time": "2024-11-16T11:49:13.749Z"
   },
   {
    "duration": 13,
    "start_time": "2024-11-16T11:49:13.758Z"
   },
   {
    "duration": 7,
    "start_time": "2024-11-16T11:49:13.773Z"
   },
   {
    "duration": 30,
    "start_time": "2024-11-16T11:49:13.782Z"
   },
   {
    "duration": 4,
    "start_time": "2024-11-16T11:49:13.814Z"
   },
   {
    "duration": 16,
    "start_time": "2024-11-16T11:49:13.822Z"
   },
   {
    "duration": 5,
    "start_time": "2024-11-16T11:49:13.840Z"
   },
   {
    "duration": 10,
    "start_time": "2024-11-16T11:49:13.847Z"
   },
   {
    "duration": 14,
    "start_time": "2024-11-16T11:49:13.859Z"
   },
   {
    "duration": 5,
    "start_time": "2024-11-16T11:49:13.875Z"
   },
   {
    "duration": 6,
    "start_time": "2024-11-16T11:49:13.881Z"
   },
   {
    "duration": 27,
    "start_time": "2024-11-16T11:49:13.888Z"
   },
   {
    "duration": 6,
    "start_time": "2024-11-16T11:49:13.916Z"
   },
   {
    "duration": 6,
    "start_time": "2024-11-16T11:49:13.924Z"
   },
   {
    "duration": 5,
    "start_time": "2024-11-16T11:49:13.933Z"
   },
   {
    "duration": 155,
    "start_time": "2024-11-16T11:49:13.940Z"
   },
   {
    "duration": 16,
    "start_time": "2024-11-16T11:49:14.097Z"
   },
   {
    "duration": 148,
    "start_time": "2024-11-16T11:49:14.114Z"
   },
   {
    "duration": 5,
    "start_time": "2024-11-16T11:49:14.264Z"
   },
   {
    "duration": 119,
    "start_time": "2024-11-16T11:49:14.270Z"
   },
   {
    "duration": 4,
    "start_time": "2024-11-16T11:49:14.391Z"
   },
   {
    "duration": 18,
    "start_time": "2024-11-16T11:49:14.396Z"
   },
   {
    "duration": 75,
    "start_time": "2024-11-16T11:49:14.415Z"
   },
   {
    "duration": 4,
    "start_time": "2024-11-16T11:49:14.494Z"
   },
   {
    "duration": 15,
    "start_time": "2024-11-16T11:49:14.501Z"
   },
   {
    "duration": 238,
    "start_time": "2024-11-16T11:49:14.518Z"
   },
   {
    "duration": 168,
    "start_time": "2024-11-16T11:49:14.757Z"
   },
   {
    "duration": 7,
    "start_time": "2024-11-16T11:49:14.927Z"
   },
   {
    "duration": 178,
    "start_time": "2024-11-16T11:49:14.936Z"
   },
   {
    "duration": 8,
    "start_time": "2024-11-16T11:49:15.115Z"
   },
   {
    "duration": 178,
    "start_time": "2024-11-16T11:49:15.124Z"
   },
   {
    "duration": 25,
    "start_time": "2024-11-16T11:49:15.304Z"
   },
   {
    "duration": 15,
    "start_time": "2024-11-16T11:49:15.330Z"
   },
   {
    "duration": 28,
    "start_time": "2024-11-16T11:49:15.347Z"
   },
   {
    "duration": 65,
    "start_time": "2024-11-16T11:49:15.377Z"
   },
   {
    "duration": 19,
    "start_time": "2024-11-16T11:49:15.444Z"
   },
   {
    "duration": 8,
    "start_time": "2024-11-16T11:49:15.464Z"
   },
   {
    "duration": 21,
    "start_time": "2024-11-16T11:49:15.473Z"
   },
   {
    "duration": 403,
    "start_time": "2024-11-16T11:49:15.496Z"
   },
   {
    "duration": 393,
    "start_time": "2024-11-16T11:49:15.900Z"
   },
   {
    "duration": 479,
    "start_time": "2024-11-16T11:49:16.295Z"
   },
   {
    "duration": 6,
    "start_time": "2024-11-16T11:49:16.775Z"
   },
   {
    "duration": 43,
    "start_time": "2024-11-16T11:49:16.783Z"
   },
   {
    "duration": 33,
    "start_time": "2024-11-16T11:49:16.827Z"
   },
   {
    "duration": 3,
    "start_time": "2024-11-16T11:49:16.861Z"
   },
   {
    "duration": 28,
    "start_time": "2024-11-16T11:49:16.865Z"
   },
   {
    "duration": 36,
    "start_time": "2024-11-16T11:49:16.895Z"
   },
   {
    "duration": 5,
    "start_time": "2024-11-16T11:49:16.933Z"
   },
   {
    "duration": 3,
    "start_time": "2024-11-16T11:49:16.940Z"
   },
   {
    "duration": 7,
    "start_time": "2024-11-16T11:49:16.945Z"
   },
   {
    "duration": 455,
    "start_time": "2024-11-16T11:49:16.954Z"
   },
   {
    "duration": 6,
    "start_time": "2024-11-16T11:49:17.411Z"
   },
   {
    "duration": 10,
    "start_time": "2024-11-16T11:49:17.418Z"
   },
   {
    "duration": 12,
    "start_time": "2024-11-16T11:49:17.430Z"
   },
   {
    "duration": 38,
    "start_time": "2024-11-16T11:49:17.443Z"
   },
   {
    "duration": 12,
    "start_time": "2024-11-16T11:49:17.483Z"
   },
   {
    "duration": 15,
    "start_time": "2024-11-16T11:49:17.497Z"
   },
   {
    "duration": 20,
    "start_time": "2024-11-16T11:49:17.514Z"
   },
   {
    "duration": 211,
    "start_time": "2024-11-16T11:49:17.535Z"
   },
   {
    "duration": 227,
    "start_time": "2024-11-16T11:49:17.748Z"
   },
   {
    "duration": 5,
    "start_time": "2024-11-16T11:49:17.976Z"
   },
   {
    "duration": 48,
    "start_time": "2024-11-16T11:49:17.982Z"
   },
   {
    "duration": 2592,
    "start_time": "2024-11-16T11:49:18.031Z"
   },
   {
    "duration": 5,
    "start_time": "2024-11-16T11:49:20.624Z"
   },
   {
    "duration": 164,
    "start_time": "2024-11-16T11:49:20.630Z"
   }
  ],
  "kernelspec": {
   "display_name": "base",
   "language": "python",
   "name": "python3"
  },
  "language_info": {
   "codemirror_mode": {
    "name": "ipython",
    "version": 3
   },
   "file_extension": ".py",
   "mimetype": "text/x-python",
   "name": "python",
   "nbconvert_exporter": "python",
   "pygments_lexer": "ipython3",
   "version": "3.12.4"
  },
  "toc": {
   "base_numbering": 1,
   "nav_menu": {},
   "number_sections": true,
   "sideBar": true,
   "skip_h1_title": true,
   "title_cell": "Table of Contents",
   "title_sidebar": "Contents",
   "toc_cell": false,
   "toc_position": {
    "height": "calc(100% - 180px)",
    "left": "10px",
    "top": "150px",
    "width": "200.125px"
   },
   "toc_section_display": true,
   "toc_window_display": true
  }
 },
 "nbformat": 4,
 "nbformat_minor": 5
}
